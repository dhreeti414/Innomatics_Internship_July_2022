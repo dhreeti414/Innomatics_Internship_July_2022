{
 "cells": [
  {
   "cell_type": "markdown",
   "id": "874f46aa",
   "metadata": {},
   "source": [
    "<h1>Introduction of Dataset</h1>"
   ]
  },
  {
   "cell_type": "markdown",
   "id": "7d7f9469",
   "metadata": {},
   "source": [
    "The given adult dataset is also known as “Census Income” dataset. An individual’s annual income results from various factors. Intuitively, it is influenced by the individual’s education level, age, gender, occupation, etc. The dataset contains 15 columns and 48842 rows."
   ]
  },
  {
   "cell_type": "markdown",
   "id": "ca737112",
   "metadata": {},
   "source": [
    "<h1>Objective</h1>"
   ]
  },
  {
   "cell_type": "markdown",
   "id": "4559f10c",
   "metadata": {},
   "source": [
    "The idea is to analyze the dataset and predict whether the income of an adult will exceeds 50k per year or not based on census data. "
   ]
  },
  {
   "cell_type": "code",
   "execution_count": 1,
   "id": "76b408fc",
   "metadata": {},
   "outputs": [],
   "source": [
    "# Import necessary packages\n",
    "import os\n",
    "import numpy as np\n",
    "import pandas as pd\n",
    "%matplotlib inline\n",
    "import matplotlib.pyplot as plt\n",
    "import seaborn as sns"
   ]
  },
  {
   "cell_type": "code",
   "execution_count": 2,
   "id": "6db5b2d5",
   "metadata": {},
   "outputs": [
    {
     "data": {
      "text/html": [
       "<div>\n",
       "<style scoped>\n",
       "    .dataframe tbody tr th:only-of-type {\n",
       "        vertical-align: middle;\n",
       "    }\n",
       "\n",
       "    .dataframe tbody tr th {\n",
       "        vertical-align: top;\n",
       "    }\n",
       "\n",
       "    .dataframe thead th {\n",
       "        text-align: right;\n",
       "    }\n",
       "</style>\n",
       "<table border=\"1\" class=\"dataframe\">\n",
       "  <thead>\n",
       "    <tr style=\"text-align: right;\">\n",
       "      <th></th>\n",
       "      <th>age</th>\n",
       "      <th>workclass</th>\n",
       "      <th>fnlwgt</th>\n",
       "      <th>education</th>\n",
       "      <th>educational-num</th>\n",
       "      <th>marital-status</th>\n",
       "      <th>occupation</th>\n",
       "      <th>relationship</th>\n",
       "      <th>race</th>\n",
       "      <th>gender</th>\n",
       "      <th>capital-gain</th>\n",
       "      <th>capital-loss</th>\n",
       "      <th>hours-per-week</th>\n",
       "      <th>native-country</th>\n",
       "      <th>income</th>\n",
       "    </tr>\n",
       "  </thead>\n",
       "  <tbody>\n",
       "    <tr>\n",
       "      <th>0</th>\n",
       "      <td>25</td>\n",
       "      <td>Private</td>\n",
       "      <td>226802</td>\n",
       "      <td>11th</td>\n",
       "      <td>7</td>\n",
       "      <td>Never-married</td>\n",
       "      <td>Machine-op-inspct</td>\n",
       "      <td>Own-child</td>\n",
       "      <td>Black</td>\n",
       "      <td>Male</td>\n",
       "      <td>0</td>\n",
       "      <td>0</td>\n",
       "      <td>40</td>\n",
       "      <td>United-States</td>\n",
       "      <td>&lt;=50K</td>\n",
       "    </tr>\n",
       "    <tr>\n",
       "      <th>1</th>\n",
       "      <td>38</td>\n",
       "      <td>Private</td>\n",
       "      <td>89814</td>\n",
       "      <td>HS-grad</td>\n",
       "      <td>9</td>\n",
       "      <td>Married-civ-spouse</td>\n",
       "      <td>Farming-fishing</td>\n",
       "      <td>Husband</td>\n",
       "      <td>White</td>\n",
       "      <td>Male</td>\n",
       "      <td>0</td>\n",
       "      <td>0</td>\n",
       "      <td>50</td>\n",
       "      <td>United-States</td>\n",
       "      <td>&lt;=50K</td>\n",
       "    </tr>\n",
       "    <tr>\n",
       "      <th>2</th>\n",
       "      <td>28</td>\n",
       "      <td>Local-gov</td>\n",
       "      <td>336951</td>\n",
       "      <td>Assoc-acdm</td>\n",
       "      <td>12</td>\n",
       "      <td>Married-civ-spouse</td>\n",
       "      <td>Protective-serv</td>\n",
       "      <td>Husband</td>\n",
       "      <td>White</td>\n",
       "      <td>Male</td>\n",
       "      <td>0</td>\n",
       "      <td>0</td>\n",
       "      <td>40</td>\n",
       "      <td>United-States</td>\n",
       "      <td>&gt;50K</td>\n",
       "    </tr>\n",
       "    <tr>\n",
       "      <th>3</th>\n",
       "      <td>44</td>\n",
       "      <td>Private</td>\n",
       "      <td>160323</td>\n",
       "      <td>Some-college</td>\n",
       "      <td>10</td>\n",
       "      <td>Married-civ-spouse</td>\n",
       "      <td>Machine-op-inspct</td>\n",
       "      <td>Husband</td>\n",
       "      <td>Black</td>\n",
       "      <td>Male</td>\n",
       "      <td>7688</td>\n",
       "      <td>0</td>\n",
       "      <td>40</td>\n",
       "      <td>United-States</td>\n",
       "      <td>&gt;50K</td>\n",
       "    </tr>\n",
       "    <tr>\n",
       "      <th>4</th>\n",
       "      <td>18</td>\n",
       "      <td>?</td>\n",
       "      <td>103497</td>\n",
       "      <td>Some-college</td>\n",
       "      <td>10</td>\n",
       "      <td>Never-married</td>\n",
       "      <td>?</td>\n",
       "      <td>Own-child</td>\n",
       "      <td>White</td>\n",
       "      <td>Female</td>\n",
       "      <td>0</td>\n",
       "      <td>0</td>\n",
       "      <td>30</td>\n",
       "      <td>United-States</td>\n",
       "      <td>&lt;=50K</td>\n",
       "    </tr>\n",
       "    <tr>\n",
       "      <th>...</th>\n",
       "      <td>...</td>\n",
       "      <td>...</td>\n",
       "      <td>...</td>\n",
       "      <td>...</td>\n",
       "      <td>...</td>\n",
       "      <td>...</td>\n",
       "      <td>...</td>\n",
       "      <td>...</td>\n",
       "      <td>...</td>\n",
       "      <td>...</td>\n",
       "      <td>...</td>\n",
       "      <td>...</td>\n",
       "      <td>...</td>\n",
       "      <td>...</td>\n",
       "      <td>...</td>\n",
       "    </tr>\n",
       "    <tr>\n",
       "      <th>48837</th>\n",
       "      <td>27</td>\n",
       "      <td>Private</td>\n",
       "      <td>257302</td>\n",
       "      <td>Assoc-acdm</td>\n",
       "      <td>12</td>\n",
       "      <td>Married-civ-spouse</td>\n",
       "      <td>Tech-support</td>\n",
       "      <td>Wife</td>\n",
       "      <td>White</td>\n",
       "      <td>Female</td>\n",
       "      <td>0</td>\n",
       "      <td>0</td>\n",
       "      <td>38</td>\n",
       "      <td>United-States</td>\n",
       "      <td>&lt;=50K</td>\n",
       "    </tr>\n",
       "    <tr>\n",
       "      <th>48838</th>\n",
       "      <td>40</td>\n",
       "      <td>Private</td>\n",
       "      <td>154374</td>\n",
       "      <td>HS-grad</td>\n",
       "      <td>9</td>\n",
       "      <td>Married-civ-spouse</td>\n",
       "      <td>Machine-op-inspct</td>\n",
       "      <td>Husband</td>\n",
       "      <td>White</td>\n",
       "      <td>Male</td>\n",
       "      <td>0</td>\n",
       "      <td>0</td>\n",
       "      <td>40</td>\n",
       "      <td>United-States</td>\n",
       "      <td>&gt;50K</td>\n",
       "    </tr>\n",
       "    <tr>\n",
       "      <th>48839</th>\n",
       "      <td>58</td>\n",
       "      <td>Private</td>\n",
       "      <td>151910</td>\n",
       "      <td>HS-grad</td>\n",
       "      <td>9</td>\n",
       "      <td>Widowed</td>\n",
       "      <td>Adm-clerical</td>\n",
       "      <td>Unmarried</td>\n",
       "      <td>White</td>\n",
       "      <td>Female</td>\n",
       "      <td>0</td>\n",
       "      <td>0</td>\n",
       "      <td>40</td>\n",
       "      <td>United-States</td>\n",
       "      <td>&lt;=50K</td>\n",
       "    </tr>\n",
       "    <tr>\n",
       "      <th>48840</th>\n",
       "      <td>22</td>\n",
       "      <td>Private</td>\n",
       "      <td>201490</td>\n",
       "      <td>HS-grad</td>\n",
       "      <td>9</td>\n",
       "      <td>Never-married</td>\n",
       "      <td>Adm-clerical</td>\n",
       "      <td>Own-child</td>\n",
       "      <td>White</td>\n",
       "      <td>Male</td>\n",
       "      <td>0</td>\n",
       "      <td>0</td>\n",
       "      <td>20</td>\n",
       "      <td>United-States</td>\n",
       "      <td>&lt;=50K</td>\n",
       "    </tr>\n",
       "    <tr>\n",
       "      <th>48841</th>\n",
       "      <td>52</td>\n",
       "      <td>Self-emp-inc</td>\n",
       "      <td>287927</td>\n",
       "      <td>HS-grad</td>\n",
       "      <td>9</td>\n",
       "      <td>Married-civ-spouse</td>\n",
       "      <td>Exec-managerial</td>\n",
       "      <td>Wife</td>\n",
       "      <td>White</td>\n",
       "      <td>Female</td>\n",
       "      <td>15024</td>\n",
       "      <td>0</td>\n",
       "      <td>40</td>\n",
       "      <td>United-States</td>\n",
       "      <td>&gt;50K</td>\n",
       "    </tr>\n",
       "  </tbody>\n",
       "</table>\n",
       "<p>48842 rows × 15 columns</p>\n",
       "</div>"
      ],
      "text/plain": [
       "       age     workclass  fnlwgt     education  educational-num  \\\n",
       "0       25       Private  226802          11th                7   \n",
       "1       38       Private   89814       HS-grad                9   \n",
       "2       28     Local-gov  336951    Assoc-acdm               12   \n",
       "3       44       Private  160323  Some-college               10   \n",
       "4       18             ?  103497  Some-college               10   \n",
       "...    ...           ...     ...           ...              ...   \n",
       "48837   27       Private  257302    Assoc-acdm               12   \n",
       "48838   40       Private  154374       HS-grad                9   \n",
       "48839   58       Private  151910       HS-grad                9   \n",
       "48840   22       Private  201490       HS-grad                9   \n",
       "48841   52  Self-emp-inc  287927       HS-grad                9   \n",
       "\n",
       "           marital-status         occupation relationship   race  gender  \\\n",
       "0           Never-married  Machine-op-inspct    Own-child  Black    Male   \n",
       "1      Married-civ-spouse    Farming-fishing      Husband  White    Male   \n",
       "2      Married-civ-spouse    Protective-serv      Husband  White    Male   \n",
       "3      Married-civ-spouse  Machine-op-inspct      Husband  Black    Male   \n",
       "4           Never-married                  ?    Own-child  White  Female   \n",
       "...                   ...                ...          ...    ...     ...   \n",
       "48837  Married-civ-spouse       Tech-support         Wife  White  Female   \n",
       "48838  Married-civ-spouse  Machine-op-inspct      Husband  White    Male   \n",
       "48839             Widowed       Adm-clerical    Unmarried  White  Female   \n",
       "48840       Never-married       Adm-clerical    Own-child  White    Male   \n",
       "48841  Married-civ-spouse    Exec-managerial         Wife  White  Female   \n",
       "\n",
       "       capital-gain  capital-loss  hours-per-week native-country income  \n",
       "0                 0             0              40  United-States  <=50K  \n",
       "1                 0             0              50  United-States  <=50K  \n",
       "2                 0             0              40  United-States   >50K  \n",
       "3              7688             0              40  United-States   >50K  \n",
       "4                 0             0              30  United-States  <=50K  \n",
       "...             ...           ...             ...            ...    ...  \n",
       "48837             0             0              38  United-States  <=50K  \n",
       "48838             0             0              40  United-States   >50K  \n",
       "48839             0             0              40  United-States  <=50K  \n",
       "48840             0             0              20  United-States  <=50K  \n",
       "48841         15024             0              40  United-States   >50K  \n",
       "\n",
       "[48842 rows x 15 columns]"
      ]
     },
     "execution_count": 2,
     "metadata": {},
     "output_type": "execute_result"
    }
   ],
   "source": [
    "df = pd.read_csv(\"D:\\\\Innomatics_July_Internship\\\\EDA+MoRe\\\\adult.csv\")\n",
    "df"
   ]
  },
  {
   "cell_type": "markdown",
   "id": "92a1ceb2",
   "metadata": {},
   "source": [
    "<h2><i>Data Exploration</i></h2>"
   ]
  },
  {
   "cell_type": "code",
   "execution_count": 3,
   "id": "8c23a3bb",
   "metadata": {},
   "outputs": [
    {
     "data": {
      "text/html": [
       "<div>\n",
       "<style scoped>\n",
       "    .dataframe tbody tr th:only-of-type {\n",
       "        vertical-align: middle;\n",
       "    }\n",
       "\n",
       "    .dataframe tbody tr th {\n",
       "        vertical-align: top;\n",
       "    }\n",
       "\n",
       "    .dataframe thead th {\n",
       "        text-align: right;\n",
       "    }\n",
       "</style>\n",
       "<table border=\"1\" class=\"dataframe\">\n",
       "  <thead>\n",
       "    <tr style=\"text-align: right;\">\n",
       "      <th></th>\n",
       "      <th>age</th>\n",
       "      <th>workclass</th>\n",
       "      <th>fnlwgt</th>\n",
       "      <th>education</th>\n",
       "      <th>educational-num</th>\n",
       "      <th>marital-status</th>\n",
       "      <th>occupation</th>\n",
       "      <th>relationship</th>\n",
       "      <th>race</th>\n",
       "      <th>gender</th>\n",
       "      <th>capital-gain</th>\n",
       "      <th>capital-loss</th>\n",
       "      <th>hours-per-week</th>\n",
       "      <th>native-country</th>\n",
       "      <th>income</th>\n",
       "    </tr>\n",
       "  </thead>\n",
       "  <tbody>\n",
       "    <tr>\n",
       "      <th>0</th>\n",
       "      <td>25</td>\n",
       "      <td>Private</td>\n",
       "      <td>226802</td>\n",
       "      <td>11th</td>\n",
       "      <td>7</td>\n",
       "      <td>Never-married</td>\n",
       "      <td>Machine-op-inspct</td>\n",
       "      <td>Own-child</td>\n",
       "      <td>Black</td>\n",
       "      <td>Male</td>\n",
       "      <td>0</td>\n",
       "      <td>0</td>\n",
       "      <td>40</td>\n",
       "      <td>United-States</td>\n",
       "      <td>&lt;=50K</td>\n",
       "    </tr>\n",
       "    <tr>\n",
       "      <th>1</th>\n",
       "      <td>38</td>\n",
       "      <td>Private</td>\n",
       "      <td>89814</td>\n",
       "      <td>HS-grad</td>\n",
       "      <td>9</td>\n",
       "      <td>Married-civ-spouse</td>\n",
       "      <td>Farming-fishing</td>\n",
       "      <td>Husband</td>\n",
       "      <td>White</td>\n",
       "      <td>Male</td>\n",
       "      <td>0</td>\n",
       "      <td>0</td>\n",
       "      <td>50</td>\n",
       "      <td>United-States</td>\n",
       "      <td>&lt;=50K</td>\n",
       "    </tr>\n",
       "    <tr>\n",
       "      <th>2</th>\n",
       "      <td>28</td>\n",
       "      <td>Local-gov</td>\n",
       "      <td>336951</td>\n",
       "      <td>Assoc-acdm</td>\n",
       "      <td>12</td>\n",
       "      <td>Married-civ-spouse</td>\n",
       "      <td>Protective-serv</td>\n",
       "      <td>Husband</td>\n",
       "      <td>White</td>\n",
       "      <td>Male</td>\n",
       "      <td>0</td>\n",
       "      <td>0</td>\n",
       "      <td>40</td>\n",
       "      <td>United-States</td>\n",
       "      <td>&gt;50K</td>\n",
       "    </tr>\n",
       "    <tr>\n",
       "      <th>3</th>\n",
       "      <td>44</td>\n",
       "      <td>Private</td>\n",
       "      <td>160323</td>\n",
       "      <td>Some-college</td>\n",
       "      <td>10</td>\n",
       "      <td>Married-civ-spouse</td>\n",
       "      <td>Machine-op-inspct</td>\n",
       "      <td>Husband</td>\n",
       "      <td>Black</td>\n",
       "      <td>Male</td>\n",
       "      <td>7688</td>\n",
       "      <td>0</td>\n",
       "      <td>40</td>\n",
       "      <td>United-States</td>\n",
       "      <td>&gt;50K</td>\n",
       "    </tr>\n",
       "    <tr>\n",
       "      <th>4</th>\n",
       "      <td>18</td>\n",
       "      <td>?</td>\n",
       "      <td>103497</td>\n",
       "      <td>Some-college</td>\n",
       "      <td>10</td>\n",
       "      <td>Never-married</td>\n",
       "      <td>?</td>\n",
       "      <td>Own-child</td>\n",
       "      <td>White</td>\n",
       "      <td>Female</td>\n",
       "      <td>0</td>\n",
       "      <td>0</td>\n",
       "      <td>30</td>\n",
       "      <td>United-States</td>\n",
       "      <td>&lt;=50K</td>\n",
       "    </tr>\n",
       "  </tbody>\n",
       "</table>\n",
       "</div>"
      ],
      "text/plain": [
       "   age  workclass  fnlwgt     education  educational-num      marital-status  \\\n",
       "0   25    Private  226802          11th                7       Never-married   \n",
       "1   38    Private   89814       HS-grad                9  Married-civ-spouse   \n",
       "2   28  Local-gov  336951    Assoc-acdm               12  Married-civ-spouse   \n",
       "3   44    Private  160323  Some-college               10  Married-civ-spouse   \n",
       "4   18          ?  103497  Some-college               10       Never-married   \n",
       "\n",
       "          occupation relationship   race  gender  capital-gain  capital-loss  \\\n",
       "0  Machine-op-inspct    Own-child  Black    Male             0             0   \n",
       "1    Farming-fishing      Husband  White    Male             0             0   \n",
       "2    Protective-serv      Husband  White    Male             0             0   \n",
       "3  Machine-op-inspct      Husband  Black    Male          7688             0   \n",
       "4                  ?    Own-child  White  Female             0             0   \n",
       "\n",
       "   hours-per-week native-country income  \n",
       "0              40  United-States  <=50K  \n",
       "1              50  United-States  <=50K  \n",
       "2              40  United-States   >50K  \n",
       "3              40  United-States   >50K  \n",
       "4              30  United-States  <=50K  "
      ]
     },
     "execution_count": 3,
     "metadata": {},
     "output_type": "execute_result"
    }
   ],
   "source": [
    "df.head()"
   ]
  },
  {
   "cell_type": "code",
   "execution_count": 4,
   "id": "a4c7bbdf",
   "metadata": {},
   "outputs": [
    {
     "data": {
      "text/html": [
       "<div>\n",
       "<style scoped>\n",
       "    .dataframe tbody tr th:only-of-type {\n",
       "        vertical-align: middle;\n",
       "    }\n",
       "\n",
       "    .dataframe tbody tr th {\n",
       "        vertical-align: top;\n",
       "    }\n",
       "\n",
       "    .dataframe thead th {\n",
       "        text-align: right;\n",
       "    }\n",
       "</style>\n",
       "<table border=\"1\" class=\"dataframe\">\n",
       "  <thead>\n",
       "    <tr style=\"text-align: right;\">\n",
       "      <th></th>\n",
       "      <th>age</th>\n",
       "      <th>workclass</th>\n",
       "      <th>fnlwgt</th>\n",
       "      <th>education</th>\n",
       "      <th>educational-num</th>\n",
       "      <th>marital-status</th>\n",
       "      <th>occupation</th>\n",
       "      <th>relationship</th>\n",
       "      <th>race</th>\n",
       "      <th>gender</th>\n",
       "      <th>capital-gain</th>\n",
       "      <th>capital-loss</th>\n",
       "      <th>hours-per-week</th>\n",
       "      <th>native-country</th>\n",
       "      <th>income</th>\n",
       "    </tr>\n",
       "  </thead>\n",
       "  <tbody>\n",
       "    <tr>\n",
       "      <th>48837</th>\n",
       "      <td>27</td>\n",
       "      <td>Private</td>\n",
       "      <td>257302</td>\n",
       "      <td>Assoc-acdm</td>\n",
       "      <td>12</td>\n",
       "      <td>Married-civ-spouse</td>\n",
       "      <td>Tech-support</td>\n",
       "      <td>Wife</td>\n",
       "      <td>White</td>\n",
       "      <td>Female</td>\n",
       "      <td>0</td>\n",
       "      <td>0</td>\n",
       "      <td>38</td>\n",
       "      <td>United-States</td>\n",
       "      <td>&lt;=50K</td>\n",
       "    </tr>\n",
       "    <tr>\n",
       "      <th>48838</th>\n",
       "      <td>40</td>\n",
       "      <td>Private</td>\n",
       "      <td>154374</td>\n",
       "      <td>HS-grad</td>\n",
       "      <td>9</td>\n",
       "      <td>Married-civ-spouse</td>\n",
       "      <td>Machine-op-inspct</td>\n",
       "      <td>Husband</td>\n",
       "      <td>White</td>\n",
       "      <td>Male</td>\n",
       "      <td>0</td>\n",
       "      <td>0</td>\n",
       "      <td>40</td>\n",
       "      <td>United-States</td>\n",
       "      <td>&gt;50K</td>\n",
       "    </tr>\n",
       "    <tr>\n",
       "      <th>48839</th>\n",
       "      <td>58</td>\n",
       "      <td>Private</td>\n",
       "      <td>151910</td>\n",
       "      <td>HS-grad</td>\n",
       "      <td>9</td>\n",
       "      <td>Widowed</td>\n",
       "      <td>Adm-clerical</td>\n",
       "      <td>Unmarried</td>\n",
       "      <td>White</td>\n",
       "      <td>Female</td>\n",
       "      <td>0</td>\n",
       "      <td>0</td>\n",
       "      <td>40</td>\n",
       "      <td>United-States</td>\n",
       "      <td>&lt;=50K</td>\n",
       "    </tr>\n",
       "    <tr>\n",
       "      <th>48840</th>\n",
       "      <td>22</td>\n",
       "      <td>Private</td>\n",
       "      <td>201490</td>\n",
       "      <td>HS-grad</td>\n",
       "      <td>9</td>\n",
       "      <td>Never-married</td>\n",
       "      <td>Adm-clerical</td>\n",
       "      <td>Own-child</td>\n",
       "      <td>White</td>\n",
       "      <td>Male</td>\n",
       "      <td>0</td>\n",
       "      <td>0</td>\n",
       "      <td>20</td>\n",
       "      <td>United-States</td>\n",
       "      <td>&lt;=50K</td>\n",
       "    </tr>\n",
       "    <tr>\n",
       "      <th>48841</th>\n",
       "      <td>52</td>\n",
       "      <td>Self-emp-inc</td>\n",
       "      <td>287927</td>\n",
       "      <td>HS-grad</td>\n",
       "      <td>9</td>\n",
       "      <td>Married-civ-spouse</td>\n",
       "      <td>Exec-managerial</td>\n",
       "      <td>Wife</td>\n",
       "      <td>White</td>\n",
       "      <td>Female</td>\n",
       "      <td>15024</td>\n",
       "      <td>0</td>\n",
       "      <td>40</td>\n",
       "      <td>United-States</td>\n",
       "      <td>&gt;50K</td>\n",
       "    </tr>\n",
       "  </tbody>\n",
       "</table>\n",
       "</div>"
      ],
      "text/plain": [
       "       age     workclass  fnlwgt   education  educational-num  \\\n",
       "48837   27       Private  257302  Assoc-acdm               12   \n",
       "48838   40       Private  154374     HS-grad                9   \n",
       "48839   58       Private  151910     HS-grad                9   \n",
       "48840   22       Private  201490     HS-grad                9   \n",
       "48841   52  Self-emp-inc  287927     HS-grad                9   \n",
       "\n",
       "           marital-status         occupation relationship   race  gender  \\\n",
       "48837  Married-civ-spouse       Tech-support         Wife  White  Female   \n",
       "48838  Married-civ-spouse  Machine-op-inspct      Husband  White    Male   \n",
       "48839             Widowed       Adm-clerical    Unmarried  White  Female   \n",
       "48840       Never-married       Adm-clerical    Own-child  White    Male   \n",
       "48841  Married-civ-spouse    Exec-managerial         Wife  White  Female   \n",
       "\n",
       "       capital-gain  capital-loss  hours-per-week native-country income  \n",
       "48837             0             0              38  United-States  <=50K  \n",
       "48838             0             0              40  United-States   >50K  \n",
       "48839             0             0              40  United-States  <=50K  \n",
       "48840             0             0              20  United-States  <=50K  \n",
       "48841         15024             0              40  United-States   >50K  "
      ]
     },
     "execution_count": 4,
     "metadata": {},
     "output_type": "execute_result"
    }
   ],
   "source": [
    "df.tail()"
   ]
  },
  {
   "cell_type": "code",
   "execution_count": 5,
   "id": "be114b49",
   "metadata": {},
   "outputs": [
    {
     "name": "stdout",
     "output_type": "stream",
     "text": [
      "<class 'pandas.core.frame.DataFrame'>\n",
      "RangeIndex: 48842 entries, 0 to 48841\n",
      "Data columns (total 15 columns):\n",
      " #   Column           Non-Null Count  Dtype \n",
      "---  ------           --------------  ----- \n",
      " 0   age              48842 non-null  int64 \n",
      " 1   workclass        48842 non-null  object\n",
      " 2   fnlwgt           48842 non-null  int64 \n",
      " 3   education        48842 non-null  object\n",
      " 4   educational-num  48842 non-null  int64 \n",
      " 5   marital-status   48842 non-null  object\n",
      " 6   occupation       48842 non-null  object\n",
      " 7   relationship     48842 non-null  object\n",
      " 8   race             48842 non-null  object\n",
      " 9   gender           48842 non-null  object\n",
      " 10  capital-gain     48842 non-null  int64 \n",
      " 11  capital-loss     48842 non-null  int64 \n",
      " 12  hours-per-week   48842 non-null  int64 \n",
      " 13  native-country   48842 non-null  object\n",
      " 14  income           48842 non-null  object\n",
      "dtypes: int64(6), object(9)\n",
      "memory usage: 5.6+ MB\n"
     ]
    }
   ],
   "source": [
    "df.info()"
   ]
  },
  {
   "cell_type": "code",
   "execution_count": 6,
   "id": "b3eb6f9b",
   "metadata": {},
   "outputs": [
    {
     "data": {
      "text/plain": [
       "Index(['age', 'workclass', 'final weight', 'education', 'educational num',\n",
       "       'marital status', 'occupation', 'relationship', 'race', 'gender',\n",
       "       'capital gain', 'capital loss', 'hours per week', 'native country',\n",
       "       'income'],\n",
       "      dtype='object')"
      ]
     },
     "execution_count": 6,
     "metadata": {},
     "output_type": "execute_result"
    }
   ],
   "source": [
    "# replacing some column names to proper names for better understanding\n",
    "df.rename(columns={'capital-gain':'capital gain', 'capital-loss':'capital loss', 'native-country':'native country',\n",
    "                   'hours-per-week':'hours per week','marital-status':'marital status','educational-num':'educational num',\n",
    "                  'fnlwgt':'final weight'},\n",
    "          inplace=True)\n",
    "df.columns"
   ]
  },
  {
   "cell_type": "markdown",
   "id": "ebd6b18f",
   "metadata": {},
   "source": [
    "<h2><i>Data Cleaning</i></h2>"
   ]
  },
  {
   "cell_type": "code",
   "execution_count": 7,
   "id": "f2ff264c",
   "metadata": {},
   "outputs": [
    {
     "data": {
      "text/plain": [
       "age                   0\n",
       "workclass          2799\n",
       "final weight          0\n",
       "education             0\n",
       "educational num       0\n",
       "marital status        0\n",
       "occupation         2809\n",
       "relationship          0\n",
       "race                  0\n",
       "gender                0\n",
       "capital gain          0\n",
       "capital loss          0\n",
       "hours per week        0\n",
       "native country      857\n",
       "income                0\n",
       "dtype: int64"
      ]
     },
     "execution_count": 7,
     "metadata": {},
     "output_type": "execute_result"
    }
   ],
   "source": [
    "# checking the special characters in the dataset\n",
    "df.isin(['?']).sum()"
   ]
  },
  {
   "cell_type": "code",
   "execution_count": 8,
   "id": "27e54d05",
   "metadata": {},
   "outputs": [],
   "source": [
    "# replacing the special character with NaN\n",
    "df['workclass'] = df['workclass'].replace('?', np.nan)\n",
    "df['occupation'] = df['occupation'].replace('?', np.nan)\n",
    "df['native country'] = df['native country'].replace('?', np.nan)"
   ]
  },
  {
   "cell_type": "code",
   "execution_count": 9,
   "id": "6101e76f",
   "metadata": {},
   "outputs": [
    {
     "data": {
      "text/plain": [
       "age                0\n",
       "workclass          0\n",
       "final weight       0\n",
       "education          0\n",
       "educational num    0\n",
       "marital status     0\n",
       "occupation         0\n",
       "relationship       0\n",
       "race               0\n",
       "gender             0\n",
       "capital gain       0\n",
       "capital loss       0\n",
       "hours per week     0\n",
       "native country     0\n",
       "income             0\n",
       "dtype: int64"
      ]
     },
     "execution_count": 9,
     "metadata": {},
     "output_type": "execute_result"
    }
   ],
   "source": [
    "df.isin(['?']).sum()"
   ]
  },
  {
   "cell_type": "markdown",
   "id": "d3099db6",
   "metadata": {},
   "source": [
    "<h4>Observation</h4><ul><li>When we check for special character in dataset. We found some.<li>We convert the special character to null value.</ul>"
   ]
  },
  {
   "cell_type": "code",
   "execution_count": 10,
   "id": "1471d267",
   "metadata": {},
   "outputs": [
    {
     "data": {
      "text/plain": [
       "age                   0\n",
       "workclass          2799\n",
       "final weight          0\n",
       "education             0\n",
       "educational num       0\n",
       "marital status        0\n",
       "occupation         2809\n",
       "relationship          0\n",
       "race                  0\n",
       "gender                0\n",
       "capital gain          0\n",
       "capital loss          0\n",
       "hours per week        0\n",
       "native country      857\n",
       "income                0\n",
       "dtype: int64"
      ]
     },
     "execution_count": 10,
     "metadata": {},
     "output_type": "execute_result"
    }
   ],
   "source": [
    "# by checking null values we confirmed that all the special characters converted into NaN successfully\n",
    "df.isnull().sum()"
   ]
  },
  {
   "cell_type": "code",
   "execution_count": 11,
   "id": "417a5fff",
   "metadata": {},
   "outputs": [],
   "source": [
    "# droping all the null or missing values\n",
    "df.dropna(how='any', inplace=True)"
   ]
  },
  {
   "cell_type": "code",
   "execution_count": 12,
   "id": "be07717a",
   "metadata": {},
   "outputs": [
    {
     "data": {
      "text/plain": [
       "age                0\n",
       "workclass          0\n",
       "final weight       0\n",
       "education          0\n",
       "educational num    0\n",
       "marital status     0\n",
       "occupation         0\n",
       "relationship       0\n",
       "race               0\n",
       "gender             0\n",
       "capital gain       0\n",
       "capital loss       0\n",
       "hours per week     0\n",
       "native country     0\n",
       "income             0\n",
       "dtype: int64"
      ]
     },
     "execution_count": 12,
     "metadata": {},
     "output_type": "execute_result"
    }
   ],
   "source": [
    "df.isnull().sum()"
   ]
  },
  {
   "cell_type": "markdown",
   "id": "a1e6d1cb",
   "metadata": {},
   "source": [
    "<h4>Observation</h4><ul><li>After converting the special character to null value. <li>We then remove it from the dataset.<li>And again after checking we found no null values and special character in the dataset.</ul>"
   ]
  },
  {
   "cell_type": "code",
   "execution_count": 13,
   "id": "5f815d27",
   "metadata": {},
   "outputs": [
    {
     "data": {
      "text/plain": [
       "47"
      ]
     },
     "execution_count": 13,
     "metadata": {},
     "output_type": "execute_result"
    }
   ],
   "source": [
    "# checking the duplicate values\n",
    "df.duplicated().sum()"
   ]
  },
  {
   "cell_type": "code",
   "execution_count": 14,
   "id": "74e42302",
   "metadata": {},
   "outputs": [],
   "source": [
    "df= df.drop_duplicates()"
   ]
  },
  {
   "cell_type": "code",
   "execution_count": 15,
   "id": "1266af48",
   "metadata": {},
   "outputs": [
    {
     "data": {
      "text/plain": [
       "0"
      ]
     },
     "execution_count": 15,
     "metadata": {},
     "output_type": "execute_result"
    }
   ],
   "source": [
    "df.duplicated().sum()"
   ]
  },
  {
   "cell_type": "markdown",
   "id": "308f3b9b",
   "metadata": {},
   "source": [
    "<h4>Observation</h4><ul><li>Checking for duplicates we see some duplicate values and remove it from the dataset.</ul>"
   ]
  },
  {
   "cell_type": "code",
   "execution_count": 16,
   "id": "4815cd39",
   "metadata": {},
   "outputs": [
    {
     "data": {
      "text/html": [
       "<div>\n",
       "<style scoped>\n",
       "    .dataframe tbody tr th:only-of-type {\n",
       "        vertical-align: middle;\n",
       "    }\n",
       "\n",
       "    .dataframe tbody tr th {\n",
       "        vertical-align: top;\n",
       "    }\n",
       "\n",
       "    .dataframe thead th {\n",
       "        text-align: right;\n",
       "    }\n",
       "</style>\n",
       "<table border=\"1\" class=\"dataframe\">\n",
       "  <thead>\n",
       "    <tr style=\"text-align: right;\">\n",
       "      <th></th>\n",
       "      <th>age</th>\n",
       "      <th>final weight</th>\n",
       "      <th>educational num</th>\n",
       "      <th>capital gain</th>\n",
       "      <th>capital loss</th>\n",
       "      <th>hours per week</th>\n",
       "    </tr>\n",
       "  </thead>\n",
       "  <tbody>\n",
       "    <tr>\n",
       "      <th>count</th>\n",
       "      <td>45175.000000</td>\n",
       "      <td>4.517500e+04</td>\n",
       "      <td>45175.000000</td>\n",
       "      <td>45175.000000</td>\n",
       "      <td>45175.000000</td>\n",
       "      <td>45175.000000</td>\n",
       "    </tr>\n",
       "    <tr>\n",
       "      <th>mean</th>\n",
       "      <td>38.556170</td>\n",
       "      <td>1.897388e+05</td>\n",
       "      <td>10.119314</td>\n",
       "      <td>1102.576270</td>\n",
       "      <td>88.687593</td>\n",
       "      <td>40.942512</td>\n",
       "    </tr>\n",
       "    <tr>\n",
       "      <th>std</th>\n",
       "      <td>13.215349</td>\n",
       "      <td>1.056524e+05</td>\n",
       "      <td>2.551740</td>\n",
       "      <td>7510.249876</td>\n",
       "      <td>405.156611</td>\n",
       "      <td>12.007730</td>\n",
       "    </tr>\n",
       "    <tr>\n",
       "      <th>min</th>\n",
       "      <td>17.000000</td>\n",
       "      <td>1.349200e+04</td>\n",
       "      <td>1.000000</td>\n",
       "      <td>0.000000</td>\n",
       "      <td>0.000000</td>\n",
       "      <td>1.000000</td>\n",
       "    </tr>\n",
       "    <tr>\n",
       "      <th>25%</th>\n",
       "      <td>28.000000</td>\n",
       "      <td>1.173925e+05</td>\n",
       "      <td>9.000000</td>\n",
       "      <td>0.000000</td>\n",
       "      <td>0.000000</td>\n",
       "      <td>40.000000</td>\n",
       "    </tr>\n",
       "    <tr>\n",
       "      <th>50%</th>\n",
       "      <td>37.000000</td>\n",
       "      <td>1.783120e+05</td>\n",
       "      <td>10.000000</td>\n",
       "      <td>0.000000</td>\n",
       "      <td>0.000000</td>\n",
       "      <td>40.000000</td>\n",
       "    </tr>\n",
       "    <tr>\n",
       "      <th>75%</th>\n",
       "      <td>47.000000</td>\n",
       "      <td>2.379030e+05</td>\n",
       "      <td>13.000000</td>\n",
       "      <td>0.000000</td>\n",
       "      <td>0.000000</td>\n",
       "      <td>45.000000</td>\n",
       "    </tr>\n",
       "    <tr>\n",
       "      <th>max</th>\n",
       "      <td>90.000000</td>\n",
       "      <td>1.490400e+06</td>\n",
       "      <td>16.000000</td>\n",
       "      <td>99999.000000</td>\n",
       "      <td>4356.000000</td>\n",
       "      <td>99.000000</td>\n",
       "    </tr>\n",
       "  </tbody>\n",
       "</table>\n",
       "</div>"
      ],
      "text/plain": [
       "                age  final weight  educational num  capital gain  \\\n",
       "count  45175.000000  4.517500e+04     45175.000000  45175.000000   \n",
       "mean      38.556170  1.897388e+05        10.119314   1102.576270   \n",
       "std       13.215349  1.056524e+05         2.551740   7510.249876   \n",
       "min       17.000000  1.349200e+04         1.000000      0.000000   \n",
       "25%       28.000000  1.173925e+05         9.000000      0.000000   \n",
       "50%       37.000000  1.783120e+05        10.000000      0.000000   \n",
       "75%       47.000000  2.379030e+05        13.000000      0.000000   \n",
       "max       90.000000  1.490400e+06        16.000000  99999.000000   \n",
       "\n",
       "       capital loss  hours per week  \n",
       "count  45175.000000    45175.000000  \n",
       "mean      88.687593       40.942512  \n",
       "std      405.156611       12.007730  \n",
       "min        0.000000        1.000000  \n",
       "25%        0.000000       40.000000  \n",
       "50%        0.000000       40.000000  \n",
       "75%        0.000000       45.000000  \n",
       "max     4356.000000       99.000000  "
      ]
     },
     "execution_count": 16,
     "metadata": {},
     "output_type": "execute_result"
    }
   ],
   "source": [
    "# checking descriptive statistics\n",
    "df.describe()"
   ]
  },
  {
   "cell_type": "markdown",
   "id": "d068ac67",
   "metadata": {},
   "source": [
    "<h4>Observation</h4><ul><li>Describe function display all the descriptive statistical values of the dataset features.</ul>"
   ]
  },
  {
   "cell_type": "markdown",
   "id": "9cf0d891",
   "metadata": {},
   "source": [
    "<h2><i>Univariate Analysis</i></h2>"
   ]
  },
  {
   "cell_type": "code",
   "execution_count": 17,
   "id": "0a1e6418",
   "metadata": {},
   "outputs": [
    {
     "data": {
      "text/plain": [
       "<AxesSubplot:>"
      ]
     },
     "execution_count": 17,
     "metadata": {},
     "output_type": "execute_result"
    },
    {
     "data": {
      "image/png": "[encoded data removed]",
      "text/plain": [
       "<Figure size 432x288 with 1 Axes>"
      ]
     },
     "metadata": {
      "needs_background": "light"
     },
     "output_type": "display_data"
    }
   ],
   "source": [
    "df['age'].hist()"
   ]
  },
  {
   "cell_type": "markdown",
   "id": "b08aef77",
   "metadata": {},
   "source": [
    "<h4>Observation</h4><ul>As per above histogram\n",
    "<li>This column has 25 % below age 28\n",
    "<li>This column has 50 % below age 37\n",
    "<li>This column has 75 % below age 47\n",
    "<li>Most of the age values are between 17 to 50</ul>"
   ]
  },
  {
   "cell_type": "code",
   "execution_count": 18,
   "id": "f96f7125",
   "metadata": {},
   "outputs": [
    {
     "data": {
      "text/plain": [
       "36495"
      ]
     },
     "execution_count": 18,
     "metadata": {},
     "output_type": "execute_result"
    }
   ],
   "source": [
    "# total number of people having age between 17 and 50\n",
    "len(df[df['age'].between(17,50)])"
   ]
  },
  {
   "cell_type": "code",
   "execution_count": 19,
   "id": "7719d7d8",
   "metadata": {},
   "outputs": [
    {
     "data": {
      "text/plain": [
       "<AxesSubplot:>"
      ]
     },
     "execution_count": 19,
     "metadata": {},
     "output_type": "execute_result"
    },
    {
     "data": {
      "image/png": "[encoded data removed]",
      "text/plain": [
       "<Figure size 720x360 with 1 Axes>"
      ]
     },
     "metadata": {
      "needs_background": "light"
     },
     "output_type": "display_data"
    }
   ],
   "source": [
    "df['workclass'].hist(figsize=(10,5))"
   ]
  },
  {
   "cell_type": "markdown",
   "id": "41a6aa34",
   "metadata": {},
   "source": [
    "<h4>Observation</h4><ul><li>Most of the employees are from Private sector</ul>"
   ]
  },
  {
   "cell_type": "code",
   "execution_count": 20,
   "id": "677dfef2",
   "metadata": {},
   "outputs": [
    {
     "data": {
      "text/plain": [
       "10072"
      ]
     },
     "execution_count": 20,
     "metadata": {},
     "output_type": "execute_result"
    }
   ],
   "source": [
    "# people having both bachelor and master degree\n",
    "len(df[df['education'].isin(['Bachelors', 'Masters'])])"
   ]
  },
  {
   "cell_type": "code",
   "execution_count": 21,
   "id": "5cc775fb",
   "metadata": {},
   "outputs": [
    {
     "data": {
      "text/plain": [
       "<seaborn.axisgrid.FacetGrid at 0x1f0de8fc3a0>"
      ]
     },
     "execution_count": 21,
     "metadata": {},
     "output_type": "execute_result"
    },
    {
     "data": {
      "image/png": "[encoded data removed]",
      "text/plain": [
       "<Figure size 1440x360 with 1 Axes>"
      ]
     },
     "metadata": {
      "needs_background": "light"
     },
     "output_type": "display_data"
    }
   ],
   "source": [
    "sns.displot(x=df['education'], aspect=4)"
   ]
  },
  {
   "cell_type": "markdown",
   "id": "14922e1d",
   "metadata": {},
   "source": [
    "<h4>Observation</h4><ul><li>Most of the people are High School graduates.</ul>"
   ]
  },
  {
   "cell_type": "markdown",
   "id": "9446e6e4",
   "metadata": {},
   "source": [
    "<h2><i>Bivariate Analysis</i></h2>"
   ]
  },
  {
   "cell_type": "code",
   "execution_count": 22,
   "id": "4099c800",
   "metadata": {},
   "outputs": [
    {
     "data": {
      "text/plain": [
       "<AxesSubplot:xlabel='income', ylabel='age'>"
      ]
     },
     "execution_count": 22,
     "metadata": {},
     "output_type": "execute_result"
    },
    {
     "data": {
      "image/png": "[encoded data removed]",
      "text/plain": [
       "<Figure size 432x288 with 1 Axes>"
      ]
     },
     "metadata": {
      "needs_background": "light"
     },
     "output_type": "display_data"
    }
   ],
   "source": [
    "sns.boxplot(data=df, x='income', y='age')"
   ]
  },
  {
   "cell_type": "markdown",
   "id": "0c3ce96f",
   "metadata": {},
   "source": [
    "<h4>Observation</h4><ul><li>Most of the people having income less than or equal to 50K are between age 25-45<li>Most of the people having income more than 50K are between age 37-50</ul>"
   ]
  },
  {
   "cell_type": "code",
   "execution_count": 23,
   "id": "87cd5967",
   "metadata": {},
   "outputs": [
    {
     "data": {
      "text/plain": [
       "<AxesSubplot:xlabel='income', ylabel='count'>"
      ]
     },
     "execution_count": 23,
     "metadata": {},
     "output_type": "execute_result"
    },
    {
     "data": {
      "image/png": "[encoded data removed]",
      "text/plain": [
       "<Figure size 432x288 with 1 Axes>"
      ]
     },
     "metadata": {
      "needs_background": "light"
     },
     "output_type": "display_data"
    }
   ],
   "source": [
    "sns.countplot(data=df, x='income')"
   ]
  },
  {
   "cell_type": "markdown",
   "id": "0c024eea",
   "metadata": {},
   "source": [
    "<h4>Observation</h4><ul><li>Most of the people having income less than or equal to 50K.</ul>"
   ]
  },
  {
   "cell_type": "code",
   "execution_count": 24,
   "id": "f2b5c47d",
   "metadata": {},
   "outputs": [
    {
     "data": {
      "text/plain": [
       "<seaborn.axisgrid.FacetGrid at 0x1f0de9ad160>"
      ]
     },
     "execution_count": 24,
     "metadata": {},
     "output_type": "execute_result"
    },
    {
     "data": {
      "image/png": "[encoded data removed]",
      "text/plain": [
       "<Figure size 360x360 with 1 Axes>"
      ]
     },
     "metadata": {
      "needs_background": "light"
     },
     "output_type": "display_data"
    }
   ],
   "source": [
    "# plotting a bar graph for Education against Income to see the correlation between these columns \n",
    "sns.catplot(data=df, x='income', y='education', jitter=0.4,linewidth=1,edgecolor='black')"
   ]
  },
  {
   "cell_type": "markdown",
   "id": "8d8174cf",
   "metadata": {},
   "source": [
    "<h4>Observation</h4><ul><li>Most of the people having income less than or equal to 50K are from all the education levels.<li>Most of the people having income more than 50K are mostly done higher degrees. </ul>"
   ]
  },
  {
   "cell_type": "code",
   "execution_count": 25,
   "id": "f2607997",
   "metadata": {},
   "outputs": [
    {
     "data": {
      "text/plain": [
       "<seaborn.axisgrid.FacetGrid at 0x1f0dd598e80>"
      ]
     },
     "execution_count": 25,
     "metadata": {},
     "output_type": "execute_result"
    },
    {
     "data": {
      "image/png": "[encoded data removed]",
      "text/plain": [
       "<Figure size 360x360 with 1 Axes>"
      ]
     },
     "metadata": {
      "needs_background": "light"
     },
     "output_type": "display_data"
    }
   ],
   "source": [
    "# plotting a bar graph for workclass against Income to see the correlation between these columns \n",
    "sns.catplot(data=df, x='income', y='workclass', jitter=0.4,linewidth=1,edgecolor='black')"
   ]
  },
  {
   "cell_type": "markdown",
   "id": "0f7e8213",
   "metadata": {},
   "source": [
    "<h4>Observation</h4><ul><li>Most of the people having income less than or equal to 50K having well workclass.<li>Most of the people having income more than 50K having excellent workclass. </ul>"
   ]
  },
  {
   "cell_type": "code",
   "execution_count": 26,
   "id": "2c57900d",
   "metadata": {},
   "outputs": [
    {
     "data": {
      "text/plain": [
       "<seaborn.axisgrid.FacetGrid at 0x1f0dea80fa0>"
      ]
     },
     "execution_count": 26,
     "metadata": {},
     "output_type": "execute_result"
    },
    {
     "data": {
      "image/png": "[encoded data removed]",
      "text/plain": [
       "<Figure size 360x360 with 2 Axes>"
      ]
     },
     "metadata": {
      "needs_background": "light"
     },
     "output_type": "display_data"
    }
   ],
   "source": [
    "# plotting a bar graph for gender against Income to see the correlation between these columns \n",
    "sns.displot(data=df, x='income', y='gender', cbar=True)"
   ]
  },
  {
   "cell_type": "markdown",
   "id": "a500b1e4",
   "metadata": {},
   "source": [
    "<h4>Observation</h4><ul><li>Most of the people having income less than or equal to 50K are mostly male and some female.<li>Most of the people having income more than 50K are mostly male and some female. </ul>"
   ]
  },
  {
   "cell_type": "code",
   "execution_count": 27,
   "id": "36ea92c2",
   "metadata": {},
   "outputs": [
    {
     "data": {
      "text/plain": [
       "<seaborn.axisgrid.FacetGrid at 0x1f0dea80b20>"
      ]
     },
     "execution_count": 27,
     "metadata": {},
     "output_type": "execute_result"
    },
    {
     "data": {
      "image/png": "[encoded data removed]",
      "text/plain": [
       "<Figure size 360x360 with 2 Axes>"
      ]
     },
     "metadata": {
      "needs_background": "light"
     },
     "output_type": "display_data"
    }
   ],
   "source": [
    "# plotting a bar graph for occupation against Income to see the correlation between these columns \n",
    "sns.displot(data=df, x='income', y='occupation',cbar=True)"
   ]
  },
  {
   "cell_type": "markdown",
   "id": "594dce59",
   "metadata": {},
   "source": [
    "<h4>Observation</h4><ul><li>Most of the people having income less than or equal to 50K are mostly from Adm-clerical and Other-service.<li>Most of the people having income more than 50K are mostly from Exec-managerial and Prof-specialty. </ul>"
   ]
  },
  {
   "cell_type": "code",
   "execution_count": 28,
   "id": "9770da20",
   "metadata": {},
   "outputs": [
    {
     "data": {
      "text/plain": [
       "<seaborn.axisgrid.FacetGrid at 0x1f0deae7ca0>"
      ]
     },
     "execution_count": 28,
     "metadata": {},
     "output_type": "execute_result"
    },
    {
     "data": {
      "image/png": "[encoded data removed]",
      "text/plain": [
       "<Figure size 432.125x360 with 1 Axes>"
      ]
     },
     "metadata": {
      "needs_background": "light"
     },
     "output_type": "display_data"
    }
   ],
   "source": [
    "# plotting a bar graph for occupation for gender to see the correlation between these columns \n",
    "sns.displot(data=df, y='occupation', hue=\"gender\")"
   ]
  },
  {
   "cell_type": "markdown",
   "id": "7ecbd791",
   "metadata": {},
   "source": [
    "<h4>Observation</h4><ul><li>Craft-repair are mostly males.<li>Adm-clerical are mostly females. </ul>"
   ]
  },
  {
   "cell_type": "code",
   "execution_count": 29,
   "id": "6e9a90bf",
   "metadata": {},
   "outputs": [
    {
     "data": {
      "text/plain": [
       "<seaborn.axisgrid.PairGrid at 0x1f0deed7430>"
      ]
     },
     "execution_count": 29,
     "metadata": {},
     "output_type": "execute_result"
    },
    {
     "data": {
      "image/png": "[encoded data removed]",
      "text/plain": [
       "<Figure size 720x720 with 20 Axes>"
      ]
     },
     "metadata": {
      "needs_background": "light"
     },
     "output_type": "display_data"
    }
   ],
   "source": [
    "sns.pairplot(df, vars=['workclass','occupation','gender','income'])"
   ]
  },
  {
   "cell_type": "markdown",
   "id": "bbf7b622",
   "metadata": {},
   "source": [
    "<h2><i>Feature Engineering</i></h2>"
   ]
  },
  {
   "cell_type": "code",
   "execution_count": 30,
   "id": "126a994f",
   "metadata": {
    "scrolled": true
   },
   "outputs": [
    {
     "name": "stdout",
     "output_type": "stream",
     "text": [
      "**-- age --**\n",
      "36    1283\n",
      "33    1279\n",
      "31    1273\n",
      "35    1271\n",
      "23    1237\n",
      "      ... \n",
      "85       5\n",
      "88       5\n",
      "89       1\n",
      "86       1\n",
      "87       1\n",
      "Name: age, Length: 74, dtype: int64\n",
      "\n",
      "\n",
      "**-- workclass --**\n",
      "Private             33262\n",
      "Self-emp-not-inc     3795\n",
      "Local-gov            3100\n",
      "State-gov            1946\n",
      "Self-emp-inc         1645\n",
      "Federal-gov          1406\n",
      "Without-pay            21\n",
      "Name: workclass, dtype: int64\n",
      "\n",
      "\n",
      "**-- final weight --**\n",
      "203488    21\n",
      "120277    18\n",
      "125892    18\n",
      "126569    17\n",
      "113364    17\n",
      "          ..\n",
      "340043     1\n",
      "337992     1\n",
      "124818     1\n",
      "167999     1\n",
      "65584      1\n",
      "Name: final weight, Length: 26741, dtype: int64\n",
      "\n",
      "\n",
      "**-- education --**\n",
      "HS-grad         14770\n",
      "Some-college     9887\n",
      "Bachelors        7559\n",
      "Masters          2513\n",
      "Assoc-voc        1958\n",
      "11th             1619\n",
      "Assoc-acdm       1507\n",
      "10th             1223\n",
      "7th-8th           822\n",
      "Prof-school       785\n",
      "9th               676\n",
      "12th              575\n",
      "Doctorate         544\n",
      "5th-6th           447\n",
      "1st-4th           220\n",
      "Preschool          70\n",
      "Name: education, dtype: int64\n",
      "\n",
      "\n",
      "**-- educational num --**\n",
      "9     14770\n",
      "10     9887\n",
      "13     7559\n",
      "14     2513\n",
      "11     1958\n",
      "7      1619\n",
      "12     1507\n",
      "6      1223\n",
      "4       822\n",
      "15      785\n",
      "5       676\n",
      "8       575\n",
      "16      544\n",
      "3       447\n",
      "2       220\n",
      "1        70\n",
      "Name: educational num, dtype: int64\n",
      "\n",
      "\n",
      "**-- marital status --**\n",
      "Married-civ-spouse       21042\n",
      "Never-married            14567\n",
      "Divorced                  6294\n",
      "Separated                 1411\n",
      "Widowed                   1277\n",
      "Married-spouse-absent      552\n",
      "Married-AF-spouse           32\n",
      "Name: marital status, dtype: int64\n",
      "\n",
      "\n",
      "**-- occupation --**\n",
      "Craft-repair         6010\n",
      "Prof-specialty       6001\n",
      "Exec-managerial      5980\n",
      "Adm-clerical         5535\n",
      "Sales                5405\n",
      "Other-service        4805\n",
      "Machine-op-inspct    2965\n",
      "Transport-moving     2316\n",
      "Handlers-cleaners    2045\n",
      "Farming-fishing      1475\n",
      "Tech-support         1419\n",
      "Protective-serv       975\n",
      "Priv-house-serv       230\n",
      "Armed-Forces           14\n",
      "Name: occupation, dtype: int64\n",
      "\n",
      "\n",
      "**-- relationship --**\n",
      "Husband           18653\n",
      "Not-in-family     11679\n",
      "Own-child          6616\n",
      "Unmarried          4787\n",
      "Wife               2091\n",
      "Other-relative     1349\n",
      "Name: relationship, dtype: int64\n",
      "\n",
      "\n",
      "**-- race --**\n",
      "White                 38859\n",
      "Black                  4227\n",
      "Asian-Pac-Islander     1301\n",
      "Amer-Indian-Eskimo      435\n",
      "Other                   353\n",
      "Name: race, dtype: int64\n",
      "\n",
      "\n",
      "**-- gender --**\n",
      "Male      30495\n",
      "Female    14680\n",
      "Name: gender, dtype: int64\n",
      "\n",
      "\n",
      "**-- capital gain --**\n",
      "0        41385\n",
      "15024      498\n",
      "7688       391\n",
      "7298       351\n",
      "99999      229\n",
      "         ...  \n",
      "7262         1\n",
      "1731         1\n",
      "22040        1\n",
      "1639         1\n",
      "2387         1\n",
      "Name: capital gain, Length: 121, dtype: int64\n",
      "\n",
      "\n",
      "**-- capital loss --**\n",
      "0       43035\n",
      "1902      294\n",
      "1977      246\n",
      "1887      228\n",
      "2415       68\n",
      "        ...  \n",
      "2201        1\n",
      "1911        1\n",
      "2080        1\n",
      "419         1\n",
      "2163        1\n",
      "Name: capital loss, Length: 97, dtype: int64\n",
      "\n",
      "\n",
      "**-- hours per week --**\n",
      "40    21332\n",
      "50     4091\n",
      "45     2600\n",
      "60     2085\n",
      "35     1773\n",
      "      ...  \n",
      "79        1\n",
      "69        1\n",
      "94        1\n",
      "87        1\n",
      "82        1\n",
      "Name: hours per week, Length: 96, dtype: int64\n",
      "\n",
      "\n",
      "**-- native country --**\n",
      "United-States                 41256\n",
      "Mexico                          895\n",
      "Philippines                     282\n",
      "Germany                         193\n",
      "Puerto-Rico                     175\n",
      "Canada                          163\n",
      "El-Salvador                     147\n",
      "India                           147\n",
      "Cuba                            133\n",
      "England                         119\n",
      "China                           113\n",
      "Jamaica                         103\n",
      "South                           101\n",
      "Italy                           100\n",
      "Dominican-Republic               97\n",
      "Japan                            89\n",
      "Guatemala                        84\n",
      "Vietnam                          83\n",
      "Columbia                         82\n",
      "Poland                           81\n",
      "Haiti                            69\n",
      "Portugal                         62\n",
      "Iran                             56\n",
      "Taiwan                           55\n",
      "Greece                           49\n",
      "Nicaragua                        48\n",
      "Peru                             45\n",
      "Ecuador                          43\n",
      "France                           36\n",
      "Ireland                          36\n",
      "Thailand                         29\n",
      "Hong                             28\n",
      "Cambodia                         26\n",
      "Trinadad&Tobago                  26\n",
      "Yugoslavia                       23\n",
      "Outlying-US(Guam-USVI-etc)       22\n",
      "Laos                             21\n",
      "Scotland                         20\n",
      "Honduras                         19\n",
      "Hungary                          18\n",
      "Holand-Netherlands                1\n",
      "Name: native country, dtype: int64\n",
      "\n",
      "\n",
      "**-- income --**\n",
      "<=50K    33973\n",
      ">50K     11202\n",
      "Name: income, dtype: int64\n",
      "\n",
      "\n"
     ]
    }
   ],
   "source": [
    "# running a loop of value_counts of each column to find out unique values\n",
    "for col in df.columns:\n",
    "    print(\"**-- %s --**\" % col)\n",
    "    print(df[col].value_counts())\n",
    "    print(\"\\n\")"
   ]
  },
  {
   "cell_type": "markdown",
   "id": "eaa60406",
   "metadata": {},
   "source": [
    "<h4>Observation</h4><ul><li>From above we see the unique values of all the features of dataset. </ul>"
   ]
  },
  {
   "cell_type": "code",
   "execution_count": 31,
   "id": "ab601381",
   "metadata": {},
   "outputs": [
    {
     "name": "stderr",
     "output_type": "stream",
     "text": [
      "C:\\Users\\hp\\anaconda3\\lib\\site-packages\\pandas\\core\\frame.py:4308: SettingWithCopyWarning: \n",
      "A value is trying to be set on a copy of a slice from a DataFrame\n",
      "\n",
      "See the caveats in the documentation: https://pandas.pydata.org/pandas-docs/stable/user_guide/indexing.html#returning-a-view-versus-a-copy\n",
      "  return super().drop(\n"
     ]
    }
   ],
   "source": [
    "# dropping based on uniquness of data from the dataset \n",
    "df.drop(['educational num', 'hours per week', 'final weight', 'capital gain','capital loss', 'native country','age'], axis=1, inplace=True)"
   ]
  },
  {
   "cell_type": "code",
   "execution_count": 32,
   "id": "c7e9ab8d",
   "metadata": {},
   "outputs": [
    {
     "data": {
      "text/html": [
       "<div>\n",
       "<style scoped>\n",
       "    .dataframe tbody tr th:only-of-type {\n",
       "        vertical-align: middle;\n",
       "    }\n",
       "\n",
       "    .dataframe tbody tr th {\n",
       "        vertical-align: top;\n",
       "    }\n",
       "\n",
       "    .dataframe thead th {\n",
       "        text-align: right;\n",
       "    }\n",
       "</style>\n",
       "<table border=\"1\" class=\"dataframe\">\n",
       "  <thead>\n",
       "    <tr style=\"text-align: right;\">\n",
       "      <th></th>\n",
       "      <th>workclass</th>\n",
       "      <th>education</th>\n",
       "      <th>marital status</th>\n",
       "      <th>occupation</th>\n",
       "      <th>relationship</th>\n",
       "      <th>race</th>\n",
       "      <th>gender</th>\n",
       "      <th>income</th>\n",
       "    </tr>\n",
       "  </thead>\n",
       "  <tbody>\n",
       "    <tr>\n",
       "      <th>0</th>\n",
       "      <td>Private</td>\n",
       "      <td>11th</td>\n",
       "      <td>Never-married</td>\n",
       "      <td>Machine-op-inspct</td>\n",
       "      <td>Own-child</td>\n",
       "      <td>Black</td>\n",
       "      <td>Male</td>\n",
       "      <td>&lt;=50K</td>\n",
       "    </tr>\n",
       "    <tr>\n",
       "      <th>1</th>\n",
       "      <td>Private</td>\n",
       "      <td>HS-grad</td>\n",
       "      <td>Married-civ-spouse</td>\n",
       "      <td>Farming-fishing</td>\n",
       "      <td>Husband</td>\n",
       "      <td>White</td>\n",
       "      <td>Male</td>\n",
       "      <td>&lt;=50K</td>\n",
       "    </tr>\n",
       "    <tr>\n",
       "      <th>2</th>\n",
       "      <td>Local-gov</td>\n",
       "      <td>Assoc-acdm</td>\n",
       "      <td>Married-civ-spouse</td>\n",
       "      <td>Protective-serv</td>\n",
       "      <td>Husband</td>\n",
       "      <td>White</td>\n",
       "      <td>Male</td>\n",
       "      <td>&gt;50K</td>\n",
       "    </tr>\n",
       "    <tr>\n",
       "      <th>3</th>\n",
       "      <td>Private</td>\n",
       "      <td>Some-college</td>\n",
       "      <td>Married-civ-spouse</td>\n",
       "      <td>Machine-op-inspct</td>\n",
       "      <td>Husband</td>\n",
       "      <td>Black</td>\n",
       "      <td>Male</td>\n",
       "      <td>&gt;50K</td>\n",
       "    </tr>\n",
       "    <tr>\n",
       "      <th>5</th>\n",
       "      <td>Private</td>\n",
       "      <td>10th</td>\n",
       "      <td>Never-married</td>\n",
       "      <td>Other-service</td>\n",
       "      <td>Not-in-family</td>\n",
       "      <td>White</td>\n",
       "      <td>Male</td>\n",
       "      <td>&lt;=50K</td>\n",
       "    </tr>\n",
       "    <tr>\n",
       "      <th>...</th>\n",
       "      <td>...</td>\n",
       "      <td>...</td>\n",
       "      <td>...</td>\n",
       "      <td>...</td>\n",
       "      <td>...</td>\n",
       "      <td>...</td>\n",
       "      <td>...</td>\n",
       "      <td>...</td>\n",
       "    </tr>\n",
       "    <tr>\n",
       "      <th>48837</th>\n",
       "      <td>Private</td>\n",
       "      <td>Assoc-acdm</td>\n",
       "      <td>Married-civ-spouse</td>\n",
       "      <td>Tech-support</td>\n",
       "      <td>Wife</td>\n",
       "      <td>White</td>\n",
       "      <td>Female</td>\n",
       "      <td>&lt;=50K</td>\n",
       "    </tr>\n",
       "    <tr>\n",
       "      <th>48838</th>\n",
       "      <td>Private</td>\n",
       "      <td>HS-grad</td>\n",
       "      <td>Married-civ-spouse</td>\n",
       "      <td>Machine-op-inspct</td>\n",
       "      <td>Husband</td>\n",
       "      <td>White</td>\n",
       "      <td>Male</td>\n",
       "      <td>&gt;50K</td>\n",
       "    </tr>\n",
       "    <tr>\n",
       "      <th>48839</th>\n",
       "      <td>Private</td>\n",
       "      <td>HS-grad</td>\n",
       "      <td>Widowed</td>\n",
       "      <td>Adm-clerical</td>\n",
       "      <td>Unmarried</td>\n",
       "      <td>White</td>\n",
       "      <td>Female</td>\n",
       "      <td>&lt;=50K</td>\n",
       "    </tr>\n",
       "    <tr>\n",
       "      <th>48840</th>\n",
       "      <td>Private</td>\n",
       "      <td>HS-grad</td>\n",
       "      <td>Never-married</td>\n",
       "      <td>Adm-clerical</td>\n",
       "      <td>Own-child</td>\n",
       "      <td>White</td>\n",
       "      <td>Male</td>\n",
       "      <td>&lt;=50K</td>\n",
       "    </tr>\n",
       "    <tr>\n",
       "      <th>48841</th>\n",
       "      <td>Self-emp-inc</td>\n",
       "      <td>HS-grad</td>\n",
       "      <td>Married-civ-spouse</td>\n",
       "      <td>Exec-managerial</td>\n",
       "      <td>Wife</td>\n",
       "      <td>White</td>\n",
       "      <td>Female</td>\n",
       "      <td>&gt;50K</td>\n",
       "    </tr>\n",
       "  </tbody>\n",
       "</table>\n",
       "<p>45175 rows × 8 columns</p>\n",
       "</div>"
      ],
      "text/plain": [
       "          workclass     education      marital status         occupation  \\\n",
       "0           Private          11th       Never-married  Machine-op-inspct   \n",
       "1           Private       HS-grad  Married-civ-spouse    Farming-fishing   \n",
       "2         Local-gov    Assoc-acdm  Married-civ-spouse    Protective-serv   \n",
       "3           Private  Some-college  Married-civ-spouse  Machine-op-inspct   \n",
       "5           Private          10th       Never-married      Other-service   \n",
       "...             ...           ...                 ...                ...   \n",
       "48837       Private    Assoc-acdm  Married-civ-spouse       Tech-support   \n",
       "48838       Private       HS-grad  Married-civ-spouse  Machine-op-inspct   \n",
       "48839       Private       HS-grad             Widowed       Adm-clerical   \n",
       "48840       Private       HS-grad       Never-married       Adm-clerical   \n",
       "48841  Self-emp-inc       HS-grad  Married-civ-spouse    Exec-managerial   \n",
       "\n",
       "        relationship   race  gender income  \n",
       "0          Own-child  Black    Male  <=50K  \n",
       "1            Husband  White    Male  <=50K  \n",
       "2            Husband  White    Male   >50K  \n",
       "3            Husband  Black    Male   >50K  \n",
       "5      Not-in-family  White    Male  <=50K  \n",
       "...              ...    ...     ...    ...  \n",
       "48837           Wife  White  Female  <=50K  \n",
       "48838        Husband  White    Male   >50K  \n",
       "48839      Unmarried  White  Female  <=50K  \n",
       "48840      Own-child  White    Male  <=50K  \n",
       "48841           Wife  White  Female   >50K  \n",
       "\n",
       "[45175 rows x 8 columns]"
      ]
     },
     "execution_count": 32,
     "metadata": {},
     "output_type": "execute_result"
    }
   ],
   "source": [
    "df"
   ]
  },
  {
   "cell_type": "markdown",
   "id": "b9fcfef8",
   "metadata": {},
   "source": [
    "<h4>Observation</h4><ul><li>We drop some columns in order of the uniqueness of the data i.e., we drop the noisy columns. </ul>"
   ]
  },
  {
   "cell_type": "code",
   "execution_count": 33,
   "id": "fc88d579",
   "metadata": {},
   "outputs": [
    {
     "name": "stderr",
     "output_type": "stream",
     "text": [
      "<ipython-input-33-ff4c0ced6891>:2: SettingWithCopyWarning: \n",
      "A value is trying to be set on a copy of a slice from a DataFrame.\n",
      "Try using .loc[row_indexer,col_indexer] = value instead\n",
      "\n",
      "See the caveats in the documentation: https://pandas.pydata.org/pandas-docs/stable/user_guide/indexing.html#returning-a-view-versus-a-copy\n",
      "  df['income'] = df['income'].map({'<=50K': 0, '>50K': 1}).astype(int)\n"
     ]
    },
    {
     "data": {
      "text/html": [
       "<div>\n",
       "<style scoped>\n",
       "    .dataframe tbody tr th:only-of-type {\n",
       "        vertical-align: middle;\n",
       "    }\n",
       "\n",
       "    .dataframe tbody tr th {\n",
       "        vertical-align: top;\n",
       "    }\n",
       "\n",
       "    .dataframe thead th {\n",
       "        text-align: right;\n",
       "    }\n",
       "</style>\n",
       "<table border=\"1\" class=\"dataframe\">\n",
       "  <thead>\n",
       "    <tr style=\"text-align: right;\">\n",
       "      <th></th>\n",
       "      <th>workclass</th>\n",
       "      <th>education</th>\n",
       "      <th>marital status</th>\n",
       "      <th>occupation</th>\n",
       "      <th>relationship</th>\n",
       "      <th>race</th>\n",
       "      <th>gender</th>\n",
       "      <th>income</th>\n",
       "    </tr>\n",
       "  </thead>\n",
       "  <tbody>\n",
       "    <tr>\n",
       "      <th>0</th>\n",
       "      <td>Private</td>\n",
       "      <td>11th</td>\n",
       "      <td>Never-married</td>\n",
       "      <td>Machine-op-inspct</td>\n",
       "      <td>Own-child</td>\n",
       "      <td>Black</td>\n",
       "      <td>Male</td>\n",
       "      <td>0</td>\n",
       "    </tr>\n",
       "    <tr>\n",
       "      <th>1</th>\n",
       "      <td>Private</td>\n",
       "      <td>HS-grad</td>\n",
       "      <td>Married-civ-spouse</td>\n",
       "      <td>Farming-fishing</td>\n",
       "      <td>Husband</td>\n",
       "      <td>White</td>\n",
       "      <td>Male</td>\n",
       "      <td>0</td>\n",
       "    </tr>\n",
       "    <tr>\n",
       "      <th>2</th>\n",
       "      <td>Local-gov</td>\n",
       "      <td>Assoc-acdm</td>\n",
       "      <td>Married-civ-spouse</td>\n",
       "      <td>Protective-serv</td>\n",
       "      <td>Husband</td>\n",
       "      <td>White</td>\n",
       "      <td>Male</td>\n",
       "      <td>1</td>\n",
       "    </tr>\n",
       "    <tr>\n",
       "      <th>3</th>\n",
       "      <td>Private</td>\n",
       "      <td>Some-college</td>\n",
       "      <td>Married-civ-spouse</td>\n",
       "      <td>Machine-op-inspct</td>\n",
       "      <td>Husband</td>\n",
       "      <td>Black</td>\n",
       "      <td>Male</td>\n",
       "      <td>1</td>\n",
       "    </tr>\n",
       "    <tr>\n",
       "      <th>5</th>\n",
       "      <td>Private</td>\n",
       "      <td>10th</td>\n",
       "      <td>Never-married</td>\n",
       "      <td>Other-service</td>\n",
       "      <td>Not-in-family</td>\n",
       "      <td>White</td>\n",
       "      <td>Male</td>\n",
       "      <td>0</td>\n",
       "    </tr>\n",
       "    <tr>\n",
       "      <th>...</th>\n",
       "      <td>...</td>\n",
       "      <td>...</td>\n",
       "      <td>...</td>\n",
       "      <td>...</td>\n",
       "      <td>...</td>\n",
       "      <td>...</td>\n",
       "      <td>...</td>\n",
       "      <td>...</td>\n",
       "    </tr>\n",
       "    <tr>\n",
       "      <th>48837</th>\n",
       "      <td>Private</td>\n",
       "      <td>Assoc-acdm</td>\n",
       "      <td>Married-civ-spouse</td>\n",
       "      <td>Tech-support</td>\n",
       "      <td>Wife</td>\n",
       "      <td>White</td>\n",
       "      <td>Female</td>\n",
       "      <td>0</td>\n",
       "    </tr>\n",
       "    <tr>\n",
       "      <th>48838</th>\n",
       "      <td>Private</td>\n",
       "      <td>HS-grad</td>\n",
       "      <td>Married-civ-spouse</td>\n",
       "      <td>Machine-op-inspct</td>\n",
       "      <td>Husband</td>\n",
       "      <td>White</td>\n",
       "      <td>Male</td>\n",
       "      <td>1</td>\n",
       "    </tr>\n",
       "    <tr>\n",
       "      <th>48839</th>\n",
       "      <td>Private</td>\n",
       "      <td>HS-grad</td>\n",
       "      <td>Widowed</td>\n",
       "      <td>Adm-clerical</td>\n",
       "      <td>Unmarried</td>\n",
       "      <td>White</td>\n",
       "      <td>Female</td>\n",
       "      <td>0</td>\n",
       "    </tr>\n",
       "    <tr>\n",
       "      <th>48840</th>\n",
       "      <td>Private</td>\n",
       "      <td>HS-grad</td>\n",
       "      <td>Never-married</td>\n",
       "      <td>Adm-clerical</td>\n",
       "      <td>Own-child</td>\n",
       "      <td>White</td>\n",
       "      <td>Male</td>\n",
       "      <td>0</td>\n",
       "    </tr>\n",
       "    <tr>\n",
       "      <th>48841</th>\n",
       "      <td>Self-emp-inc</td>\n",
       "      <td>HS-grad</td>\n",
       "      <td>Married-civ-spouse</td>\n",
       "      <td>Exec-managerial</td>\n",
       "      <td>Wife</td>\n",
       "      <td>White</td>\n",
       "      <td>Female</td>\n",
       "      <td>1</td>\n",
       "    </tr>\n",
       "  </tbody>\n",
       "</table>\n",
       "<p>45175 rows × 8 columns</p>\n",
       "</div>"
      ],
      "text/plain": [
       "          workclass     education      marital status         occupation  \\\n",
       "0           Private          11th       Never-married  Machine-op-inspct   \n",
       "1           Private       HS-grad  Married-civ-spouse    Farming-fishing   \n",
       "2         Local-gov    Assoc-acdm  Married-civ-spouse    Protective-serv   \n",
       "3           Private  Some-college  Married-civ-spouse  Machine-op-inspct   \n",
       "5           Private          10th       Never-married      Other-service   \n",
       "...             ...           ...                 ...                ...   \n",
       "48837       Private    Assoc-acdm  Married-civ-spouse       Tech-support   \n",
       "48838       Private       HS-grad  Married-civ-spouse  Machine-op-inspct   \n",
       "48839       Private       HS-grad             Widowed       Adm-clerical   \n",
       "48840       Private       HS-grad       Never-married       Adm-clerical   \n",
       "48841  Self-emp-inc       HS-grad  Married-civ-spouse    Exec-managerial   \n",
       "\n",
       "        relationship   race  gender  income  \n",
       "0          Own-child  Black    Male       0  \n",
       "1            Husband  White    Male       0  \n",
       "2            Husband  White    Male       1  \n",
       "3            Husband  Black    Male       1  \n",
       "5      Not-in-family  White    Male       0  \n",
       "...              ...    ...     ...     ...  \n",
       "48837           Wife  White  Female       0  \n",
       "48838        Husband  White    Male       1  \n",
       "48839      Unmarried  White  Female       0  \n",
       "48840      Own-child  White    Male       0  \n",
       "48841           Wife  White  Female       1  \n",
       "\n",
       "[45175 rows x 8 columns]"
      ]
     },
     "execution_count": 33,
     "metadata": {},
     "output_type": "execute_result"
    }
   ],
   "source": [
    "#mapping the data into numerical data using map function\n",
    "df['income'] = df['income'].map({'<=50K': 0, '>50K': 1}).astype(int)\n",
    "df"
   ]
  },
  {
   "cell_type": "markdown",
   "id": "2c180510",
   "metadata": {},
   "source": [
    "<h2><i>Research Questions</i></h2>"
   ]
  },
  {
   "cell_type": "markdown",
   "id": "e02b1438",
   "metadata": {},
   "source": [
    "<h4>Is there a relationship between occupation and gender? </h4>(i.e. does the preference of occupation depend on the gender)\n",
    "<h4><span style=\"color:gray\">Claiming that <b style=\"color:black\">Occupation</b> and <b style=\"color:black\">Gender</b> are dependent.</span></h4>"
   ]
  },
  {
   "cell_type": "markdown",
   "id": "3667a55c",
   "metadata": {},
   "source": [
    "<h2>$ Null Hypothesis (H_0) : $ There is no relationship between two variables. </h2>"
   ]
  },
  {
   "cell_type": "markdown",
   "id": "972b89ed",
   "metadata": {},
   "source": [
    "<h2>$ AlternateHypothesis (H_1) : $ There is a substantial relationship between variables.</h2>"
   ]
  },
  {
   "cell_type": "code",
   "execution_count": 34,
   "id": "9a862609",
   "metadata": {},
   "outputs": [],
   "source": [
    "from scipy.stats import chi2, chi2_contingency"
   ]
  },
  {
   "cell_type": "code",
   "execution_count": 35,
   "id": "810fb1a0",
   "metadata": {},
   "outputs": [
    {
     "data": {
      "text/plain": [
       "[<matplotlib.lines.Line2D at 0x1f0ddc135e0>]"
      ]
     },
     "execution_count": 35,
     "metadata": {},
     "output_type": "execute_result"
    },
    {
     "data": {
      "image/png": "[encoded data removed]",
      "text/plain": [
       "<Figure size 432x288 with 1 Axes>"
      ]
     },
     "metadata": {
      "needs_background": "light"
     },
     "output_type": "display_data"
    }
   ],
   "source": [
    "x = np.linspace(-5,50, 100)\n",
    "y = chi2.pdf(x, df=4)\n",
    "plt.plot(x, y)"
   ]
  },
  {
   "cell_type": "code",
   "execution_count": 36,
   "id": "273c93f4",
   "metadata": {},
   "outputs": [
    {
     "data": {
      "text/plain": [
       "Male      30495\n",
       "Female    14680\n",
       "Name: gender, dtype: int64"
      ]
     },
     "execution_count": 36,
     "metadata": {},
     "output_type": "execute_result"
    }
   ],
   "source": [
    "df.gender.value_counts()"
   ]
  },
  {
   "cell_type": "code",
   "execution_count": 37,
   "id": "cd2c659c",
   "metadata": {},
   "outputs": [
    {
     "data": {
      "text/plain": [
       "Craft-repair         6010\n",
       "Prof-specialty       6001\n",
       "Exec-managerial      5980\n",
       "Adm-clerical         5535\n",
       "Sales                5405\n",
       "Other-service        4805\n",
       "Machine-op-inspct    2965\n",
       "Transport-moving     2316\n",
       "Handlers-cleaners    2045\n",
       "Farming-fishing      1475\n",
       "Tech-support         1419\n",
       "Protective-serv       975\n",
       "Priv-house-serv       230\n",
       "Armed-Forces           14\n",
       "Name: occupation, dtype: int64"
      ]
     },
     "execution_count": 37,
     "metadata": {},
     "output_type": "execute_result"
    }
   ],
   "source": [
    "df.occupation.value_counts()"
   ]
  },
  {
   "cell_type": "code",
   "execution_count": 38,
   "id": "068b6352",
   "metadata": {},
   "outputs": [],
   "source": [
    "# Looking at the freqency distribution\n",
    "\n",
    "obs = pd.crosstab(df.occupation, df.gender)"
   ]
  },
  {
   "cell_type": "code",
   "execution_count": 39,
   "id": "550dbdc5",
   "metadata": {},
   "outputs": [
    {
     "data": {
      "text/html": [
       "<div>\n",
       "<style scoped>\n",
       "    .dataframe tbody tr th:only-of-type {\n",
       "        vertical-align: middle;\n",
       "    }\n",
       "\n",
       "    .dataframe tbody tr th {\n",
       "        vertical-align: top;\n",
       "    }\n",
       "\n",
       "    .dataframe thead th {\n",
       "        text-align: right;\n",
       "    }\n",
       "</style>\n",
       "<table border=\"1\" class=\"dataframe\">\n",
       "  <thead>\n",
       "    <tr style=\"text-align: right;\">\n",
       "      <th>gender</th>\n",
       "      <th>Female</th>\n",
       "      <th>Male</th>\n",
       "    </tr>\n",
       "    <tr>\n",
       "      <th>occupation</th>\n",
       "      <th></th>\n",
       "      <th></th>\n",
       "    </tr>\n",
       "  </thead>\n",
       "  <tbody>\n",
       "    <tr>\n",
       "      <th>Adm-clerical</th>\n",
       "      <td>3725</td>\n",
       "      <td>1810</td>\n",
       "    </tr>\n",
       "    <tr>\n",
       "      <th>Armed-Forces</th>\n",
       "      <td>0</td>\n",
       "      <td>14</td>\n",
       "    </tr>\n",
       "    <tr>\n",
       "      <th>Craft-repair</th>\n",
       "      <td>315</td>\n",
       "      <td>5695</td>\n",
       "    </tr>\n",
       "    <tr>\n",
       "      <th>Exec-managerial</th>\n",
       "      <td>1724</td>\n",
       "      <td>4256</td>\n",
       "    </tr>\n",
       "    <tr>\n",
       "      <th>Farming-fishing</th>\n",
       "      <td>95</td>\n",
       "      <td>1380</td>\n",
       "    </tr>\n",
       "    <tr>\n",
       "      <th>Handlers-cleaners</th>\n",
       "      <td>253</td>\n",
       "      <td>1792</td>\n",
       "    </tr>\n",
       "    <tr>\n",
       "      <th>Machine-op-inspct</th>\n",
       "      <td>792</td>\n",
       "      <td>2173</td>\n",
       "    </tr>\n",
       "    <tr>\n",
       "      <th>Other-service</th>\n",
       "      <td>2641</td>\n",
       "      <td>2164</td>\n",
       "    </tr>\n",
       "    <tr>\n",
       "      <th>Priv-house-serv</th>\n",
       "      <td>216</td>\n",
       "      <td>14</td>\n",
       "    </tr>\n",
       "    <tr>\n",
       "      <th>Prof-specialty</th>\n",
       "      <td>2201</td>\n",
       "      <td>3800</td>\n",
       "    </tr>\n",
       "    <tr>\n",
       "      <th>Protective-serv</th>\n",
       "      <td>122</td>\n",
       "      <td>853</td>\n",
       "    </tr>\n",
       "    <tr>\n",
       "      <th>Sales</th>\n",
       "      <td>1918</td>\n",
       "      <td>3487</td>\n",
       "    </tr>\n",
       "    <tr>\n",
       "      <th>Tech-support</th>\n",
       "      <td>553</td>\n",
       "      <td>866</td>\n",
       "    </tr>\n",
       "    <tr>\n",
       "      <th>Transport-moving</th>\n",
       "      <td>125</td>\n",
       "      <td>2191</td>\n",
       "    </tr>\n",
       "  </tbody>\n",
       "</table>\n",
       "</div>"
      ],
      "text/plain": [
       "gender             Female  Male\n",
       "occupation                     \n",
       "Adm-clerical         3725  1810\n",
       "Armed-Forces            0    14\n",
       "Craft-repair          315  5695\n",
       "Exec-managerial      1724  4256\n",
       "Farming-fishing        95  1380\n",
       "Handlers-cleaners     253  1792\n",
       "Machine-op-inspct     792  2173\n",
       "Other-service        2641  2164\n",
       "Priv-house-serv       216    14\n",
       "Prof-specialty       2201  3800\n",
       "Protective-serv       122   853\n",
       "Sales                1918  3487\n",
       "Tech-support          553   866\n",
       "Transport-moving      125  2191"
      ]
     },
     "execution_count": 39,
     "metadata": {},
     "output_type": "execute_result"
    }
   ],
   "source": [
    "obs"
   ]
  },
  {
   "cell_type": "code",
   "execution_count": 40,
   "id": "d9b45a0a",
   "metadata": {},
   "outputs": [
    {
     "data": {
      "text/plain": [
       "(8565.10300386568,\n",
       " 0.0,\n",
       " 13,\n",
       " array([[1798.6452684 , 3736.3547316 ],\n",
       "        [   4.54941893,    9.45058107],\n",
       "        [1953.0005534 , 4056.9994466 ],\n",
       "        [1943.25179856, 4036.74820144],\n",
       "        [ 479.31377975,  995.68622025],\n",
       "        [ 664.54012175, 1380.45987825],\n",
       "        [ 963.50193691, 2001.49806309],\n",
       "        [1561.42556724, 3243.57443276],\n",
       "        [  74.74045379,  155.25954621],\n",
       "        [1950.07592695, 4050.92407305],\n",
       "        [ 316.83453237,  658.16546763],\n",
       "        [1756.40066408, 3648.59933592],\n",
       "        [ 461.11610404,  957.88389596],\n",
       "        [ 752.60387382, 1563.39612618]]))"
      ]
     },
     "execution_count": 40,
     "metadata": {},
     "output_type": "execute_result"
    }
   ],
   "source": [
    "# chi2_contigency returns chi2 test statistic, p-value, degree of freedoms, expected frequencies\n",
    "\n",
    "chi2_contingency(obs)"
   ]
  },
  {
   "cell_type": "code",
   "execution_count": 41,
   "id": "55300d29",
   "metadata": {},
   "outputs": [],
   "source": [
    "# Computing chi2 test statistic, p-value, degree of freedoms\n",
    "\n",
    "chi2_test_stat = chi2_contingency(obs)[0]\n",
    "pval = chi2_contingency(obs)[1]\n",
    "data = chi2_contingency(obs)[2]"
   ]
  },
  {
   "cell_type": "code",
   "execution_count": 42,
   "id": "b302b074",
   "metadata": {},
   "outputs": [
    {
     "data": {
      "text/plain": [
       "22.362032494826934"
      ]
     },
     "execution_count": 42,
     "metadata": {},
     "output_type": "execute_result"
    }
   ],
   "source": [
    "confidence_level = 0.95\n",
    "\n",
    "alpha = 1 - confidence_level\n",
    "\n",
    "chi2_critical = chi2.ppf(1 - alpha, data)\n",
    "\n",
    "chi2_critical"
   ]
  },
  {
   "cell_type": "code",
   "execution_count": 43,
   "id": "cc614dad",
   "metadata": {},
   "outputs": [
    {
     "data": {
      "text/plain": [
       "<matplotlib.collections.PolyCollection at 0x1f0defde100>"
      ]
     },
     "execution_count": 43,
     "metadata": {},
     "output_type": "execute_result"
    },
    {
     "data": {
      "image/png": "[encoded data removed]",
      "text/plain": [
       "<Figure size 432x288 with 1 Axes>"
      ]
     },
     "metadata": {
      "needs_background": "light"
     },
     "output_type": "display_data"
    }
   ],
   "source": [
    "# Ploting the chi2 distribution to visualise\n",
    "\n",
    "# Defining the x minimum and x maximum\n",
    "x_min = -5\n",
    "x_max = 50\n",
    "\n",
    "# Ploting the graph and setting the x limits\n",
    "x = np.linspace(x_min, x_max, 100)\n",
    "y = chi2.pdf(x, data)\n",
    "plt.xlim(x_min, x_max)\n",
    "plt.plot(x, y)\n",
    "\n",
    "\n",
    "# Setting Chi2 Critical value \n",
    "chi2_critical_right = chi2_critical\n",
    "\n",
    "# Shading the right rejection region\n",
    "x1 = np.linspace(chi2_critical_right, x_max, 100)\n",
    "y1 = chi2.pdf(x1, data)\n",
    "plt.fill_between(x1, y1, color='yellow')"
   ]
  },
  {
   "cell_type": "code",
   "execution_count": 44,
   "id": "1c4cc91e",
   "metadata": {},
   "outputs": [
    {
     "name": "stdout",
     "output_type": "stream",
     "text": [
      "Reject Null Hypothesis\n"
     ]
    }
   ],
   "source": [
    "if(chi2_test_stat > chi2_critical):\n",
    "    print(\"Reject Null Hypothesis\")\n",
    "else:\n",
    "    print(\"Fail to Reject Null Hypothesis\")"
   ]
  },
  {
   "cell_type": "code",
   "execution_count": 45,
   "id": "f831c5ad",
   "metadata": {},
   "outputs": [
    {
     "name": "stdout",
     "output_type": "stream",
     "text": [
      "Reject Null Hypothesis\n"
     ]
    }
   ],
   "source": [
    "if(pval < alpha):\n",
    "    print(\"Reject Null Hypothesis\")\n",
    "else:\n",
    "    print(\"Fail to Reject Null Hypothesis\")"
   ]
  },
  {
   "cell_type": "markdown",
   "id": "dd08c54f",
   "metadata": {},
   "source": [
    "<h4>Observation</h4><ul><li>We can check the categorical variables dependency using chi-square test for hypothesis testing.<li>We see the unique values of both the features.<li>After performing chi-square test we found that the null hypothesis failed.<li>Hence, alternate hypothesis passed i.e.,both the variables are dependent on each other. </ul>"
   ]
  },
  {
   "cell_type": "markdown",
   "id": "62706a13",
   "metadata": {},
   "source": [
    "<h4>Is there a relationship between gender and income?</h4>"
   ]
  },
  {
   "cell_type": "markdown",
   "id": "c1002bab",
   "metadata": {},
   "source": [
    "<h4 style=\"color:gray\">Claiming here the relationship between <b style=\"color:black\">Gender</b> and <b style=\"color:black\">Income</b></h4>"
   ]
  },
  {
   "cell_type": "code",
   "execution_count": 46,
   "id": "accc0369",
   "metadata": {},
   "outputs": [
    {
     "data": {
      "text/plain": [
       "Male      30495\n",
       "Female    14680\n",
       "Name: gender, dtype: int64"
      ]
     },
     "execution_count": 46,
     "metadata": {},
     "output_type": "execute_result"
    }
   ],
   "source": [
    "df.gender.value_counts()"
   ]
  },
  {
   "cell_type": "code",
   "execution_count": 47,
   "id": "51af9d9c",
   "metadata": {},
   "outputs": [
    {
     "data": {
      "text/plain": [
       "0    33973\n",
       "1    11202\n",
       "Name: income, dtype: int64"
      ]
     },
     "execution_count": 47,
     "metadata": {},
     "output_type": "execute_result"
    }
   ],
   "source": [
    "df.income.value_counts()"
   ]
  },
  {
   "cell_type": "code",
   "execution_count": 48,
   "id": "d794a551",
   "metadata": {},
   "outputs": [
    {
     "data": {
      "text/html": [
       "<div>\n",
       "<style scoped>\n",
       "    .dataframe tbody tr th:only-of-type {\n",
       "        vertical-align: middle;\n",
       "    }\n",
       "\n",
       "    .dataframe tbody tr th {\n",
       "        vertical-align: top;\n",
       "    }\n",
       "\n",
       "    .dataframe thead th {\n",
       "        text-align: right;\n",
       "    }\n",
       "</style>\n",
       "<table border=\"1\" class=\"dataframe\">\n",
       "  <thead>\n",
       "    <tr style=\"text-align: right;\">\n",
       "      <th>income</th>\n",
       "      <th>0</th>\n",
       "      <th>1</th>\n",
       "    </tr>\n",
       "    <tr>\n",
       "      <th>gender</th>\n",
       "      <th></th>\n",
       "      <th></th>\n",
       "    </tr>\n",
       "  </thead>\n",
       "  <tbody>\n",
       "    <tr>\n",
       "      <th>Female</th>\n",
       "      <td>13011</td>\n",
       "      <td>1669</td>\n",
       "    </tr>\n",
       "    <tr>\n",
       "      <th>Male</th>\n",
       "      <td>20962</td>\n",
       "      <td>9533</td>\n",
       "    </tr>\n",
       "  </tbody>\n",
       "</table>\n",
       "</div>"
      ],
      "text/plain": [
       "income      0     1\n",
       "gender             \n",
       "Female  13011  1669\n",
       "Male    20962  9533"
      ]
     },
     "execution_count": 48,
     "metadata": {},
     "output_type": "execute_result"
    }
   ],
   "source": [
    "# Looking at the freqency distribution\n",
    "\n",
    "obs = pd.crosstab(df.gender, df.income)\n",
    "obs"
   ]
  },
  {
   "cell_type": "code",
   "execution_count": 49,
   "id": "cda4a9c2",
   "metadata": {},
   "outputs": [
    {
     "data": {
      "text/plain": [
       "(2101.5744045550996,\n",
       " 0.0,\n",
       " 1,\n",
       " array([[11039.81494189,  3640.18505811],\n",
       "        [22933.18505811,  7561.81494189]]))"
      ]
     },
     "execution_count": 49,
     "metadata": {},
     "output_type": "execute_result"
    }
   ],
   "source": [
    "# chi2_contigency returns chi2 test statistic, p-value, degree of freedoms, expected frequencies\n",
    "\n",
    "chi2_contingency(obs)"
   ]
  },
  {
   "cell_type": "code",
   "execution_count": 50,
   "id": "36907f16",
   "metadata": {},
   "outputs": [],
   "source": [
    "# Computing chi2 test statistic, p-value, degree of freedoms\n",
    "\n",
    "chi2_test_stat = chi2_contingency(obs)[0]\n",
    "pval = chi2_contingency(obs)[1]\n",
    "data = chi2_contingency(obs)[2]"
   ]
  },
  {
   "cell_type": "code",
   "execution_count": 51,
   "id": "5c0e4d8a",
   "metadata": {},
   "outputs": [
    {
     "data": {
      "text/plain": [
       "3.841458820694124"
      ]
     },
     "execution_count": 51,
     "metadata": {},
     "output_type": "execute_result"
    }
   ],
   "source": [
    "confidence_level = 0.95\n",
    "\n",
    "alpha = 1 - confidence_level\n",
    "\n",
    "chi2_critical = chi2.ppf(1 - alpha, data)\n",
    "\n",
    "chi2_critical"
   ]
  },
  {
   "cell_type": "code",
   "execution_count": 52,
   "id": "2eabff01",
   "metadata": {},
   "outputs": [
    {
     "data": {
      "text/plain": [
       "<matplotlib.collections.PolyCollection at 0x1f0def50490>"
      ]
     },
     "execution_count": 52,
     "metadata": {},
     "output_type": "execute_result"
    },
    {
     "data": {
      "image/png": "[encoded data removed]",
      "text/plain": [
       "<Figure size 432x288 with 1 Axes>"
      ]
     },
     "metadata": {
      "needs_background": "light"
     },
     "output_type": "display_data"
    }
   ],
   "source": [
    "# Ploting the chi2 distribution to visualise\n",
    "\n",
    "# Defining the x minimum and x maximum\n",
    "x_min = 0\n",
    "x_max = 50\n",
    "\n",
    "# Ploting the graph and setting the x limits\n",
    "x = np.linspace(x_min, x_max, 100)\n",
    "y = chi2.pdf(x, data)\n",
    "plt.xlim(x_min, x_max)\n",
    "plt.plot(x, y)\n",
    "\n",
    "\n",
    "# Setting Chi2 Critical value \n",
    "chi2_critical_right = chi2_critical\n",
    "\n",
    "# Shading the right rejection region\n",
    "x1 = np.linspace(chi2_critical_right, x_max, 100)\n",
    "y1 = chi2.pdf(x1, data)\n",
    "plt.fill_between(x1, y1, color='orange')"
   ]
  },
  {
   "cell_type": "code",
   "execution_count": 53,
   "id": "372c9180",
   "metadata": {},
   "outputs": [
    {
     "name": "stdout",
     "output_type": "stream",
     "text": [
      "Reject Null Hypothesis\n"
     ]
    }
   ],
   "source": [
    "if(chi2_test_stat > chi2_critical):\n",
    "    print(\"Reject Null Hypothesis\")\n",
    "else:\n",
    "    print(\"Fail to Reject Null Hypothesis\")"
   ]
  },
  {
   "cell_type": "code",
   "execution_count": 54,
   "id": "8c0a38d1",
   "metadata": {},
   "outputs": [
    {
     "name": "stdout",
     "output_type": "stream",
     "text": [
      "Reject Null Hypothesis\n"
     ]
    }
   ],
   "source": [
    "if(pval < alpha):\n",
    "    print(\"Reject Null Hypothesis\")\n",
    "else:\n",
    "    print(\"Fail to Reject Null Hypothesis\")"
   ]
  },
  {
   "cell_type": "markdown",
   "id": "dcf8f419",
   "metadata": {},
   "source": [
    "<h4>Observation</h4><ul><li>We can check the categorical variables(gender and income)dependency using chi-square test for hypothesis testing.<li>We see the unique values of both the features.<li>After performing chi-square test we found that the null hypothesis failed.<li>Hence, alternate hypothesis passed i.e.,both the variables are dependent on each other. </ul>"
   ]
  },
  {
   "cell_type": "markdown",
   "id": "8428dd25",
   "metadata": {},
   "source": [
    "<h1><i>Conclusion</i></h1>\n",
    "<ul><li>Have to find the relationships between the columns on which we have to give conclusion.<li>Data cleaning is much needed.<li>We need to encode columns for further processes.<li>We get rid the dataset from special characters.<li>We also had dropped some noisy data columns.<li>Map target value which was in categorical to numerical binary. </ul>"
   ]
  },
  {
   "cell_type": "markdown",
   "id": "87e3a603",
   "metadata": {},
   "source": [
    "<h2><i>Data Preparation</i></h2>"
   ]
  },
  {
   "cell_type": "code",
   "execution_count": 55,
   "id": "82d78e0f",
   "metadata": {},
   "outputs": [],
   "source": [
    "# Identifying the inputs (X) and output (y)\n",
    "\n",
    "X = df[['workclass', 'education', 'marital status', 'occupation', 'relationship', 'race', 'gender']]\n",
    "y = df['income']"
   ]
  },
  {
   "cell_type": "code",
   "execution_count": 56,
   "id": "237cb711",
   "metadata": {},
   "outputs": [],
   "source": [
    "# split into train and test\n",
    "\n",
    "from sklearn.model_selection import train_test_split\n",
    "\n",
    "X_train, X_test, y_train, y_test = train_test_split(X, y, train_size= 0.75, random_state= 0)"
   ]
  },
  {
   "cell_type": "code",
   "execution_count": 57,
   "id": "20040f97",
   "metadata": {},
   "outputs": [
    {
     "data": {
      "text/html": [
       "<div>\n",
       "<style scoped>\n",
       "    .dataframe tbody tr th:only-of-type {\n",
       "        vertical-align: middle;\n",
       "    }\n",
       "\n",
       "    .dataframe tbody tr th {\n",
       "        vertical-align: top;\n",
       "    }\n",
       "\n",
       "    .dataframe thead th {\n",
       "        text-align: right;\n",
       "    }\n",
       "</style>\n",
       "<table border=\"1\" class=\"dataframe\">\n",
       "  <thead>\n",
       "    <tr style=\"text-align: right;\">\n",
       "      <th></th>\n",
       "      <th>workclass</th>\n",
       "      <th>education</th>\n",
       "      <th>marital status</th>\n",
       "      <th>occupation</th>\n",
       "      <th>relationship</th>\n",
       "      <th>race</th>\n",
       "      <th>gender</th>\n",
       "    </tr>\n",
       "  </thead>\n",
       "  <tbody>\n",
       "    <tr>\n",
       "      <th>979</th>\n",
       "      <td>Self-emp-not-inc</td>\n",
       "      <td>Prof-school</td>\n",
       "      <td>Divorced</td>\n",
       "      <td>Prof-specialty</td>\n",
       "      <td>Unmarried</td>\n",
       "      <td>White</td>\n",
       "      <td>Male</td>\n",
       "    </tr>\n",
       "    <tr>\n",
       "      <th>7075</th>\n",
       "      <td>Private</td>\n",
       "      <td>Some-college</td>\n",
       "      <td>Never-married</td>\n",
       "      <td>Adm-clerical</td>\n",
       "      <td>Own-child</td>\n",
       "      <td>Black</td>\n",
       "      <td>Female</td>\n",
       "    </tr>\n",
       "    <tr>\n",
       "      <th>8468</th>\n",
       "      <td>Local-gov</td>\n",
       "      <td>Some-college</td>\n",
       "      <td>Widowed</td>\n",
       "      <td>Adm-clerical</td>\n",
       "      <td>Not-in-family</td>\n",
       "      <td>White</td>\n",
       "      <td>Female</td>\n",
       "    </tr>\n",
       "    <tr>\n",
       "      <th>35080</th>\n",
       "      <td>Private</td>\n",
       "      <td>Some-college</td>\n",
       "      <td>Never-married</td>\n",
       "      <td>Sales</td>\n",
       "      <td>Own-child</td>\n",
       "      <td>White</td>\n",
       "      <td>Female</td>\n",
       "    </tr>\n",
       "    <tr>\n",
       "      <th>24564</th>\n",
       "      <td>Private</td>\n",
       "      <td>Assoc-voc</td>\n",
       "      <td>Married-civ-spouse</td>\n",
       "      <td>Exec-managerial</td>\n",
       "      <td>Husband</td>\n",
       "      <td>White</td>\n",
       "      <td>Male</td>\n",
       "    </tr>\n",
       "    <tr>\n",
       "      <th>...</th>\n",
       "      <td>...</td>\n",
       "      <td>...</td>\n",
       "      <td>...</td>\n",
       "      <td>...</td>\n",
       "      <td>...</td>\n",
       "      <td>...</td>\n",
       "      <td>...</td>\n",
       "    </tr>\n",
       "    <tr>\n",
       "      <th>32871</th>\n",
       "      <td>Private</td>\n",
       "      <td>Assoc-acdm</td>\n",
       "      <td>Divorced</td>\n",
       "      <td>Adm-clerical</td>\n",
       "      <td>Not-in-family</td>\n",
       "      <td>Black</td>\n",
       "      <td>Male</td>\n",
       "    </tr>\n",
       "    <tr>\n",
       "      <th>23005</th>\n",
       "      <td>Self-emp-not-inc</td>\n",
       "      <td>Some-college</td>\n",
       "      <td>Married-civ-spouse</td>\n",
       "      <td>Prof-specialty</td>\n",
       "      <td>Husband</td>\n",
       "      <td>White</td>\n",
       "      <td>Male</td>\n",
       "    </tr>\n",
       "    <tr>\n",
       "      <th>46059</th>\n",
       "      <td>Private</td>\n",
       "      <td>HS-grad</td>\n",
       "      <td>Married-civ-spouse</td>\n",
       "      <td>Handlers-cleaners</td>\n",
       "      <td>Husband</td>\n",
       "      <td>White</td>\n",
       "      <td>Male</td>\n",
       "    </tr>\n",
       "    <tr>\n",
       "      <th>47094</th>\n",
       "      <td>Local-gov</td>\n",
       "      <td>Assoc-acdm</td>\n",
       "      <td>Never-married</td>\n",
       "      <td>Adm-clerical</td>\n",
       "      <td>Not-in-family</td>\n",
       "      <td>White</td>\n",
       "      <td>Female</td>\n",
       "    </tr>\n",
       "    <tr>\n",
       "      <th>2958</th>\n",
       "      <td>Private</td>\n",
       "      <td>Assoc-voc</td>\n",
       "      <td>Never-married</td>\n",
       "      <td>Handlers-cleaners</td>\n",
       "      <td>Not-in-family</td>\n",
       "      <td>White</td>\n",
       "      <td>Male</td>\n",
       "    </tr>\n",
       "  </tbody>\n",
       "</table>\n",
       "<p>33881 rows × 7 columns</p>\n",
       "</div>"
      ],
      "text/plain": [
       "              workclass     education      marital status         occupation  \\\n",
       "979    Self-emp-not-inc   Prof-school            Divorced     Prof-specialty   \n",
       "7075            Private  Some-college       Never-married       Adm-clerical   \n",
       "8468          Local-gov  Some-college             Widowed       Adm-clerical   \n",
       "35080           Private  Some-college       Never-married              Sales   \n",
       "24564           Private     Assoc-voc  Married-civ-spouse    Exec-managerial   \n",
       "...                 ...           ...                 ...                ...   \n",
       "32871           Private    Assoc-acdm            Divorced       Adm-clerical   \n",
       "23005  Self-emp-not-inc  Some-college  Married-civ-spouse     Prof-specialty   \n",
       "46059           Private       HS-grad  Married-civ-spouse  Handlers-cleaners   \n",
       "47094         Local-gov    Assoc-acdm       Never-married       Adm-clerical   \n",
       "2958            Private     Assoc-voc       Never-married  Handlers-cleaners   \n",
       "\n",
       "        relationship   race  gender  \n",
       "979        Unmarried  White    Male  \n",
       "7075       Own-child  Black  Female  \n",
       "8468   Not-in-family  White  Female  \n",
       "35080      Own-child  White  Female  \n",
       "24564        Husband  White    Male  \n",
       "...              ...    ...     ...  \n",
       "32871  Not-in-family  Black    Male  \n",
       "23005        Husband  White    Male  \n",
       "46059        Husband  White    Male  \n",
       "47094  Not-in-family  White  Female  \n",
       "2958   Not-in-family  White    Male  \n",
       "\n",
       "[33881 rows x 7 columns]"
      ]
     },
     "execution_count": 57,
     "metadata": {},
     "output_type": "execute_result"
    }
   ],
   "source": [
    "X_train"
   ]
  },
  {
   "cell_type": "code",
   "execution_count": 58,
   "id": "d90b8c8d",
   "metadata": {},
   "outputs": [
    {
     "data": {
      "text/plain": [
       "979      1\n",
       "7075     0\n",
       "8468     0\n",
       "35080    0\n",
       "24564    1\n",
       "        ..\n",
       "32871    0\n",
       "23005    0\n",
       "46059    1\n",
       "47094    0\n",
       "2958     0\n",
       "Name: income, Length: 33881, dtype: int32"
      ]
     },
     "execution_count": 58,
     "metadata": {},
     "output_type": "execute_result"
    }
   ],
   "source": [
    "y_train"
   ]
  },
  {
   "cell_type": "code",
   "execution_count": 59,
   "id": "726cf20c",
   "metadata": {},
   "outputs": [
    {
     "data": {
      "text/html": [
       "<div>\n",
       "<style scoped>\n",
       "    .dataframe tbody tr th:only-of-type {\n",
       "        vertical-align: middle;\n",
       "    }\n",
       "\n",
       "    .dataframe tbody tr th {\n",
       "        vertical-align: top;\n",
       "    }\n",
       "\n",
       "    .dataframe thead th {\n",
       "        text-align: right;\n",
       "    }\n",
       "</style>\n",
       "<table border=\"1\" class=\"dataframe\">\n",
       "  <thead>\n",
       "    <tr style=\"text-align: right;\">\n",
       "      <th></th>\n",
       "      <th>workclass</th>\n",
       "      <th>education</th>\n",
       "      <th>marital status</th>\n",
       "      <th>occupation</th>\n",
       "      <th>relationship</th>\n",
       "      <th>race</th>\n",
       "      <th>gender</th>\n",
       "    </tr>\n",
       "  </thead>\n",
       "  <tbody>\n",
       "    <tr>\n",
       "      <th>32612</th>\n",
       "      <td>Federal-gov</td>\n",
       "      <td>Assoc-voc</td>\n",
       "      <td>Married-civ-spouse</td>\n",
       "      <td>Craft-repair</td>\n",
       "      <td>Husband</td>\n",
       "      <td>Black</td>\n",
       "      <td>Male</td>\n",
       "    </tr>\n",
       "    <tr>\n",
       "      <th>1697</th>\n",
       "      <td>Private</td>\n",
       "      <td>Assoc-voc</td>\n",
       "      <td>Widowed</td>\n",
       "      <td>Adm-clerical</td>\n",
       "      <td>Unmarried</td>\n",
       "      <td>White</td>\n",
       "      <td>Female</td>\n",
       "    </tr>\n",
       "    <tr>\n",
       "      <th>25071</th>\n",
       "      <td>Private</td>\n",
       "      <td>HS-grad</td>\n",
       "      <td>Married-civ-spouse</td>\n",
       "      <td>Adm-clerical</td>\n",
       "      <td>Wife</td>\n",
       "      <td>White</td>\n",
       "      <td>Female</td>\n",
       "    </tr>\n",
       "    <tr>\n",
       "      <th>26364</th>\n",
       "      <td>Self-emp-not-inc</td>\n",
       "      <td>7th-8th</td>\n",
       "      <td>Married-civ-spouse</td>\n",
       "      <td>Farming-fishing</td>\n",
       "      <td>Husband</td>\n",
       "      <td>White</td>\n",
       "      <td>Male</td>\n",
       "    </tr>\n",
       "    <tr>\n",
       "      <th>13858</th>\n",
       "      <td>Private</td>\n",
       "      <td>Some-college</td>\n",
       "      <td>Never-married</td>\n",
       "      <td>Exec-managerial</td>\n",
       "      <td>Not-in-family</td>\n",
       "      <td>White</td>\n",
       "      <td>Female</td>\n",
       "    </tr>\n",
       "    <tr>\n",
       "      <th>...</th>\n",
       "      <td>...</td>\n",
       "      <td>...</td>\n",
       "      <td>...</td>\n",
       "      <td>...</td>\n",
       "      <td>...</td>\n",
       "      <td>...</td>\n",
       "      <td>...</td>\n",
       "    </tr>\n",
       "    <tr>\n",
       "      <th>48826</th>\n",
       "      <td>Local-gov</td>\n",
       "      <td>Assoc-acdm</td>\n",
       "      <td>Married-civ-spouse</td>\n",
       "      <td>Adm-clerical</td>\n",
       "      <td>Wife</td>\n",
       "      <td>White</td>\n",
       "      <td>Female</td>\n",
       "    </tr>\n",
       "    <tr>\n",
       "      <th>302</th>\n",
       "      <td>Local-gov</td>\n",
       "      <td>Some-college</td>\n",
       "      <td>Divorced</td>\n",
       "      <td>Adm-clerical</td>\n",
       "      <td>Unmarried</td>\n",
       "      <td>White</td>\n",
       "      <td>Female</td>\n",
       "    </tr>\n",
       "    <tr>\n",
       "      <th>23045</th>\n",
       "      <td>Private</td>\n",
       "      <td>HS-grad</td>\n",
       "      <td>Married-civ-spouse</td>\n",
       "      <td>Craft-repair</td>\n",
       "      <td>Husband</td>\n",
       "      <td>White</td>\n",
       "      <td>Male</td>\n",
       "    </tr>\n",
       "    <tr>\n",
       "      <th>2121</th>\n",
       "      <td>Private</td>\n",
       "      <td>Bachelors</td>\n",
       "      <td>Married-civ-spouse</td>\n",
       "      <td>Exec-managerial</td>\n",
       "      <td>Husband</td>\n",
       "      <td>White</td>\n",
       "      <td>Male</td>\n",
       "    </tr>\n",
       "    <tr>\n",
       "      <th>40411</th>\n",
       "      <td>Private</td>\n",
       "      <td>Some-college</td>\n",
       "      <td>Married-civ-spouse</td>\n",
       "      <td>Other-service</td>\n",
       "      <td>Wife</td>\n",
       "      <td>White</td>\n",
       "      <td>Female</td>\n",
       "    </tr>\n",
       "  </tbody>\n",
       "</table>\n",
       "<p>11294 rows × 7 columns</p>\n",
       "</div>"
      ],
      "text/plain": [
       "              workclass     education      marital status       occupation  \\\n",
       "32612       Federal-gov     Assoc-voc  Married-civ-spouse     Craft-repair   \n",
       "1697            Private     Assoc-voc             Widowed     Adm-clerical   \n",
       "25071           Private       HS-grad  Married-civ-spouse     Adm-clerical   \n",
       "26364  Self-emp-not-inc       7th-8th  Married-civ-spouse  Farming-fishing   \n",
       "13858           Private  Some-college       Never-married  Exec-managerial   \n",
       "...                 ...           ...                 ...              ...   \n",
       "48826         Local-gov    Assoc-acdm  Married-civ-spouse     Adm-clerical   \n",
       "302           Local-gov  Some-college            Divorced     Adm-clerical   \n",
       "23045           Private       HS-grad  Married-civ-spouse     Craft-repair   \n",
       "2121            Private     Bachelors  Married-civ-spouse  Exec-managerial   \n",
       "40411           Private  Some-college  Married-civ-spouse    Other-service   \n",
       "\n",
       "        relationship   race  gender  \n",
       "32612        Husband  Black    Male  \n",
       "1697       Unmarried  White  Female  \n",
       "25071           Wife  White  Female  \n",
       "26364        Husband  White    Male  \n",
       "13858  Not-in-family  White  Female  \n",
       "...              ...    ...     ...  \n",
       "48826           Wife  White  Female  \n",
       "302        Unmarried  White  Female  \n",
       "23045        Husband  White    Male  \n",
       "2121         Husband  White    Male  \n",
       "40411           Wife  White  Female  \n",
       "\n",
       "[11294 rows x 7 columns]"
      ]
     },
     "execution_count": 59,
     "metadata": {},
     "output_type": "execute_result"
    }
   ],
   "source": [
    "X_test"
   ]
  },
  {
   "cell_type": "code",
   "execution_count": 60,
   "id": "4f2907b1",
   "metadata": {},
   "outputs": [
    {
     "data": {
      "text/plain": [
       "32612    1\n",
       "1697     0\n",
       "25071    1\n",
       "26364    0\n",
       "13858    0\n",
       "        ..\n",
       "48826    1\n",
       "302      0\n",
       "23045    1\n",
       "2121     1\n",
       "40411    0\n",
       "Name: income, Length: 11294, dtype: int32"
      ]
     },
     "execution_count": 60,
     "metadata": {},
     "output_type": "execute_result"
    }
   ],
   "source": [
    "y_test"
   ]
  },
  {
   "cell_type": "code",
   "execution_count": 61,
   "id": "d20b52a2",
   "metadata": {},
   "outputs": [
    {
     "data": {
      "text/plain": [
       "workclass         object\n",
       "education         object\n",
       "marital status    object\n",
       "occupation        object\n",
       "relationship      object\n",
       "race              object\n",
       "gender            object\n",
       "dtype: object"
      ]
     },
     "execution_count": 61,
     "metadata": {},
     "output_type": "execute_result"
    }
   ],
   "source": [
    "X_train.dtypes"
   ]
  },
  {
   "cell_type": "code",
   "execution_count": 62,
   "id": "a8f52988",
   "metadata": {},
   "outputs": [
    {
     "data": {
      "text/plain": [
       "Private             0.736903\n",
       "Self-emp-not-inc    0.083292\n",
       "Local-gov           0.069360\n",
       "State-gov           0.043151\n",
       "Self-emp-inc        0.036245\n",
       "Federal-gov         0.030548\n",
       "Without-pay         0.000502\n",
       "Name: workclass, dtype: float64"
      ]
     },
     "execution_count": 62,
     "metadata": {},
     "output_type": "execute_result"
    }
   ],
   "source": [
    "# applying one hot encoding\n",
    "X_train['workclass'].value_counts(normalize=True)"
   ]
  },
  {
   "cell_type": "code",
   "execution_count": 63,
   "id": "553e99b2",
   "metadata": {},
   "outputs": [
    {
     "data": {
      "text/plain": [
       "HS-grad         0.328267\n",
       "Some-college    0.219149\n",
       "Bachelors       0.165609\n",
       "Masters         0.054780\n",
       "Assoc-voc       0.043948\n",
       "11th            0.036451\n",
       "Assoc-acdm      0.033795\n",
       "10th            0.026564\n",
       "7th-8th         0.018240\n",
       "Prof-school     0.016824\n",
       "9th             0.014580\n",
       "12th            0.012869\n",
       "Doctorate       0.012308\n",
       "5th-6th         0.010035\n",
       "1st-4th         0.005047\n",
       "Preschool       0.001535\n",
       "Name: education, dtype: float64"
      ]
     },
     "execution_count": 63,
     "metadata": {},
     "output_type": "execute_result"
    }
   ],
   "source": [
    "X_train['education'].value_counts(normalize=True)"
   ]
  },
  {
   "cell_type": "code",
   "execution_count": 64,
   "id": "7b4fd9e6",
   "metadata": {},
   "outputs": [
    {
     "data": {
      "text/plain": [
       "Married-civ-spouse       0.468345\n",
       "Never-married            0.321744\n",
       "Divorced                 0.138455\n",
       "Separated                0.030666\n",
       "Widowed                  0.028157\n",
       "Married-spouse-absent    0.011865\n",
       "Married-AF-spouse        0.000767\n",
       "Name: marital status, dtype: float64"
      ]
     },
     "execution_count": 64,
     "metadata": {},
     "output_type": "execute_result"
    }
   ],
   "source": [
    "X_train['marital status'].value_counts(normalize=True)"
   ]
  },
  {
   "cell_type": "code",
   "execution_count": 65,
   "id": "8f8ab51c",
   "metadata": {},
   "outputs": [
    {
     "data": {
      "text/plain": [
       "Prof-specialty       0.133497\n",
       "Exec-managerial      0.132464\n",
       "Craft-repair         0.132109\n",
       "Adm-clerical         0.122606\n",
       "Sales                0.120156\n",
       "Other-service        0.107081\n",
       "Machine-op-inspct    0.065346\n",
       "Transport-moving     0.051976\n",
       "Handlers-cleaners    0.044833\n",
       "Farming-fishing      0.031906\n",
       "Tech-support         0.030666\n",
       "Protective-serv      0.021841\n",
       "Priv-house-serv      0.005165\n",
       "Armed-Forces         0.000354\n",
       "Name: occupation, dtype: float64"
      ]
     },
     "execution_count": 65,
     "metadata": {},
     "output_type": "execute_result"
    }
   ],
   "source": [
    "X_train['occupation'].value_counts(normalize=True)"
   ]
  },
  {
   "cell_type": "code",
   "execution_count": 66,
   "id": "06703e6c",
   "metadata": {},
   "outputs": [
    {
     "data": {
      "text/plain": [
       "Husband           0.415690\n",
       "Not-in-family     0.256693\n",
       "Own-child         0.146070\n",
       "Unmarried         0.105546\n",
       "Wife              0.046457\n",
       "Other-relative    0.029545\n",
       "Name: relationship, dtype: float64"
      ]
     },
     "execution_count": 66,
     "metadata": {},
     "output_type": "execute_result"
    }
   ],
   "source": [
    "X_train['relationship'].value_counts(normalize=True)"
   ]
  },
  {
   "cell_type": "code",
   "execution_count": 67,
   "id": "6d0e7640",
   "metadata": {},
   "outputs": [
    {
     "data": {
      "text/plain": [
       "White                 0.859361\n",
       "Black                 0.093828\n",
       "Asian-Pac-Islander    0.029102\n",
       "Amer-Indian-Eskimo    0.009947\n",
       "Other                 0.007762\n",
       "Name: race, dtype: float64"
      ]
     },
     "execution_count": 67,
     "metadata": {},
     "output_type": "execute_result"
    }
   ],
   "source": [
    "X_train['race'].value_counts(normalize=True)"
   ]
  },
  {
   "cell_type": "code",
   "execution_count": 68,
   "id": "4851572b",
   "metadata": {},
   "outputs": [
    {
     "data": {
      "text/plain": [
       "Male      0.675659\n",
       "Female    0.324341\n",
       "Name: gender, dtype: float64"
      ]
     },
     "execution_count": 68,
     "metadata": {},
     "output_type": "execute_result"
    }
   ],
   "source": [
    "X_train['gender'].value_counts(normalize=True)"
   ]
  },
  {
   "cell_type": "code",
   "execution_count": 69,
   "id": "f4e95aaf",
   "metadata": {},
   "outputs": [
    {
     "name": "stdout",
     "output_type": "stream",
     "text": [
      "Requirement already satisfied: scikit-learn in c:\\users\\hp\\anaconda3\\lib\\site-packages (1.1.2)\n",
      "Requirement already satisfied: joblib>=1.0.0 in c:\\users\\hp\\anaconda3\\lib\\site-packages (from scikit-learn) (1.0.1)\n",
      "Requirement already satisfied: scipy>=1.3.2 in c:\\users\\hp\\anaconda3\\lib\\site-packages (from scikit-learn) (1.6.2)\n",
      "Requirement already satisfied: threadpoolctl>=2.0.0 in c:\\users\\hp\\anaconda3\\lib\\site-packages (from scikit-learn) (2.1.0)\n",
      "Requirement already satisfied: numpy>=1.17.3 in c:\\users\\hp\\anaconda3\\lib\\site-packages (from scikit-learn) (1.20.1)\n",
      "Note: you may need to restart the kernel to use updated packages.\n"
     ]
    }
   ],
   "source": [
    "pip install -U scikit-learn"
   ]
  },
  {
   "cell_type": "code",
   "execution_count": 70,
   "id": "dba96052",
   "metadata": {},
   "outputs": [
    {
     "data": {
      "text/html": [
       "<div>\n",
       "<style scoped>\n",
       "    .dataframe tbody tr th:only-of-type {\n",
       "        vertical-align: middle;\n",
       "    }\n",
       "\n",
       "    .dataframe tbody tr th {\n",
       "        vertical-align: top;\n",
       "    }\n",
       "\n",
       "    .dataframe thead th {\n",
       "        text-align: right;\n",
       "    }\n",
       "</style>\n",
       "<table border=\"1\" class=\"dataframe\">\n",
       "  <thead>\n",
       "    <tr style=\"text-align: right;\">\n",
       "      <th></th>\n",
       "      <th>workclass_infrequent_sklearn</th>\n",
       "      <th>education_HS-grad</th>\n",
       "      <th>education_Some-college</th>\n",
       "      <th>education_infrequent_sklearn</th>\n",
       "      <th>marital status_Married-civ-spouse</th>\n",
       "      <th>marital status_Never-married</th>\n",
       "      <th>marital status_infrequent_sklearn</th>\n",
       "      <th>occupation_Craft-repair</th>\n",
       "      <th>occupation_Exec-managerial</th>\n",
       "      <th>occupation_Other-service</th>\n",
       "      <th>occupation_Prof-specialty</th>\n",
       "      <th>occupation_Sales</th>\n",
       "      <th>occupation_infrequent_sklearn</th>\n",
       "      <th>relationship_Not-in-family</th>\n",
       "      <th>relationship_Own-child</th>\n",
       "      <th>relationship_Unmarried</th>\n",
       "      <th>relationship_infrequent_sklearn</th>\n",
       "      <th>race_White</th>\n",
       "      <th>race_infrequent_sklearn</th>\n",
       "      <th>gender_Male</th>\n",
       "    </tr>\n",
       "  </thead>\n",
       "  <tbody>\n",
       "    <tr>\n",
       "      <th>979</th>\n",
       "      <td>1.0</td>\n",
       "      <td>0.0</td>\n",
       "      <td>0.0</td>\n",
       "      <td>1.0</td>\n",
       "      <td>0.0</td>\n",
       "      <td>0.0</td>\n",
       "      <td>0.0</td>\n",
       "      <td>0.0</td>\n",
       "      <td>0.0</td>\n",
       "      <td>0.0</td>\n",
       "      <td>1.0</td>\n",
       "      <td>0.0</td>\n",
       "      <td>0.0</td>\n",
       "      <td>0.0</td>\n",
       "      <td>0.0</td>\n",
       "      <td>1.0</td>\n",
       "      <td>0.0</td>\n",
       "      <td>1.0</td>\n",
       "      <td>0.0</td>\n",
       "      <td>1.0</td>\n",
       "    </tr>\n",
       "    <tr>\n",
       "      <th>7075</th>\n",
       "      <td>0.0</td>\n",
       "      <td>0.0</td>\n",
       "      <td>1.0</td>\n",
       "      <td>0.0</td>\n",
       "      <td>0.0</td>\n",
       "      <td>1.0</td>\n",
       "      <td>0.0</td>\n",
       "      <td>0.0</td>\n",
       "      <td>0.0</td>\n",
       "      <td>0.0</td>\n",
       "      <td>0.0</td>\n",
       "      <td>0.0</td>\n",
       "      <td>0.0</td>\n",
       "      <td>0.0</td>\n",
       "      <td>1.0</td>\n",
       "      <td>0.0</td>\n",
       "      <td>0.0</td>\n",
       "      <td>0.0</td>\n",
       "      <td>0.0</td>\n",
       "      <td>0.0</td>\n",
       "    </tr>\n",
       "    <tr>\n",
       "      <th>8468</th>\n",
       "      <td>1.0</td>\n",
       "      <td>0.0</td>\n",
       "      <td>1.0</td>\n",
       "      <td>0.0</td>\n",
       "      <td>0.0</td>\n",
       "      <td>0.0</td>\n",
       "      <td>1.0</td>\n",
       "      <td>0.0</td>\n",
       "      <td>0.0</td>\n",
       "      <td>0.0</td>\n",
       "      <td>0.0</td>\n",
       "      <td>0.0</td>\n",
       "      <td>0.0</td>\n",
       "      <td>1.0</td>\n",
       "      <td>0.0</td>\n",
       "      <td>0.0</td>\n",
       "      <td>0.0</td>\n",
       "      <td>1.0</td>\n",
       "      <td>0.0</td>\n",
       "      <td>0.0</td>\n",
       "    </tr>\n",
       "    <tr>\n",
       "      <th>35080</th>\n",
       "      <td>0.0</td>\n",
       "      <td>0.0</td>\n",
       "      <td>1.0</td>\n",
       "      <td>0.0</td>\n",
       "      <td>0.0</td>\n",
       "      <td>1.0</td>\n",
       "      <td>0.0</td>\n",
       "      <td>0.0</td>\n",
       "      <td>0.0</td>\n",
       "      <td>0.0</td>\n",
       "      <td>0.0</td>\n",
       "      <td>1.0</td>\n",
       "      <td>0.0</td>\n",
       "      <td>0.0</td>\n",
       "      <td>1.0</td>\n",
       "      <td>0.0</td>\n",
       "      <td>0.0</td>\n",
       "      <td>1.0</td>\n",
       "      <td>0.0</td>\n",
       "      <td>0.0</td>\n",
       "    </tr>\n",
       "    <tr>\n",
       "      <th>24564</th>\n",
       "      <td>0.0</td>\n",
       "      <td>0.0</td>\n",
       "      <td>0.0</td>\n",
       "      <td>1.0</td>\n",
       "      <td>1.0</td>\n",
       "      <td>0.0</td>\n",
       "      <td>0.0</td>\n",
       "      <td>0.0</td>\n",
       "      <td>1.0</td>\n",
       "      <td>0.0</td>\n",
       "      <td>0.0</td>\n",
       "      <td>0.0</td>\n",
       "      <td>0.0</td>\n",
       "      <td>0.0</td>\n",
       "      <td>0.0</td>\n",
       "      <td>0.0</td>\n",
       "      <td>0.0</td>\n",
       "      <td>1.0</td>\n",
       "      <td>0.0</td>\n",
       "      <td>1.0</td>\n",
       "    </tr>\n",
       "    <tr>\n",
       "      <th>...</th>\n",
       "      <td>...</td>\n",
       "      <td>...</td>\n",
       "      <td>...</td>\n",
       "      <td>...</td>\n",
       "      <td>...</td>\n",
       "      <td>...</td>\n",
       "      <td>...</td>\n",
       "      <td>...</td>\n",
       "      <td>...</td>\n",
       "      <td>...</td>\n",
       "      <td>...</td>\n",
       "      <td>...</td>\n",
       "      <td>...</td>\n",
       "      <td>...</td>\n",
       "      <td>...</td>\n",
       "      <td>...</td>\n",
       "      <td>...</td>\n",
       "      <td>...</td>\n",
       "      <td>...</td>\n",
       "      <td>...</td>\n",
       "    </tr>\n",
       "    <tr>\n",
       "      <th>32871</th>\n",
       "      <td>0.0</td>\n",
       "      <td>0.0</td>\n",
       "      <td>0.0</td>\n",
       "      <td>1.0</td>\n",
       "      <td>0.0</td>\n",
       "      <td>0.0</td>\n",
       "      <td>0.0</td>\n",
       "      <td>0.0</td>\n",
       "      <td>0.0</td>\n",
       "      <td>0.0</td>\n",
       "      <td>0.0</td>\n",
       "      <td>0.0</td>\n",
       "      <td>0.0</td>\n",
       "      <td>1.0</td>\n",
       "      <td>0.0</td>\n",
       "      <td>0.0</td>\n",
       "      <td>0.0</td>\n",
       "      <td>0.0</td>\n",
       "      <td>0.0</td>\n",
       "      <td>1.0</td>\n",
       "    </tr>\n",
       "    <tr>\n",
       "      <th>23005</th>\n",
       "      <td>1.0</td>\n",
       "      <td>0.0</td>\n",
       "      <td>1.0</td>\n",
       "      <td>0.0</td>\n",
       "      <td>1.0</td>\n",
       "      <td>0.0</td>\n",
       "      <td>0.0</td>\n",
       "      <td>0.0</td>\n",
       "      <td>0.0</td>\n",
       "      <td>0.0</td>\n",
       "      <td>1.0</td>\n",
       "      <td>0.0</td>\n",
       "      <td>0.0</td>\n",
       "      <td>0.0</td>\n",
       "      <td>0.0</td>\n",
       "      <td>0.0</td>\n",
       "      <td>0.0</td>\n",
       "      <td>1.0</td>\n",
       "      <td>0.0</td>\n",
       "      <td>1.0</td>\n",
       "    </tr>\n",
       "    <tr>\n",
       "      <th>46059</th>\n",
       "      <td>0.0</td>\n",
       "      <td>1.0</td>\n",
       "      <td>0.0</td>\n",
       "      <td>0.0</td>\n",
       "      <td>1.0</td>\n",
       "      <td>0.0</td>\n",
       "      <td>0.0</td>\n",
       "      <td>0.0</td>\n",
       "      <td>0.0</td>\n",
       "      <td>0.0</td>\n",
       "      <td>0.0</td>\n",
       "      <td>0.0</td>\n",
       "      <td>1.0</td>\n",
       "      <td>0.0</td>\n",
       "      <td>0.0</td>\n",
       "      <td>0.0</td>\n",
       "      <td>0.0</td>\n",
       "      <td>1.0</td>\n",
       "      <td>0.0</td>\n",
       "      <td>1.0</td>\n",
       "    </tr>\n",
       "    <tr>\n",
       "      <th>47094</th>\n",
       "      <td>1.0</td>\n",
       "      <td>0.0</td>\n",
       "      <td>0.0</td>\n",
       "      <td>1.0</td>\n",
       "      <td>0.0</td>\n",
       "      <td>1.0</td>\n",
       "      <td>0.0</td>\n",
       "      <td>0.0</td>\n",
       "      <td>0.0</td>\n",
       "      <td>0.0</td>\n",
       "      <td>0.0</td>\n",
       "      <td>0.0</td>\n",
       "      <td>0.0</td>\n",
       "      <td>1.0</td>\n",
       "      <td>0.0</td>\n",
       "      <td>0.0</td>\n",
       "      <td>0.0</td>\n",
       "      <td>1.0</td>\n",
       "      <td>0.0</td>\n",
       "      <td>0.0</td>\n",
       "    </tr>\n",
       "    <tr>\n",
       "      <th>2958</th>\n",
       "      <td>0.0</td>\n",
       "      <td>0.0</td>\n",
       "      <td>0.0</td>\n",
       "      <td>1.0</td>\n",
       "      <td>0.0</td>\n",
       "      <td>1.0</td>\n",
       "      <td>0.0</td>\n",
       "      <td>0.0</td>\n",
       "      <td>0.0</td>\n",
       "      <td>0.0</td>\n",
       "      <td>0.0</td>\n",
       "      <td>0.0</td>\n",
       "      <td>1.0</td>\n",
       "      <td>1.0</td>\n",
       "      <td>0.0</td>\n",
       "      <td>0.0</td>\n",
       "      <td>0.0</td>\n",
       "      <td>1.0</td>\n",
       "      <td>0.0</td>\n",
       "      <td>1.0</td>\n",
       "    </tr>\n",
       "  </tbody>\n",
       "</table>\n",
       "<p>33881 rows × 20 columns</p>\n",
       "</div>"
      ],
      "text/plain": [
       "       workclass_infrequent_sklearn  education_HS-grad  \\\n",
       "979                             1.0                0.0   \n",
       "7075                            0.0                0.0   \n",
       "8468                            1.0                0.0   \n",
       "35080                           0.0                0.0   \n",
       "24564                           0.0                0.0   \n",
       "...                             ...                ...   \n",
       "32871                           0.0                0.0   \n",
       "23005                           1.0                0.0   \n",
       "46059                           0.0                1.0   \n",
       "47094                           1.0                0.0   \n",
       "2958                            0.0                0.0   \n",
       "\n",
       "       education_Some-college  education_infrequent_sklearn  \\\n",
       "979                       0.0                           1.0   \n",
       "7075                      1.0                           0.0   \n",
       "8468                      1.0                           0.0   \n",
       "35080                     1.0                           0.0   \n",
       "24564                     0.0                           1.0   \n",
       "...                       ...                           ...   \n",
       "32871                     0.0                           1.0   \n",
       "23005                     1.0                           0.0   \n",
       "46059                     0.0                           0.0   \n",
       "47094                     0.0                           1.0   \n",
       "2958                      0.0                           1.0   \n",
       "\n",
       "       marital status_Married-civ-spouse  marital status_Never-married  \\\n",
       "979                                  0.0                           0.0   \n",
       "7075                                 0.0                           1.0   \n",
       "8468                                 0.0                           0.0   \n",
       "35080                                0.0                           1.0   \n",
       "24564                                1.0                           0.0   \n",
       "...                                  ...                           ...   \n",
       "32871                                0.0                           0.0   \n",
       "23005                                1.0                           0.0   \n",
       "46059                                1.0                           0.0   \n",
       "47094                                0.0                           1.0   \n",
       "2958                                 0.0                           1.0   \n",
       "\n",
       "       marital status_infrequent_sklearn  occupation_Craft-repair  \\\n",
       "979                                  0.0                      0.0   \n",
       "7075                                 0.0                      0.0   \n",
       "8468                                 1.0                      0.0   \n",
       "35080                                0.0                      0.0   \n",
       "24564                                0.0                      0.0   \n",
       "...                                  ...                      ...   \n",
       "32871                                0.0                      0.0   \n",
       "23005                                0.0                      0.0   \n",
       "46059                                0.0                      0.0   \n",
       "47094                                0.0                      0.0   \n",
       "2958                                 0.0                      0.0   \n",
       "\n",
       "       occupation_Exec-managerial  occupation_Other-service  \\\n",
       "979                           0.0                       0.0   \n",
       "7075                          0.0                       0.0   \n",
       "8468                          0.0                       0.0   \n",
       "35080                         0.0                       0.0   \n",
       "24564                         1.0                       0.0   \n",
       "...                           ...                       ...   \n",
       "32871                         0.0                       0.0   \n",
       "23005                         0.0                       0.0   \n",
       "46059                         0.0                       0.0   \n",
       "47094                         0.0                       0.0   \n",
       "2958                          0.0                       0.0   \n",
       "\n",
       "       occupation_Prof-specialty  occupation_Sales  \\\n",
       "979                          1.0               0.0   \n",
       "7075                         0.0               0.0   \n",
       "8468                         0.0               0.0   \n",
       "35080                        0.0               1.0   \n",
       "24564                        0.0               0.0   \n",
       "...                          ...               ...   \n",
       "32871                        0.0               0.0   \n",
       "23005                        1.0               0.0   \n",
       "46059                        0.0               0.0   \n",
       "47094                        0.0               0.0   \n",
       "2958                         0.0               0.0   \n",
       "\n",
       "       occupation_infrequent_sklearn  relationship_Not-in-family  \\\n",
       "979                              0.0                         0.0   \n",
       "7075                             0.0                         0.0   \n",
       "8468                             0.0                         1.0   \n",
       "35080                            0.0                         0.0   \n",
       "24564                            0.0                         0.0   \n",
       "...                              ...                         ...   \n",
       "32871                            0.0                         1.0   \n",
       "23005                            0.0                         0.0   \n",
       "46059                            1.0                         0.0   \n",
       "47094                            0.0                         1.0   \n",
       "2958                             1.0                         1.0   \n",
       "\n",
       "       relationship_Own-child  relationship_Unmarried  \\\n",
       "979                       0.0                     1.0   \n",
       "7075                      1.0                     0.0   \n",
       "8468                      0.0                     0.0   \n",
       "35080                     1.0                     0.0   \n",
       "24564                     0.0                     0.0   \n",
       "...                       ...                     ...   \n",
       "32871                     0.0                     0.0   \n",
       "23005                     0.0                     0.0   \n",
       "46059                     0.0                     0.0   \n",
       "47094                     0.0                     0.0   \n",
       "2958                      0.0                     0.0   \n",
       "\n",
       "       relationship_infrequent_sklearn  race_White  race_infrequent_sklearn  \\\n",
       "979                                0.0         1.0                      0.0   \n",
       "7075                               0.0         0.0                      0.0   \n",
       "8468                               0.0         1.0                      0.0   \n",
       "35080                              0.0         1.0                      0.0   \n",
       "24564                              0.0         1.0                      0.0   \n",
       "...                                ...         ...                      ...   \n",
       "32871                              0.0         0.0                      0.0   \n",
       "23005                              0.0         1.0                      0.0   \n",
       "46059                              0.0         1.0                      0.0   \n",
       "47094                              0.0         1.0                      0.0   \n",
       "2958                               0.0         1.0                      0.0   \n",
       "\n",
       "       gender_Male  \n",
       "979            1.0  \n",
       "7075           0.0  \n",
       "8468           0.0  \n",
       "35080          0.0  \n",
       "24564          1.0  \n",
       "...            ...  \n",
       "32871          1.0  \n",
       "23005          1.0  \n",
       "46059          1.0  \n",
       "47094          0.0  \n",
       "2958           1.0  \n",
       "\n",
       "[33881 rows x 20 columns]"
      ]
     },
     "execution_count": 70,
     "metadata": {},
     "output_type": "execute_result"
    }
   ],
   "source": [
    "# OneHotEncoding the categorical features\n",
    "\n",
    "from sklearn.preprocessing import OneHotEncoder\n",
    "\n",
    "encoder = OneHotEncoder(drop='first',min_frequency= 3000, sparse=False)\n",
    "X_train_ohe = pd.DataFrame(encoder.fit_transform(X_train), \n",
    "                               columns=encoder.get_feature_names_out(X_train.columns), \n",
    "                               index = X_train.index)\n",
    "\n",
    "X_train_ohe"
   ]
  },
  {
   "cell_type": "code",
   "execution_count": 71,
   "id": "453ece48",
   "metadata": {},
   "outputs": [
    {
     "data": {
      "text/plain": [
       "[array(['Federal-gov', 'Local-gov', 'Private', 'Self-emp-inc',\n",
       "        'Self-emp-not-inc', 'State-gov', 'Without-pay'], dtype=object),\n",
       " array(['10th', '11th', '12th', '1st-4th', '5th-6th', '7th-8th', '9th',\n",
       "        'Assoc-acdm', 'Assoc-voc', 'Bachelors', 'Doctorate', 'HS-grad',\n",
       "        'Masters', 'Preschool', 'Prof-school', 'Some-college'],\n",
       "       dtype=object),\n",
       " array(['Divorced', 'Married-AF-spouse', 'Married-civ-spouse',\n",
       "        'Married-spouse-absent', 'Never-married', 'Separated', 'Widowed'],\n",
       "       dtype=object),\n",
       " array(['Adm-clerical', 'Armed-Forces', 'Craft-repair', 'Exec-managerial',\n",
       "        'Farming-fishing', 'Handlers-cleaners', 'Machine-op-inspct',\n",
       "        'Other-service', 'Priv-house-serv', 'Prof-specialty',\n",
       "        'Protective-serv', 'Sales', 'Tech-support', 'Transport-moving'],\n",
       "       dtype=object),\n",
       " array(['Husband', 'Not-in-family', 'Other-relative', 'Own-child',\n",
       "        'Unmarried', 'Wife'], dtype=object),\n",
       " array(['Amer-Indian-Eskimo', 'Asian-Pac-Islander', 'Black', 'Other',\n",
       "        'White'], dtype=object),\n",
       " array(['Female', 'Male'], dtype=object)]"
      ]
     },
     "execution_count": 71,
     "metadata": {},
     "output_type": "execute_result"
    }
   ],
   "source": [
    "encoder.categories_"
   ]
  },
  {
   "cell_type": "code",
   "execution_count": 72,
   "id": "144bd6b7",
   "metadata": {},
   "outputs": [
    {
     "data": {
      "text/html": [
       "<div>\n",
       "<style scoped>\n",
       "    .dataframe tbody tr th:only-of-type {\n",
       "        vertical-align: middle;\n",
       "    }\n",
       "\n",
       "    .dataframe tbody tr th {\n",
       "        vertical-align: top;\n",
       "    }\n",
       "\n",
       "    .dataframe thead th {\n",
       "        text-align: right;\n",
       "    }\n",
       "</style>\n",
       "<table border=\"1\" class=\"dataframe\">\n",
       "  <thead>\n",
       "    <tr style=\"text-align: right;\">\n",
       "      <th></th>\n",
       "    </tr>\n",
       "  </thead>\n",
       "  <tbody>\n",
       "    <tr>\n",
       "      <th>979</th>\n",
       "    </tr>\n",
       "    <tr>\n",
       "      <th>7075</th>\n",
       "    </tr>\n",
       "    <tr>\n",
       "      <th>8468</th>\n",
       "    </tr>\n",
       "    <tr>\n",
       "      <th>35080</th>\n",
       "    </tr>\n",
       "    <tr>\n",
       "      <th>24564</th>\n",
       "    </tr>\n",
       "    <tr>\n",
       "      <th>...</th>\n",
       "    </tr>\n",
       "    <tr>\n",
       "      <th>32871</th>\n",
       "    </tr>\n",
       "    <tr>\n",
       "      <th>23005</th>\n",
       "    </tr>\n",
       "    <tr>\n",
       "      <th>46059</th>\n",
       "    </tr>\n",
       "    <tr>\n",
       "      <th>47094</th>\n",
       "    </tr>\n",
       "    <tr>\n",
       "      <th>2958</th>\n",
       "    </tr>\n",
       "  </tbody>\n",
       "</table>\n",
       "<p>33881 rows × 0 columns</p>\n",
       "</div>"
      ],
      "text/plain": [
       "Empty DataFrame\n",
       "Columns: []\n",
       "Index: [979, 7075, 8468, 35080, 24564, 37021, 40242, 19755, 12000, 32617, 20330, 2299, 34949, 44006, 13828, 60, 43608, 21724, 9428, 45676, 43677, 16016, 34197, 16297, 12289, 12258, 29991, 5637, 14408, 3815, 10859, 25041, 44636, 43737, 24063, 28600, 34178, 26415, 44107, 34677, 9729, 14427, 15203, 42692, 33497, 3325, 2274, 36296, 30786, 35242, 42245, 33634, 44755, 45952, 24029, 1216, 12496, 37221, 33193, 10938, 23764, 34632, 38203, 20890, 21864, 1662, 39722, 8421, 25515, 36493, 43563, 13115, 6020, 33061, 5611, 3348, 12979, 11022, 12601, 26384, 48765, 1250, 10823, 3927, 25687, 40442, 17368, 10979, 13204, 16085, 31058, 30075, 26856, 2798, 11148, 32243, 8670, 13555, 19547, 37299, ...]\n",
       "\n",
       "[33881 rows x 0 columns]"
      ]
     },
     "execution_count": 72,
     "metadata": {},
     "output_type": "execute_result"
    }
   ],
   "source": [
    "X_train_cat = pd.DataFrame(index=X_train.index)\n",
    "X_train_cat"
   ]
  },
  {
   "cell_type": "code",
   "execution_count": 73,
   "id": "d160c4fa",
   "metadata": {},
   "outputs": [
    {
     "data": {
      "text/html": [
       "<div>\n",
       "<style scoped>\n",
       "    .dataframe tbody tr th:only-of-type {\n",
       "        vertical-align: middle;\n",
       "    }\n",
       "\n",
       "    .dataframe tbody tr th {\n",
       "        vertical-align: top;\n",
       "    }\n",
       "\n",
       "    .dataframe thead th {\n",
       "        text-align: right;\n",
       "    }\n",
       "</style>\n",
       "<table border=\"1\" class=\"dataframe\">\n",
       "  <thead>\n",
       "    <tr style=\"text-align: right;\">\n",
       "      <th></th>\n",
       "      <th>workclass</th>\n",
       "      <th>education</th>\n",
       "      <th>marital status</th>\n",
       "      <th>occupation</th>\n",
       "      <th>relationship</th>\n",
       "      <th>race</th>\n",
       "      <th>gender</th>\n",
       "    </tr>\n",
       "  </thead>\n",
       "  <tbody>\n",
       "    <tr>\n",
       "      <th>32612</th>\n",
       "      <td>Federal-gov</td>\n",
       "      <td>Assoc-voc</td>\n",
       "      <td>Married-civ-spouse</td>\n",
       "      <td>Craft-repair</td>\n",
       "      <td>Husband</td>\n",
       "      <td>Black</td>\n",
       "      <td>Male</td>\n",
       "    </tr>\n",
       "    <tr>\n",
       "      <th>1697</th>\n",
       "      <td>Private</td>\n",
       "      <td>Assoc-voc</td>\n",
       "      <td>Widowed</td>\n",
       "      <td>Adm-clerical</td>\n",
       "      <td>Unmarried</td>\n",
       "      <td>White</td>\n",
       "      <td>Female</td>\n",
       "    </tr>\n",
       "    <tr>\n",
       "      <th>25071</th>\n",
       "      <td>Private</td>\n",
       "      <td>HS-grad</td>\n",
       "      <td>Married-civ-spouse</td>\n",
       "      <td>Adm-clerical</td>\n",
       "      <td>Wife</td>\n",
       "      <td>White</td>\n",
       "      <td>Female</td>\n",
       "    </tr>\n",
       "    <tr>\n",
       "      <th>26364</th>\n",
       "      <td>Self-emp-not-inc</td>\n",
       "      <td>7th-8th</td>\n",
       "      <td>Married-civ-spouse</td>\n",
       "      <td>Farming-fishing</td>\n",
       "      <td>Husband</td>\n",
       "      <td>White</td>\n",
       "      <td>Male</td>\n",
       "    </tr>\n",
       "    <tr>\n",
       "      <th>13858</th>\n",
       "      <td>Private</td>\n",
       "      <td>Some-college</td>\n",
       "      <td>Never-married</td>\n",
       "      <td>Exec-managerial</td>\n",
       "      <td>Not-in-family</td>\n",
       "      <td>White</td>\n",
       "      <td>Female</td>\n",
       "    </tr>\n",
       "    <tr>\n",
       "      <th>...</th>\n",
       "      <td>...</td>\n",
       "      <td>...</td>\n",
       "      <td>...</td>\n",
       "      <td>...</td>\n",
       "      <td>...</td>\n",
       "      <td>...</td>\n",
       "      <td>...</td>\n",
       "    </tr>\n",
       "    <tr>\n",
       "      <th>48826</th>\n",
       "      <td>Local-gov</td>\n",
       "      <td>Assoc-acdm</td>\n",
       "      <td>Married-civ-spouse</td>\n",
       "      <td>Adm-clerical</td>\n",
       "      <td>Wife</td>\n",
       "      <td>White</td>\n",
       "      <td>Female</td>\n",
       "    </tr>\n",
       "    <tr>\n",
       "      <th>302</th>\n",
       "      <td>Local-gov</td>\n",
       "      <td>Some-college</td>\n",
       "      <td>Divorced</td>\n",
       "      <td>Adm-clerical</td>\n",
       "      <td>Unmarried</td>\n",
       "      <td>White</td>\n",
       "      <td>Female</td>\n",
       "    </tr>\n",
       "    <tr>\n",
       "      <th>23045</th>\n",
       "      <td>Private</td>\n",
       "      <td>HS-grad</td>\n",
       "      <td>Married-civ-spouse</td>\n",
       "      <td>Craft-repair</td>\n",
       "      <td>Husband</td>\n",
       "      <td>White</td>\n",
       "      <td>Male</td>\n",
       "    </tr>\n",
       "    <tr>\n",
       "      <th>2121</th>\n",
       "      <td>Private</td>\n",
       "      <td>Bachelors</td>\n",
       "      <td>Married-civ-spouse</td>\n",
       "      <td>Exec-managerial</td>\n",
       "      <td>Husband</td>\n",
       "      <td>White</td>\n",
       "      <td>Male</td>\n",
       "    </tr>\n",
       "    <tr>\n",
       "      <th>40411</th>\n",
       "      <td>Private</td>\n",
       "      <td>Some-college</td>\n",
       "      <td>Married-civ-spouse</td>\n",
       "      <td>Other-service</td>\n",
       "      <td>Wife</td>\n",
       "      <td>White</td>\n",
       "      <td>Female</td>\n",
       "    </tr>\n",
       "  </tbody>\n",
       "</table>\n",
       "<p>11294 rows × 7 columns</p>\n",
       "</div>"
      ],
      "text/plain": [
       "              workclass     education      marital status       occupation  \\\n",
       "32612       Federal-gov     Assoc-voc  Married-civ-spouse     Craft-repair   \n",
       "1697            Private     Assoc-voc             Widowed     Adm-clerical   \n",
       "25071           Private       HS-grad  Married-civ-spouse     Adm-clerical   \n",
       "26364  Self-emp-not-inc       7th-8th  Married-civ-spouse  Farming-fishing   \n",
       "13858           Private  Some-college       Never-married  Exec-managerial   \n",
       "...                 ...           ...                 ...              ...   \n",
       "48826         Local-gov    Assoc-acdm  Married-civ-spouse     Adm-clerical   \n",
       "302           Local-gov  Some-college            Divorced     Adm-clerical   \n",
       "23045           Private       HS-grad  Married-civ-spouse     Craft-repair   \n",
       "2121            Private     Bachelors  Married-civ-spouse  Exec-managerial   \n",
       "40411           Private  Some-college  Married-civ-spouse    Other-service   \n",
       "\n",
       "        relationship   race  gender  \n",
       "32612        Husband  Black    Male  \n",
       "1697       Unmarried  White  Female  \n",
       "25071           Wife  White  Female  \n",
       "26364        Husband  White    Male  \n",
       "13858  Not-in-family  White  Female  \n",
       "...              ...    ...     ...  \n",
       "48826           Wife  White  Female  \n",
       "302        Unmarried  White  Female  \n",
       "23045        Husband  White    Male  \n",
       "2121         Husband  White    Male  \n",
       "40411           Wife  White  Female  \n",
       "\n",
       "[11294 rows x 7 columns]"
      ]
     },
     "execution_count": 73,
     "metadata": {},
     "output_type": "execute_result"
    }
   ],
   "source": [
    "X_test"
   ]
  },
  {
   "cell_type": "code",
   "execution_count": 74,
   "id": "94b6b2a6",
   "metadata": {},
   "outputs": [
    {
     "name": "stdout",
     "output_type": "stream",
     "text": [
      "<class 'pandas.core.frame.DataFrame'>\n",
      "Int64Index: 11294 entries, 32612 to 40411\n",
      "Data columns (total 7 columns):\n",
      " #   Column          Non-Null Count  Dtype \n",
      "---  ------          --------------  ----- \n",
      " 0   workclass       11294 non-null  object\n",
      " 1   education       11294 non-null  object\n",
      " 2   marital status  11294 non-null  object\n",
      " 3   occupation      11294 non-null  object\n",
      " 4   relationship    11294 non-null  object\n",
      " 5   race            11294 non-null  object\n",
      " 6   gender          11294 non-null  object\n",
      "dtypes: object(7)\n",
      "memory usage: 705.9+ KB\n"
     ]
    }
   ],
   "source": [
    "X_test.info()"
   ]
  },
  {
   "cell_type": "code",
   "execution_count": 75,
   "id": "0b623051",
   "metadata": {},
   "outputs": [
    {
     "data": {
      "text/html": [
       "<div>\n",
       "<style scoped>\n",
       "    .dataframe tbody tr th:only-of-type {\n",
       "        vertical-align: middle;\n",
       "    }\n",
       "\n",
       "    .dataframe tbody tr th {\n",
       "        vertical-align: top;\n",
       "    }\n",
       "\n",
       "    .dataframe thead th {\n",
       "        text-align: right;\n",
       "    }\n",
       "</style>\n",
       "<table border=\"1\" class=\"dataframe\">\n",
       "  <thead>\n",
       "    <tr style=\"text-align: right;\">\n",
       "      <th></th>\n",
       "      <th>workclass_infrequent_sklearn</th>\n",
       "      <th>education_HS-grad</th>\n",
       "      <th>education_Some-college</th>\n",
       "      <th>education_infrequent_sklearn</th>\n",
       "      <th>marital status_Married-civ-spouse</th>\n",
       "      <th>marital status_Never-married</th>\n",
       "      <th>marital status_infrequent_sklearn</th>\n",
       "      <th>occupation_Craft-repair</th>\n",
       "      <th>occupation_Exec-managerial</th>\n",
       "      <th>occupation_Other-service</th>\n",
       "      <th>occupation_Prof-specialty</th>\n",
       "      <th>occupation_Sales</th>\n",
       "      <th>occupation_infrequent_sklearn</th>\n",
       "      <th>relationship_Not-in-family</th>\n",
       "      <th>relationship_Own-child</th>\n",
       "      <th>relationship_Unmarried</th>\n",
       "      <th>relationship_infrequent_sklearn</th>\n",
       "      <th>race_White</th>\n",
       "      <th>race_infrequent_sklearn</th>\n",
       "      <th>gender_Male</th>\n",
       "    </tr>\n",
       "  </thead>\n",
       "  <tbody>\n",
       "    <tr>\n",
       "      <th>32612</th>\n",
       "      <td>1.0</td>\n",
       "      <td>0.0</td>\n",
       "      <td>0.0</td>\n",
       "      <td>1.0</td>\n",
       "      <td>1.0</td>\n",
       "      <td>0.0</td>\n",
       "      <td>0.0</td>\n",
       "      <td>1.0</td>\n",
       "      <td>0.0</td>\n",
       "      <td>0.0</td>\n",
       "      <td>0.0</td>\n",
       "      <td>0.0</td>\n",
       "      <td>0.0</td>\n",
       "      <td>0.0</td>\n",
       "      <td>0.0</td>\n",
       "      <td>0.0</td>\n",
       "      <td>0.0</td>\n",
       "      <td>0.0</td>\n",
       "      <td>0.0</td>\n",
       "      <td>1.0</td>\n",
       "    </tr>\n",
       "    <tr>\n",
       "      <th>1697</th>\n",
       "      <td>0.0</td>\n",
       "      <td>0.0</td>\n",
       "      <td>0.0</td>\n",
       "      <td>1.0</td>\n",
       "      <td>0.0</td>\n",
       "      <td>0.0</td>\n",
       "      <td>1.0</td>\n",
       "      <td>0.0</td>\n",
       "      <td>0.0</td>\n",
       "      <td>0.0</td>\n",
       "      <td>0.0</td>\n",
       "      <td>0.0</td>\n",
       "      <td>0.0</td>\n",
       "      <td>0.0</td>\n",
       "      <td>0.0</td>\n",
       "      <td>1.0</td>\n",
       "      <td>0.0</td>\n",
       "      <td>1.0</td>\n",
       "      <td>0.0</td>\n",
       "      <td>0.0</td>\n",
       "    </tr>\n",
       "    <tr>\n",
       "      <th>25071</th>\n",
       "      <td>0.0</td>\n",
       "      <td>1.0</td>\n",
       "      <td>0.0</td>\n",
       "      <td>0.0</td>\n",
       "      <td>1.0</td>\n",
       "      <td>0.0</td>\n",
       "      <td>0.0</td>\n",
       "      <td>0.0</td>\n",
       "      <td>0.0</td>\n",
       "      <td>0.0</td>\n",
       "      <td>0.0</td>\n",
       "      <td>0.0</td>\n",
       "      <td>0.0</td>\n",
       "      <td>0.0</td>\n",
       "      <td>0.0</td>\n",
       "      <td>0.0</td>\n",
       "      <td>1.0</td>\n",
       "      <td>1.0</td>\n",
       "      <td>0.0</td>\n",
       "      <td>0.0</td>\n",
       "    </tr>\n",
       "    <tr>\n",
       "      <th>26364</th>\n",
       "      <td>1.0</td>\n",
       "      <td>0.0</td>\n",
       "      <td>0.0</td>\n",
       "      <td>1.0</td>\n",
       "      <td>1.0</td>\n",
       "      <td>0.0</td>\n",
       "      <td>0.0</td>\n",
       "      <td>0.0</td>\n",
       "      <td>0.0</td>\n",
       "      <td>0.0</td>\n",
       "      <td>0.0</td>\n",
       "      <td>0.0</td>\n",
       "      <td>1.0</td>\n",
       "      <td>0.0</td>\n",
       "      <td>0.0</td>\n",
       "      <td>0.0</td>\n",
       "      <td>0.0</td>\n",
       "      <td>1.0</td>\n",
       "      <td>0.0</td>\n",
       "      <td>1.0</td>\n",
       "    </tr>\n",
       "    <tr>\n",
       "      <th>13858</th>\n",
       "      <td>0.0</td>\n",
       "      <td>0.0</td>\n",
       "      <td>1.0</td>\n",
       "      <td>0.0</td>\n",
       "      <td>0.0</td>\n",
       "      <td>1.0</td>\n",
       "      <td>0.0</td>\n",
       "      <td>0.0</td>\n",
       "      <td>1.0</td>\n",
       "      <td>0.0</td>\n",
       "      <td>0.0</td>\n",
       "      <td>0.0</td>\n",
       "      <td>0.0</td>\n",
       "      <td>1.0</td>\n",
       "      <td>0.0</td>\n",
       "      <td>0.0</td>\n",
       "      <td>0.0</td>\n",
       "      <td>1.0</td>\n",
       "      <td>0.0</td>\n",
       "      <td>0.0</td>\n",
       "    </tr>\n",
       "    <tr>\n",
       "      <th>...</th>\n",
       "      <td>...</td>\n",
       "      <td>...</td>\n",
       "      <td>...</td>\n",
       "      <td>...</td>\n",
       "      <td>...</td>\n",
       "      <td>...</td>\n",
       "      <td>...</td>\n",
       "      <td>...</td>\n",
       "      <td>...</td>\n",
       "      <td>...</td>\n",
       "      <td>...</td>\n",
       "      <td>...</td>\n",
       "      <td>...</td>\n",
       "      <td>...</td>\n",
       "      <td>...</td>\n",
       "      <td>...</td>\n",
       "      <td>...</td>\n",
       "      <td>...</td>\n",
       "      <td>...</td>\n",
       "      <td>...</td>\n",
       "    </tr>\n",
       "    <tr>\n",
       "      <th>48826</th>\n",
       "      <td>1.0</td>\n",
       "      <td>0.0</td>\n",
       "      <td>0.0</td>\n",
       "      <td>1.0</td>\n",
       "      <td>1.0</td>\n",
       "      <td>0.0</td>\n",
       "      <td>0.0</td>\n",
       "      <td>0.0</td>\n",
       "      <td>0.0</td>\n",
       "      <td>0.0</td>\n",
       "      <td>0.0</td>\n",
       "      <td>0.0</td>\n",
       "      <td>0.0</td>\n",
       "      <td>0.0</td>\n",
       "      <td>0.0</td>\n",
       "      <td>0.0</td>\n",
       "      <td>1.0</td>\n",
       "      <td>1.0</td>\n",
       "      <td>0.0</td>\n",
       "      <td>0.0</td>\n",
       "    </tr>\n",
       "    <tr>\n",
       "      <th>302</th>\n",
       "      <td>1.0</td>\n",
       "      <td>0.0</td>\n",
       "      <td>1.0</td>\n",
       "      <td>0.0</td>\n",
       "      <td>0.0</td>\n",
       "      <td>0.0</td>\n",
       "      <td>0.0</td>\n",
       "      <td>0.0</td>\n",
       "      <td>0.0</td>\n",
       "      <td>0.0</td>\n",
       "      <td>0.0</td>\n",
       "      <td>0.0</td>\n",
       "      <td>0.0</td>\n",
       "      <td>0.0</td>\n",
       "      <td>0.0</td>\n",
       "      <td>1.0</td>\n",
       "      <td>0.0</td>\n",
       "      <td>1.0</td>\n",
       "      <td>0.0</td>\n",
       "      <td>0.0</td>\n",
       "    </tr>\n",
       "    <tr>\n",
       "      <th>23045</th>\n",
       "      <td>0.0</td>\n",
       "      <td>1.0</td>\n",
       "      <td>0.0</td>\n",
       "      <td>0.0</td>\n",
       "      <td>1.0</td>\n",
       "      <td>0.0</td>\n",
       "      <td>0.0</td>\n",
       "      <td>1.0</td>\n",
       "      <td>0.0</td>\n",
       "      <td>0.0</td>\n",
       "      <td>0.0</td>\n",
       "      <td>0.0</td>\n",
       "      <td>0.0</td>\n",
       "      <td>0.0</td>\n",
       "      <td>0.0</td>\n",
       "      <td>0.0</td>\n",
       "      <td>0.0</td>\n",
       "      <td>1.0</td>\n",
       "      <td>0.0</td>\n",
       "      <td>1.0</td>\n",
       "    </tr>\n",
       "    <tr>\n",
       "      <th>2121</th>\n",
       "      <td>0.0</td>\n",
       "      <td>0.0</td>\n",
       "      <td>0.0</td>\n",
       "      <td>0.0</td>\n",
       "      <td>1.0</td>\n",
       "      <td>0.0</td>\n",
       "      <td>0.0</td>\n",
       "      <td>0.0</td>\n",
       "      <td>1.0</td>\n",
       "      <td>0.0</td>\n",
       "      <td>0.0</td>\n",
       "      <td>0.0</td>\n",
       "      <td>0.0</td>\n",
       "      <td>0.0</td>\n",
       "      <td>0.0</td>\n",
       "      <td>0.0</td>\n",
       "      <td>0.0</td>\n",
       "      <td>1.0</td>\n",
       "      <td>0.0</td>\n",
       "      <td>1.0</td>\n",
       "    </tr>\n",
       "    <tr>\n",
       "      <th>40411</th>\n",
       "      <td>0.0</td>\n",
       "      <td>0.0</td>\n",
       "      <td>1.0</td>\n",
       "      <td>0.0</td>\n",
       "      <td>1.0</td>\n",
       "      <td>0.0</td>\n",
       "      <td>0.0</td>\n",
       "      <td>0.0</td>\n",
       "      <td>0.0</td>\n",
       "      <td>1.0</td>\n",
       "      <td>0.0</td>\n",
       "      <td>0.0</td>\n",
       "      <td>0.0</td>\n",
       "      <td>0.0</td>\n",
       "      <td>0.0</td>\n",
       "      <td>0.0</td>\n",
       "      <td>1.0</td>\n",
       "      <td>1.0</td>\n",
       "      <td>0.0</td>\n",
       "      <td>0.0</td>\n",
       "    </tr>\n",
       "  </tbody>\n",
       "</table>\n",
       "<p>11294 rows × 20 columns</p>\n",
       "</div>"
      ],
      "text/plain": [
       "       workclass_infrequent_sklearn  education_HS-grad  \\\n",
       "32612                           1.0                0.0   \n",
       "1697                            0.0                0.0   \n",
       "25071                           0.0                1.0   \n",
       "26364                           1.0                0.0   \n",
       "13858                           0.0                0.0   \n",
       "...                             ...                ...   \n",
       "48826                           1.0                0.0   \n",
       "302                             1.0                0.0   \n",
       "23045                           0.0                1.0   \n",
       "2121                            0.0                0.0   \n",
       "40411                           0.0                0.0   \n",
       "\n",
       "       education_Some-college  education_infrequent_sklearn  \\\n",
       "32612                     0.0                           1.0   \n",
       "1697                      0.0                           1.0   \n",
       "25071                     0.0                           0.0   \n",
       "26364                     0.0                           1.0   \n",
       "13858                     1.0                           0.0   \n",
       "...                       ...                           ...   \n",
       "48826                     0.0                           1.0   \n",
       "302                       1.0                           0.0   \n",
       "23045                     0.0                           0.0   \n",
       "2121                      0.0                           0.0   \n",
       "40411                     1.0                           0.0   \n",
       "\n",
       "       marital status_Married-civ-spouse  marital status_Never-married  \\\n",
       "32612                                1.0                           0.0   \n",
       "1697                                 0.0                           0.0   \n",
       "25071                                1.0                           0.0   \n",
       "26364                                1.0                           0.0   \n",
       "13858                                0.0                           1.0   \n",
       "...                                  ...                           ...   \n",
       "48826                                1.0                           0.0   \n",
       "302                                  0.0                           0.0   \n",
       "23045                                1.0                           0.0   \n",
       "2121                                 1.0                           0.0   \n",
       "40411                                1.0                           0.0   \n",
       "\n",
       "       marital status_infrequent_sklearn  occupation_Craft-repair  \\\n",
       "32612                                0.0                      1.0   \n",
       "1697                                 1.0                      0.0   \n",
       "25071                                0.0                      0.0   \n",
       "26364                                0.0                      0.0   \n",
       "13858                                0.0                      0.0   \n",
       "...                                  ...                      ...   \n",
       "48826                                0.0                      0.0   \n",
       "302                                  0.0                      0.0   \n",
       "23045                                0.0                      1.0   \n",
       "2121                                 0.0                      0.0   \n",
       "40411                                0.0                      0.0   \n",
       "\n",
       "       occupation_Exec-managerial  occupation_Other-service  \\\n",
       "32612                         0.0                       0.0   \n",
       "1697                          0.0                       0.0   \n",
       "25071                         0.0                       0.0   \n",
       "26364                         0.0                       0.0   \n",
       "13858                         1.0                       0.0   \n",
       "...                           ...                       ...   \n",
       "48826                         0.0                       0.0   \n",
       "302                           0.0                       0.0   \n",
       "23045                         0.0                       0.0   \n",
       "2121                          1.0                       0.0   \n",
       "40411                         0.0                       1.0   \n",
       "\n",
       "       occupation_Prof-specialty  occupation_Sales  \\\n",
       "32612                        0.0               0.0   \n",
       "1697                         0.0               0.0   \n",
       "25071                        0.0               0.0   \n",
       "26364                        0.0               0.0   \n",
       "13858                        0.0               0.0   \n",
       "...                          ...               ...   \n",
       "48826                        0.0               0.0   \n",
       "302                          0.0               0.0   \n",
       "23045                        0.0               0.0   \n",
       "2121                         0.0               0.0   \n",
       "40411                        0.0               0.0   \n",
       "\n",
       "       occupation_infrequent_sklearn  relationship_Not-in-family  \\\n",
       "32612                            0.0                         0.0   \n",
       "1697                             0.0                         0.0   \n",
       "25071                            0.0                         0.0   \n",
       "26364                            1.0                         0.0   \n",
       "13858                            0.0                         1.0   \n",
       "...                              ...                         ...   \n",
       "48826                            0.0                         0.0   \n",
       "302                              0.0                         0.0   \n",
       "23045                            0.0                         0.0   \n",
       "2121                             0.0                         0.0   \n",
       "40411                            0.0                         0.0   \n",
       "\n",
       "       relationship_Own-child  relationship_Unmarried  \\\n",
       "32612                     0.0                     0.0   \n",
       "1697                      0.0                     1.0   \n",
       "25071                     0.0                     0.0   \n",
       "26364                     0.0                     0.0   \n",
       "13858                     0.0                     0.0   \n",
       "...                       ...                     ...   \n",
       "48826                     0.0                     0.0   \n",
       "302                       0.0                     1.0   \n",
       "23045                     0.0                     0.0   \n",
       "2121                      0.0                     0.0   \n",
       "40411                     0.0                     0.0   \n",
       "\n",
       "       relationship_infrequent_sklearn  race_White  race_infrequent_sklearn  \\\n",
       "32612                              0.0         0.0                      0.0   \n",
       "1697                               0.0         1.0                      0.0   \n",
       "25071                              1.0         1.0                      0.0   \n",
       "26364                              0.0         1.0                      0.0   \n",
       "13858                              0.0         1.0                      0.0   \n",
       "...                                ...         ...                      ...   \n",
       "48826                              1.0         1.0                      0.0   \n",
       "302                                0.0         1.0                      0.0   \n",
       "23045                              0.0         1.0                      0.0   \n",
       "2121                               0.0         1.0                      0.0   \n",
       "40411                              1.0         1.0                      0.0   \n",
       "\n",
       "       gender_Male  \n",
       "32612          1.0  \n",
       "1697           0.0  \n",
       "25071          0.0  \n",
       "26364          1.0  \n",
       "13858          0.0  \n",
       "...            ...  \n",
       "48826          0.0  \n",
       "302            0.0  \n",
       "23045          1.0  \n",
       "2121           1.0  \n",
       "40411          0.0  \n",
       "\n",
       "[11294 rows x 20 columns]"
      ]
     },
     "execution_count": 75,
     "metadata": {},
     "output_type": "execute_result"
    }
   ],
   "source": [
    "# OneHotEncoding the categorical features\n",
    "\n",
    "from sklearn.preprocessing import OneHotEncoder\n",
    "\n",
    "encoder = OneHotEncoder(drop='first',min_frequency= 1000, sparse=False)\n",
    "X_test_ohe = pd.DataFrame(encoder.fit_transform(X_test), \n",
    "                               columns=encoder.get_feature_names_out(X_test.columns), \n",
    "                               index = X_test.index)\n",
    "\n",
    "X_test_ohe"
   ]
  },
  {
   "cell_type": "code",
   "execution_count": 76,
   "id": "9471b309",
   "metadata": {},
   "outputs": [
    {
     "data": {
      "text/plain": [
       "[array(['Federal-gov', 'Local-gov', 'Private', 'Self-emp-inc',\n",
       "        'Self-emp-not-inc', 'State-gov', 'Without-pay'], dtype=object),\n",
       " array(['10th', '11th', '12th', '1st-4th', '5th-6th', '7th-8th', '9th',\n",
       "        'Assoc-acdm', 'Assoc-voc', 'Bachelors', 'Doctorate', 'HS-grad',\n",
       "        'Masters', 'Preschool', 'Prof-school', 'Some-college'],\n",
       "       dtype=object),\n",
       " array(['Divorced', 'Married-AF-spouse', 'Married-civ-spouse',\n",
       "        'Married-spouse-absent', 'Never-married', 'Separated', 'Widowed'],\n",
       "       dtype=object),\n",
       " array(['Adm-clerical', 'Armed-Forces', 'Craft-repair', 'Exec-managerial',\n",
       "        'Farming-fishing', 'Handlers-cleaners', 'Machine-op-inspct',\n",
       "        'Other-service', 'Priv-house-serv', 'Prof-specialty',\n",
       "        'Protective-serv', 'Sales', 'Tech-support', 'Transport-moving'],\n",
       "       dtype=object),\n",
       " array(['Husband', 'Not-in-family', 'Other-relative', 'Own-child',\n",
       "        'Unmarried', 'Wife'], dtype=object),\n",
       " array(['Amer-Indian-Eskimo', 'Asian-Pac-Islander', 'Black', 'Other',\n",
       "        'White'], dtype=object),\n",
       " array(['Female', 'Male'], dtype=object)]"
      ]
     },
     "execution_count": 76,
     "metadata": {},
     "output_type": "execute_result"
    }
   ],
   "source": [
    "encoder.categories_"
   ]
  },
  {
   "cell_type": "code",
   "execution_count": 77,
   "id": "53f94ada",
   "metadata": {},
   "outputs": [
    {
     "data": {
      "text/html": [
       "<div>\n",
       "<style scoped>\n",
       "    .dataframe tbody tr th:only-of-type {\n",
       "        vertical-align: middle;\n",
       "    }\n",
       "\n",
       "    .dataframe tbody tr th {\n",
       "        vertical-align: top;\n",
       "    }\n",
       "\n",
       "    .dataframe thead th {\n",
       "        text-align: right;\n",
       "    }\n",
       "</style>\n",
       "<table border=\"1\" class=\"dataframe\">\n",
       "  <thead>\n",
       "    <tr style=\"text-align: right;\">\n",
       "      <th></th>\n",
       "    </tr>\n",
       "  </thead>\n",
       "  <tbody>\n",
       "    <tr>\n",
       "      <th>32612</th>\n",
       "    </tr>\n",
       "    <tr>\n",
       "      <th>1697</th>\n",
       "    </tr>\n",
       "    <tr>\n",
       "      <th>25071</th>\n",
       "    </tr>\n",
       "    <tr>\n",
       "      <th>26364</th>\n",
       "    </tr>\n",
       "    <tr>\n",
       "      <th>13858</th>\n",
       "    </tr>\n",
       "    <tr>\n",
       "      <th>...</th>\n",
       "    </tr>\n",
       "    <tr>\n",
       "      <th>48826</th>\n",
       "    </tr>\n",
       "    <tr>\n",
       "      <th>302</th>\n",
       "    </tr>\n",
       "    <tr>\n",
       "      <th>23045</th>\n",
       "    </tr>\n",
       "    <tr>\n",
       "      <th>2121</th>\n",
       "    </tr>\n",
       "    <tr>\n",
       "      <th>40411</th>\n",
       "    </tr>\n",
       "  </tbody>\n",
       "</table>\n",
       "<p>11294 rows × 0 columns</p>\n",
       "</div>"
      ],
      "text/plain": [
       "Empty DataFrame\n",
       "Columns: []\n",
       "Index: [32612, 1697, 25071, 26364, 13858, 10190, 16152, 6471, 42168, 40402, 45101, 453, 33363, 18605, 47418, 42986, 38645, 15800, 32565, 24508, 17049, 22280, 645, 38557, 27396, 24955, 32225, 3136, 36051, 3763, 33288, 7080, 10713, 94, 11298, 15353, 47718, 45519, 31313, 9441, 30605, 15148, 22626, 16413, 41299, 5390, 14199, 36491, 13502, 12977, 16540, 7419, 29404, 23428, 8304, 46020, 37309, 12694, 444, 34879, 37354, 14663, 29998, 46075, 6006, 35663, 21168, 16845, 1265, 40527, 38053, 31788, 35189, 27835, 17319, 10866, 31572, 43648, 39762, 3704, 43936, 4154, 6763, 46267, 26945, 17577, 29590, 32421, 28213, 48037, 30263, 4503, 19155, 44154, 12176, 19265, 24419, 17572, 8865, 25626, ...]\n",
       "\n",
       "[11294 rows x 0 columns]"
      ]
     },
     "execution_count": 77,
     "metadata": {},
     "output_type": "execute_result"
    }
   ],
   "source": [
    "X_test_cat = pd.DataFrame(index = X_test.index)\n",
    "X_test_cat"
   ]
  },
  {
   "cell_type": "code",
   "execution_count": 78,
   "id": "972a3a59",
   "metadata": {},
   "outputs": [
    {
     "name": "stdout",
     "output_type": "stream",
     "text": [
      "(33881, 20) (11294, 20) (33881,) (11294,)\n"
     ]
    }
   ],
   "source": [
    "print(X_train_ohe.shape, X_test_ohe.shape,y_train.shape,y_test.shape)"
   ]
  },
  {
   "cell_type": "markdown",
   "id": "5168e9bf",
   "metadata": {},
   "source": [
    "<h2><i>Data Modelling and Evaluation</i></h2>"
   ]
  },
  {
   "cell_type": "markdown",
   "id": "0a311dc5",
   "metadata": {},
   "source": [
    "<h3 style=\"color:DarkSlateBlue\">Logistic Regression</h3>"
   ]
  },
  {
   "cell_type": "code",
   "execution_count": 79,
   "id": "7b491aae",
   "metadata": {},
   "outputs": [
    {
     "data": {
      "text/html": [
       "<style>#sk-container-id-1 {color: black;background-color: white;}#sk-container-id-1 pre{padding: 0;}#sk-container-id-1 div.sk-toggleable {background-color: white;}#sk-container-id-1 label.sk-toggleable__label {cursor: pointer;display: block;width: 100%;margin-bottom: 0;padding: 0.3em;box-sizing: border-box;text-align: center;}#sk-container-id-1 label.sk-toggleable__label-arrow:before {content: \"▸\";float: left;margin-right: 0.25em;color: #696969;}#sk-container-id-1 label.sk-toggleable__label-arrow:hover:before {color: black;}#sk-container-id-1 div.sk-estimator:hover label.sk-toggleable__label-arrow:before {color: black;}#sk-container-id-1 div.sk-toggleable__content {max-height: 0;max-width: 0;overflow: hidden;text-align: left;background-color: #f0f8ff;}#sk-container-id-1 div.sk-toggleable__content pre {margin: 0.2em;color: black;border-radius: 0.25em;background-color: #f0f8ff;}#sk-container-id-1 input.sk-toggleable__control:checked~div.sk-toggleable__content {max-height: 200px;max-width: 100%;overflow: auto;}#sk-container-id-1 input.sk-toggleable__control:checked~label.sk-toggleable__label-arrow:before {content: \"▾\";}#sk-container-id-1 div.sk-estimator input.sk-toggleable__control:checked~label.sk-toggleable__label {background-color: #d4ebff;}#sk-container-id-1 div.sk-label input.sk-toggleable__control:checked~label.sk-toggleable__label {background-color: #d4ebff;}#sk-container-id-1 input.sk-hidden--visually {border: 0;clip: rect(1px 1px 1px 1px);clip: rect(1px, 1px, 1px, 1px);height: 1px;margin: -1px;overflow: hidden;padding: 0;position: absolute;width: 1px;}#sk-container-id-1 div.sk-estimator {font-family: monospace;background-color: #f0f8ff;border: 1px dotted black;border-radius: 0.25em;box-sizing: border-box;margin-bottom: 0.5em;}#sk-container-id-1 div.sk-estimator:hover {background-color: #d4ebff;}#sk-container-id-1 div.sk-parallel-item::after {content: \"\";width: 100%;border-bottom: 1px solid gray;flex-grow: 1;}#sk-container-id-1 div.sk-label:hover label.sk-toggleable__label {background-color: #d4ebff;}#sk-container-id-1 div.sk-serial::before {content: \"\";position: absolute;border-left: 1px solid gray;box-sizing: border-box;top: 0;bottom: 0;left: 50%;z-index: 0;}#sk-container-id-1 div.sk-serial {display: flex;flex-direction: column;align-items: center;background-color: white;padding-right: 0.2em;padding-left: 0.2em;position: relative;}#sk-container-id-1 div.sk-item {position: relative;z-index: 1;}#sk-container-id-1 div.sk-parallel {display: flex;align-items: stretch;justify-content: center;background-color: white;position: relative;}#sk-container-id-1 div.sk-item::before, #sk-container-id-1 div.sk-parallel-item::before {content: \"\";position: absolute;border-left: 1px solid gray;box-sizing: border-box;top: 0;bottom: 0;left: 50%;z-index: -1;}#sk-container-id-1 div.sk-parallel-item {display: flex;flex-direction: column;z-index: 1;position: relative;background-color: white;}#sk-container-id-1 div.sk-parallel-item:first-child::after {align-self: flex-end;width: 50%;}#sk-container-id-1 div.sk-parallel-item:last-child::after {align-self: flex-start;width: 50%;}#sk-container-id-1 div.sk-parallel-item:only-child::after {width: 0;}#sk-container-id-1 div.sk-dashed-wrapped {border: 1px dashed gray;margin: 0 0.4em 0.5em 0.4em;box-sizing: border-box;padding-bottom: 0.4em;background-color: white;}#sk-container-id-1 div.sk-label label {font-family: monospace;font-weight: bold;display: inline-block;line-height: 1.2em;}#sk-container-id-1 div.sk-label-container {text-align: center;}#sk-container-id-1 div.sk-container {/* jupyter's `normalize.less` sets `[hidden] { display: none; }` but bootstrap.min.css set `[hidden] { display: none !important; }` so we also need the `!important` here to be able to override the default hidden behavior on the sphinx rendered scikit-learn.org. See: https://github.com/scikit-learn/scikit-learn/issues/21755 */display: inline-block !important;position: relative;}#sk-container-id-1 div.sk-text-repr-fallback {display: none;}</style><div id=\"sk-container-id-1\" class=\"sk-top-container\"><div class=\"sk-text-repr-fallback\"><pre>LogisticRegression(random_state=0)</pre><b>In a Jupyter environment, please rerun this cell to show the HTML representation or trust the notebook. <br />On GitHub, the HTML representation is unable to render, please try loading this page with nbviewer.org.</b></div><div class=\"sk-container\" hidden><div class=\"sk-item\"><div class=\"sk-estimator sk-toggleable\"><input class=\"sk-toggleable__control sk-hidden--visually\" id=\"sk-estimator-id-1\" type=\"checkbox\" checked><label for=\"sk-estimator-id-1\" class=\"sk-toggleable__label sk-toggleable__label-arrow\">LogisticRegression</label><div class=\"sk-toggleable__content\"><pre>LogisticRegression(random_state=0)</pre></div></div></div></div></div>"
      ],
      "text/plain": [
       "LogisticRegression(random_state=0)"
      ]
     },
     "execution_count": 79,
     "metadata": {},
     "output_type": "execute_result"
    }
   ],
   "source": [
    "from sklearn.linear_model import LogisticRegression\n",
    "classifier = LogisticRegression(random_state = 0)\n",
    "classifier.fit(X_train_ohe, y_train)"
   ]
  },
  {
   "cell_type": "code",
   "execution_count": 80,
   "id": "86418e4a",
   "metadata": {},
   "outputs": [],
   "source": [
    "y_pred = classifier.predict(X_test_ohe)"
   ]
  },
  {
   "cell_type": "code",
   "execution_count": 81,
   "id": "3c918a18",
   "metadata": {},
   "outputs": [],
   "source": [
    "from sklearn.metrics import accuracy_score\n",
    "from sklearn.metrics import f1_score\n",
    "from sklearn.metrics import precision_score"
   ]
  },
  {
   "cell_type": "code",
   "execution_count": 82,
   "id": "50ab12b6",
   "metadata": {},
   "outputs": [
    {
     "name": "stdout",
     "output_type": "stream",
     "text": [
      "Logistic Regression:\n",
      "Accuracy score: 82.16\n",
      "F1 score: 58.05\n",
      "Precision score: 69.01\n"
     ]
    }
   ],
   "source": [
    "print('Logistic Regression:')\n",
    "ac_sc_lr= round(accuracy_score(y_test, y_pred) * 100, 2)\n",
    "f1_sc_lr= round(f1_score(y_test, y_pred) * 100, 2)\n",
    "pr_sc_lr= round(precision_score(y_test, y_pred) * 100, 2)\n",
    "print('Accuracy score:', ac_sc_lr)\n",
    "print('F1 score:', f1_sc_lr)\n",
    "print('Precision score:', pr_sc_lr)"
   ]
  },
  {
   "cell_type": "markdown",
   "id": "6aee7a27",
   "metadata": {},
   "source": [
    "<h3 style=\"color:DarkSlateBlue\">KNN Classifier</h3>"
   ]
  },
  {
   "cell_type": "code",
   "execution_count": 83,
   "id": "58d830b9",
   "metadata": {},
   "outputs": [],
   "source": [
    "from sklearn.neighbors import KNeighborsClassifier\n",
    "knn = KNeighborsClassifier()"
   ]
  },
  {
   "cell_type": "code",
   "execution_count": 84,
   "id": "36c19071",
   "metadata": {},
   "outputs": [
    {
     "data": {
      "text/html": [
       "<style>#sk-container-id-2 {color: black;background-color: white;}#sk-container-id-2 pre{padding: 0;}#sk-container-id-2 div.sk-toggleable {background-color: white;}#sk-container-id-2 label.sk-toggleable__label {cursor: pointer;display: block;width: 100%;margin-bottom: 0;padding: 0.3em;box-sizing: border-box;text-align: center;}#sk-container-id-2 label.sk-toggleable__label-arrow:before {content: \"▸\";float: left;margin-right: 0.25em;color: #696969;}#sk-container-id-2 label.sk-toggleable__label-arrow:hover:before {color: black;}#sk-container-id-2 div.sk-estimator:hover label.sk-toggleable__label-arrow:before {color: black;}#sk-container-id-2 div.sk-toggleable__content {max-height: 0;max-width: 0;overflow: hidden;text-align: left;background-color: #f0f8ff;}#sk-container-id-2 div.sk-toggleable__content pre {margin: 0.2em;color: black;border-radius: 0.25em;background-color: #f0f8ff;}#sk-container-id-2 input.sk-toggleable__control:checked~div.sk-toggleable__content {max-height: 200px;max-width: 100%;overflow: auto;}#sk-container-id-2 input.sk-toggleable__control:checked~label.sk-toggleable__label-arrow:before {content: \"▾\";}#sk-container-id-2 div.sk-estimator input.sk-toggleable__control:checked~label.sk-toggleable__label {background-color: #d4ebff;}#sk-container-id-2 div.sk-label input.sk-toggleable__control:checked~label.sk-toggleable__label {background-color: #d4ebff;}#sk-container-id-2 input.sk-hidden--visually {border: 0;clip: rect(1px 1px 1px 1px);clip: rect(1px, 1px, 1px, 1px);height: 1px;margin: -1px;overflow: hidden;padding: 0;position: absolute;width: 1px;}#sk-container-id-2 div.sk-estimator {font-family: monospace;background-color: #f0f8ff;border: 1px dotted black;border-radius: 0.25em;box-sizing: border-box;margin-bottom: 0.5em;}#sk-container-id-2 div.sk-estimator:hover {background-color: #d4ebff;}#sk-container-id-2 div.sk-parallel-item::after {content: \"\";width: 100%;border-bottom: 1px solid gray;flex-grow: 1;}#sk-container-id-2 div.sk-label:hover label.sk-toggleable__label {background-color: #d4ebff;}#sk-container-id-2 div.sk-serial::before {content: \"\";position: absolute;border-left: 1px solid gray;box-sizing: border-box;top: 0;bottom: 0;left: 50%;z-index: 0;}#sk-container-id-2 div.sk-serial {display: flex;flex-direction: column;align-items: center;background-color: white;padding-right: 0.2em;padding-left: 0.2em;position: relative;}#sk-container-id-2 div.sk-item {position: relative;z-index: 1;}#sk-container-id-2 div.sk-parallel {display: flex;align-items: stretch;justify-content: center;background-color: white;position: relative;}#sk-container-id-2 div.sk-item::before, #sk-container-id-2 div.sk-parallel-item::before {content: \"\";position: absolute;border-left: 1px solid gray;box-sizing: border-box;top: 0;bottom: 0;left: 50%;z-index: -1;}#sk-container-id-2 div.sk-parallel-item {display: flex;flex-direction: column;z-index: 1;position: relative;background-color: white;}#sk-container-id-2 div.sk-parallel-item:first-child::after {align-self: flex-end;width: 50%;}#sk-container-id-2 div.sk-parallel-item:last-child::after {align-self: flex-start;width: 50%;}#sk-container-id-2 div.sk-parallel-item:only-child::after {width: 0;}#sk-container-id-2 div.sk-dashed-wrapped {border: 1px dashed gray;margin: 0 0.4em 0.5em 0.4em;box-sizing: border-box;padding-bottom: 0.4em;background-color: white;}#sk-container-id-2 div.sk-label label {font-family: monospace;font-weight: bold;display: inline-block;line-height: 1.2em;}#sk-container-id-2 div.sk-label-container {text-align: center;}#sk-container-id-2 div.sk-container {/* jupyter's `normalize.less` sets `[hidden] { display: none; }` but bootstrap.min.css set `[hidden] { display: none !important; }` so we also need the `!important` here to be able to override the default hidden behavior on the sphinx rendered scikit-learn.org. See: https://github.com/scikit-learn/scikit-learn/issues/21755 */display: inline-block !important;position: relative;}#sk-container-id-2 div.sk-text-repr-fallback {display: none;}</style><div id=\"sk-container-id-2\" class=\"sk-top-container\"><div class=\"sk-text-repr-fallback\"><pre>KNeighborsClassifier()</pre><b>In a Jupyter environment, please rerun this cell to show the HTML representation or trust the notebook. <br />On GitHub, the HTML representation is unable to render, please try loading this page with nbviewer.org.</b></div><div class=\"sk-container\" hidden><div class=\"sk-item\"><div class=\"sk-estimator sk-toggleable\"><input class=\"sk-toggleable__control sk-hidden--visually\" id=\"sk-estimator-id-2\" type=\"checkbox\" checked><label for=\"sk-estimator-id-2\" class=\"sk-toggleable__label sk-toggleable__label-arrow\">KNeighborsClassifier</label><div class=\"sk-toggleable__content\"><pre>KNeighborsClassifier()</pre></div></div></div></div></div>"
      ],
      "text/plain": [
       "KNeighborsClassifier()"
      ]
     },
     "execution_count": 84,
     "metadata": {},
     "output_type": "execute_result"
    }
   ],
   "source": [
    "knn.fit(X_train_ohe, y_train)"
   ]
  },
  {
   "cell_type": "code",
   "execution_count": 85,
   "id": "7344d833",
   "metadata": {},
   "outputs": [],
   "source": [
    "y_pred_knn = knn.predict(X_test_ohe)"
   ]
  },
  {
   "cell_type": "code",
   "execution_count": 86,
   "id": "93956826",
   "metadata": {},
   "outputs": [
    {
     "name": "stdout",
     "output_type": "stream",
     "text": [
      "KNN Classifier:\n",
      "Accuracy score: 80.46\n",
      "F1 score: 56.08\n",
      "Precision score: 62.85\n"
     ]
    }
   ],
   "source": [
    "print('KNN Classifier:')\n",
    "ac_sc_knn= round(accuracy_score(y_test, y_pred_knn) * 100, 2)\n",
    "f1_sc_knn= round(f1_score(y_test, y_pred_knn) * 100, 2)\n",
    "pr_sc_knn= round(precision_score(y_test, y_pred_knn) * 100, 2)\n",
    "print('Accuracy score:', ac_sc_knn)\n",
    "print('F1 score:', f1_sc_knn)\n",
    "print('Precision score:', pr_sc_knn)"
   ]
  },
  {
   "cell_type": "markdown",
   "id": "3c696958",
   "metadata": {},
   "source": [
    "<h3 style=\"color:DarkSlateBlue\">Naive Bayes Classifier</h3>"
   ]
  },
  {
   "cell_type": "code",
   "execution_count": 87,
   "id": "fe075edb",
   "metadata": {},
   "outputs": [],
   "source": [
    "from sklearn.naive_bayes import GaussianNB\n",
    "nb = GaussianNB()"
   ]
  },
  {
   "cell_type": "code",
   "execution_count": 88,
   "id": "fa1f4cbc",
   "metadata": {},
   "outputs": [
    {
     "data": {
      "text/html": [
       "<style>#sk-container-id-3 {color: black;background-color: white;}#sk-container-id-3 pre{padding: 0;}#sk-container-id-3 div.sk-toggleable {background-color: white;}#sk-container-id-3 label.sk-toggleable__label {cursor: pointer;display: block;width: 100%;margin-bottom: 0;padding: 0.3em;box-sizing: border-box;text-align: center;}#sk-container-id-3 label.sk-toggleable__label-arrow:before {content: \"▸\";float: left;margin-right: 0.25em;color: #696969;}#sk-container-id-3 label.sk-toggleable__label-arrow:hover:before {color: black;}#sk-container-id-3 div.sk-estimator:hover label.sk-toggleable__label-arrow:before {color: black;}#sk-container-id-3 div.sk-toggleable__content {max-height: 0;max-width: 0;overflow: hidden;text-align: left;background-color: #f0f8ff;}#sk-container-id-3 div.sk-toggleable__content pre {margin: 0.2em;color: black;border-radius: 0.25em;background-color: #f0f8ff;}#sk-container-id-3 input.sk-toggleable__control:checked~div.sk-toggleable__content {max-height: 200px;max-width: 100%;overflow: auto;}#sk-container-id-3 input.sk-toggleable__control:checked~label.sk-toggleable__label-arrow:before {content: \"▾\";}#sk-container-id-3 div.sk-estimator input.sk-toggleable__control:checked~label.sk-toggleable__label {background-color: #d4ebff;}#sk-container-id-3 div.sk-label input.sk-toggleable__control:checked~label.sk-toggleable__label {background-color: #d4ebff;}#sk-container-id-3 input.sk-hidden--visually {border: 0;clip: rect(1px 1px 1px 1px);clip: rect(1px, 1px, 1px, 1px);height: 1px;margin: -1px;overflow: hidden;padding: 0;position: absolute;width: 1px;}#sk-container-id-3 div.sk-estimator {font-family: monospace;background-color: #f0f8ff;border: 1px dotted black;border-radius: 0.25em;box-sizing: border-box;margin-bottom: 0.5em;}#sk-container-id-3 div.sk-estimator:hover {background-color: #d4ebff;}#sk-container-id-3 div.sk-parallel-item::after {content: \"\";width: 100%;border-bottom: 1px solid gray;flex-grow: 1;}#sk-container-id-3 div.sk-label:hover label.sk-toggleable__label {background-color: #d4ebff;}#sk-container-id-3 div.sk-serial::before {content: \"\";position: absolute;border-left: 1px solid gray;box-sizing: border-box;top: 0;bottom: 0;left: 50%;z-index: 0;}#sk-container-id-3 div.sk-serial {display: flex;flex-direction: column;align-items: center;background-color: white;padding-right: 0.2em;padding-left: 0.2em;position: relative;}#sk-container-id-3 div.sk-item {position: relative;z-index: 1;}#sk-container-id-3 div.sk-parallel {display: flex;align-items: stretch;justify-content: center;background-color: white;position: relative;}#sk-container-id-3 div.sk-item::before, #sk-container-id-3 div.sk-parallel-item::before {content: \"\";position: absolute;border-left: 1px solid gray;box-sizing: border-box;top: 0;bottom: 0;left: 50%;z-index: -1;}#sk-container-id-3 div.sk-parallel-item {display: flex;flex-direction: column;z-index: 1;position: relative;background-color: white;}#sk-container-id-3 div.sk-parallel-item:first-child::after {align-self: flex-end;width: 50%;}#sk-container-id-3 div.sk-parallel-item:last-child::after {align-self: flex-start;width: 50%;}#sk-container-id-3 div.sk-parallel-item:only-child::after {width: 0;}#sk-container-id-3 div.sk-dashed-wrapped {border: 1px dashed gray;margin: 0 0.4em 0.5em 0.4em;box-sizing: border-box;padding-bottom: 0.4em;background-color: white;}#sk-container-id-3 div.sk-label label {font-family: monospace;font-weight: bold;display: inline-block;line-height: 1.2em;}#sk-container-id-3 div.sk-label-container {text-align: center;}#sk-container-id-3 div.sk-container {/* jupyter's `normalize.less` sets `[hidden] { display: none; }` but bootstrap.min.css set `[hidden] { display: none !important; }` so we also need the `!important` here to be able to override the default hidden behavior on the sphinx rendered scikit-learn.org. See: https://github.com/scikit-learn/scikit-learn/issues/21755 */display: inline-block !important;position: relative;}#sk-container-id-3 div.sk-text-repr-fallback {display: none;}</style><div id=\"sk-container-id-3\" class=\"sk-top-container\"><div class=\"sk-text-repr-fallback\"><pre>GaussianNB()</pre><b>In a Jupyter environment, please rerun this cell to show the HTML representation or trust the notebook. <br />On GitHub, the HTML representation is unable to render, please try loading this page with nbviewer.org.</b></div><div class=\"sk-container\" hidden><div class=\"sk-item\"><div class=\"sk-estimator sk-toggleable\"><input class=\"sk-toggleable__control sk-hidden--visually\" id=\"sk-estimator-id-3\" type=\"checkbox\" checked><label for=\"sk-estimator-id-3\" class=\"sk-toggleable__label sk-toggleable__label-arrow\">GaussianNB</label><div class=\"sk-toggleable__content\"><pre>GaussianNB()</pre></div></div></div></div></div>"
      ],
      "text/plain": [
       "GaussianNB()"
      ]
     },
     "execution_count": 88,
     "metadata": {},
     "output_type": "execute_result"
    }
   ],
   "source": [
    "nb.fit(X_train_ohe, y_train)"
   ]
  },
  {
   "cell_type": "code",
   "execution_count": 89,
   "id": "87206c21",
   "metadata": {},
   "outputs": [],
   "source": [
    "y_pred_nb = nb.predict(X_test_ohe)"
   ]
  },
  {
   "cell_type": "code",
   "execution_count": 90,
   "id": "14fca0db",
   "metadata": {},
   "outputs": [
    {
     "name": "stdout",
     "output_type": "stream",
     "text": [
      "Naive Bayes Classifier:\n",
      "Accuracy score: 72.44\n",
      "F1 score: 60.4\n",
      "Precision score: 46.75\n"
     ]
    }
   ],
   "source": [
    "print('Naive Bayes Classifier:')\n",
    "ac_sc_nb= round(accuracy_score(y_test, y_pred_nb) * 100, 2)\n",
    "f1_sc_nb= round(f1_score(y_test, y_pred_nb) * 100, 2)\n",
    "pr_sc_nb= round(precision_score(y_test, y_pred_nb) * 100, 2)\n",
    "print('Accuracy score:', ac_sc_nb)\n",
    "print('F1 score:', f1_sc_nb)\n",
    "print('Precision score:', pr_sc_nb)"
   ]
  },
  {
   "cell_type": "markdown",
   "id": "22528562",
   "metadata": {},
   "source": [
    "<h3 style=\"color:DarkSlateBlue\">Support Vector Classifier</h3>"
   ]
  },
  {
   "cell_type": "code",
   "execution_count": 91,
   "id": "70107aa6",
   "metadata": {},
   "outputs": [],
   "source": [
    "from sklearn.svm import SVC\n",
    "svc = SVC(random_state=42)"
   ]
  },
  {
   "cell_type": "code",
   "execution_count": 92,
   "id": "d9bd052f",
   "metadata": {},
   "outputs": [
    {
     "data": {
      "text/html": [
       "<style>#sk-container-id-4 {color: black;background-color: white;}#sk-container-id-4 pre{padding: 0;}#sk-container-id-4 div.sk-toggleable {background-color: white;}#sk-container-id-4 label.sk-toggleable__label {cursor: pointer;display: block;width: 100%;margin-bottom: 0;padding: 0.3em;box-sizing: border-box;text-align: center;}#sk-container-id-4 label.sk-toggleable__label-arrow:before {content: \"▸\";float: left;margin-right: 0.25em;color: #696969;}#sk-container-id-4 label.sk-toggleable__label-arrow:hover:before {color: black;}#sk-container-id-4 div.sk-estimator:hover label.sk-toggleable__label-arrow:before {color: black;}#sk-container-id-4 div.sk-toggleable__content {max-height: 0;max-width: 0;overflow: hidden;text-align: left;background-color: #f0f8ff;}#sk-container-id-4 div.sk-toggleable__content pre {margin: 0.2em;color: black;border-radius: 0.25em;background-color: #f0f8ff;}#sk-container-id-4 input.sk-toggleable__control:checked~div.sk-toggleable__content {max-height: 200px;max-width: 100%;overflow: auto;}#sk-container-id-4 input.sk-toggleable__control:checked~label.sk-toggleable__label-arrow:before {content: \"▾\";}#sk-container-id-4 div.sk-estimator input.sk-toggleable__control:checked~label.sk-toggleable__label {background-color: #d4ebff;}#sk-container-id-4 div.sk-label input.sk-toggleable__control:checked~label.sk-toggleable__label {background-color: #d4ebff;}#sk-container-id-4 input.sk-hidden--visually {border: 0;clip: rect(1px 1px 1px 1px);clip: rect(1px, 1px, 1px, 1px);height: 1px;margin: -1px;overflow: hidden;padding: 0;position: absolute;width: 1px;}#sk-container-id-4 div.sk-estimator {font-family: monospace;background-color: #f0f8ff;border: 1px dotted black;border-radius: 0.25em;box-sizing: border-box;margin-bottom: 0.5em;}#sk-container-id-4 div.sk-estimator:hover {background-color: #d4ebff;}#sk-container-id-4 div.sk-parallel-item::after {content: \"\";width: 100%;border-bottom: 1px solid gray;flex-grow: 1;}#sk-container-id-4 div.sk-label:hover label.sk-toggleable__label {background-color: #d4ebff;}#sk-container-id-4 div.sk-serial::before {content: \"\";position: absolute;border-left: 1px solid gray;box-sizing: border-box;top: 0;bottom: 0;left: 50%;z-index: 0;}#sk-container-id-4 div.sk-serial {display: flex;flex-direction: column;align-items: center;background-color: white;padding-right: 0.2em;padding-left: 0.2em;position: relative;}#sk-container-id-4 div.sk-item {position: relative;z-index: 1;}#sk-container-id-4 div.sk-parallel {display: flex;align-items: stretch;justify-content: center;background-color: white;position: relative;}#sk-container-id-4 div.sk-item::before, #sk-container-id-4 div.sk-parallel-item::before {content: \"\";position: absolute;border-left: 1px solid gray;box-sizing: border-box;top: 0;bottom: 0;left: 50%;z-index: -1;}#sk-container-id-4 div.sk-parallel-item {display: flex;flex-direction: column;z-index: 1;position: relative;background-color: white;}#sk-container-id-4 div.sk-parallel-item:first-child::after {align-self: flex-end;width: 50%;}#sk-container-id-4 div.sk-parallel-item:last-child::after {align-self: flex-start;width: 50%;}#sk-container-id-4 div.sk-parallel-item:only-child::after {width: 0;}#sk-container-id-4 div.sk-dashed-wrapped {border: 1px dashed gray;margin: 0 0.4em 0.5em 0.4em;box-sizing: border-box;padding-bottom: 0.4em;background-color: white;}#sk-container-id-4 div.sk-label label {font-family: monospace;font-weight: bold;display: inline-block;line-height: 1.2em;}#sk-container-id-4 div.sk-label-container {text-align: center;}#sk-container-id-4 div.sk-container {/* jupyter's `normalize.less` sets `[hidden] { display: none; }` but bootstrap.min.css set `[hidden] { display: none !important; }` so we also need the `!important` here to be able to override the default hidden behavior on the sphinx rendered scikit-learn.org. See: https://github.com/scikit-learn/scikit-learn/issues/21755 */display: inline-block !important;position: relative;}#sk-container-id-4 div.sk-text-repr-fallback {display: none;}</style><div id=\"sk-container-id-4\" class=\"sk-top-container\"><div class=\"sk-text-repr-fallback\"><pre>SVC(random_state=42)</pre><b>In a Jupyter environment, please rerun this cell to show the HTML representation or trust the notebook. <br />On GitHub, the HTML representation is unable to render, please try loading this page with nbviewer.org.</b></div><div class=\"sk-container\" hidden><div class=\"sk-item\"><div class=\"sk-estimator sk-toggleable\"><input class=\"sk-toggleable__control sk-hidden--visually\" id=\"sk-estimator-id-4\" type=\"checkbox\" checked><label for=\"sk-estimator-id-4\" class=\"sk-toggleable__label sk-toggleable__label-arrow\">SVC</label><div class=\"sk-toggleable__content\"><pre>SVC(random_state=42)</pre></div></div></div></div></div>"
      ],
      "text/plain": [
       "SVC(random_state=42)"
      ]
     },
     "execution_count": 92,
     "metadata": {},
     "output_type": "execute_result"
    }
   ],
   "source": [
    "svc.fit(X_train_ohe, y_train)"
   ]
  },
  {
   "cell_type": "code",
   "execution_count": 93,
   "id": "52bbcedc",
   "metadata": {},
   "outputs": [],
   "source": [
    "y_pred_svc = svc.predict(X_test_ohe)"
   ]
  },
  {
   "cell_type": "code",
   "execution_count": 94,
   "id": "f22c2d47",
   "metadata": {},
   "outputs": [
    {
     "name": "stdout",
     "output_type": "stream",
     "text": [
      "Support Vector Classifier:\n",
      "Accuracy score: 82.41\n",
      "F1 score: 58.27\n",
      "Precision score: 70.12\n"
     ]
    }
   ],
   "source": [
    "print('Support Vector Classifier:')\n",
    "ac_sc_svc= round(accuracy_score(y_test, y_pred_svc) * 100, 2)\n",
    "f1_sc_svc= round(f1_score(y_test, y_pred_svc) * 100, 2)\n",
    "pr_sc_svc= round(precision_score(y_test, y_pred_svc) * 100, 2)\n",
    "print('Accuracy score:', ac_sc_svc)\n",
    "print('F1 score:', f1_sc_svc)\n",
    "print('Precision score:', pr_sc_svc)"
   ]
  },
  {
   "cell_type": "markdown",
   "id": "58000c77",
   "metadata": {},
   "source": [
    "<h3 style=\"color:DarkSlateBlue\">Decision Tree Classifier</h3>"
   ]
  },
  {
   "cell_type": "code",
   "execution_count": 95,
   "id": "8352dfae",
   "metadata": {},
   "outputs": [],
   "source": [
    "from sklearn.tree import DecisionTreeClassifier\n",
    "dc_tree = DecisionTreeClassifier(random_state=42)"
   ]
  },
  {
   "cell_type": "code",
   "execution_count": 96,
   "id": "22b37cd3",
   "metadata": {},
   "outputs": [
    {
     "data": {
      "text/html": [
       "<style>#sk-container-id-5 {color: black;background-color: white;}#sk-container-id-5 pre{padding: 0;}#sk-container-id-5 div.sk-toggleable {background-color: white;}#sk-container-id-5 label.sk-toggleable__label {cursor: pointer;display: block;width: 100%;margin-bottom: 0;padding: 0.3em;box-sizing: border-box;text-align: center;}#sk-container-id-5 label.sk-toggleable__label-arrow:before {content: \"▸\";float: left;margin-right: 0.25em;color: #696969;}#sk-container-id-5 label.sk-toggleable__label-arrow:hover:before {color: black;}#sk-container-id-5 div.sk-estimator:hover label.sk-toggleable__label-arrow:before {color: black;}#sk-container-id-5 div.sk-toggleable__content {max-height: 0;max-width: 0;overflow: hidden;text-align: left;background-color: #f0f8ff;}#sk-container-id-5 div.sk-toggleable__content pre {margin: 0.2em;color: black;border-radius: 0.25em;background-color: #f0f8ff;}#sk-container-id-5 input.sk-toggleable__control:checked~div.sk-toggleable__content {max-height: 200px;max-width: 100%;overflow: auto;}#sk-container-id-5 input.sk-toggleable__control:checked~label.sk-toggleable__label-arrow:before {content: \"▾\";}#sk-container-id-5 div.sk-estimator input.sk-toggleable__control:checked~label.sk-toggleable__label {background-color: #d4ebff;}#sk-container-id-5 div.sk-label input.sk-toggleable__control:checked~label.sk-toggleable__label {background-color: #d4ebff;}#sk-container-id-5 input.sk-hidden--visually {border: 0;clip: rect(1px 1px 1px 1px);clip: rect(1px, 1px, 1px, 1px);height: 1px;margin: -1px;overflow: hidden;padding: 0;position: absolute;width: 1px;}#sk-container-id-5 div.sk-estimator {font-family: monospace;background-color: #f0f8ff;border: 1px dotted black;border-radius: 0.25em;box-sizing: border-box;margin-bottom: 0.5em;}#sk-container-id-5 div.sk-estimator:hover {background-color: #d4ebff;}#sk-container-id-5 div.sk-parallel-item::after {content: \"\";width: 100%;border-bottom: 1px solid gray;flex-grow: 1;}#sk-container-id-5 div.sk-label:hover label.sk-toggleable__label {background-color: #d4ebff;}#sk-container-id-5 div.sk-serial::before {content: \"\";position: absolute;border-left: 1px solid gray;box-sizing: border-box;top: 0;bottom: 0;left: 50%;z-index: 0;}#sk-container-id-5 div.sk-serial {display: flex;flex-direction: column;align-items: center;background-color: white;padding-right: 0.2em;padding-left: 0.2em;position: relative;}#sk-container-id-5 div.sk-item {position: relative;z-index: 1;}#sk-container-id-5 div.sk-parallel {display: flex;align-items: stretch;justify-content: center;background-color: white;position: relative;}#sk-container-id-5 div.sk-item::before, #sk-container-id-5 div.sk-parallel-item::before {content: \"\";position: absolute;border-left: 1px solid gray;box-sizing: border-box;top: 0;bottom: 0;left: 50%;z-index: -1;}#sk-container-id-5 div.sk-parallel-item {display: flex;flex-direction: column;z-index: 1;position: relative;background-color: white;}#sk-container-id-5 div.sk-parallel-item:first-child::after {align-self: flex-end;width: 50%;}#sk-container-id-5 div.sk-parallel-item:last-child::after {align-self: flex-start;width: 50%;}#sk-container-id-5 div.sk-parallel-item:only-child::after {width: 0;}#sk-container-id-5 div.sk-dashed-wrapped {border: 1px dashed gray;margin: 0 0.4em 0.5em 0.4em;box-sizing: border-box;padding-bottom: 0.4em;background-color: white;}#sk-container-id-5 div.sk-label label {font-family: monospace;font-weight: bold;display: inline-block;line-height: 1.2em;}#sk-container-id-5 div.sk-label-container {text-align: center;}#sk-container-id-5 div.sk-container {/* jupyter's `normalize.less` sets `[hidden] { display: none; }` but bootstrap.min.css set `[hidden] { display: none !important; }` so we also need the `!important` here to be able to override the default hidden behavior on the sphinx rendered scikit-learn.org. See: https://github.com/scikit-learn/scikit-learn/issues/21755 */display: inline-block !important;position: relative;}#sk-container-id-5 div.sk-text-repr-fallback {display: none;}</style><div id=\"sk-container-id-5\" class=\"sk-top-container\"><div class=\"sk-text-repr-fallback\"><pre>DecisionTreeClassifier(random_state=42)</pre><b>In a Jupyter environment, please rerun this cell to show the HTML representation or trust the notebook. <br />On GitHub, the HTML representation is unable to render, please try loading this page with nbviewer.org.</b></div><div class=\"sk-container\" hidden><div class=\"sk-item\"><div class=\"sk-estimator sk-toggleable\"><input class=\"sk-toggleable__control sk-hidden--visually\" id=\"sk-estimator-id-5\" type=\"checkbox\" checked><label for=\"sk-estimator-id-5\" class=\"sk-toggleable__label sk-toggleable__label-arrow\">DecisionTreeClassifier</label><div class=\"sk-toggleable__content\"><pre>DecisionTreeClassifier(random_state=42)</pre></div></div></div></div></div>"
      ],
      "text/plain": [
       "DecisionTreeClassifier(random_state=42)"
      ]
     },
     "execution_count": 96,
     "metadata": {},
     "output_type": "execute_result"
    }
   ],
   "source": [
    "dc_tree.fit(X_train_ohe, y_train)"
   ]
  },
  {
   "cell_type": "code",
   "execution_count": 97,
   "id": "8e5e501c",
   "metadata": {},
   "outputs": [],
   "source": [
    "y_pred_dc_tree = dc_tree.predict(X_test_ohe)"
   ]
  },
  {
   "cell_type": "code",
   "execution_count": 98,
   "id": "7d65ed3d",
   "metadata": {},
   "outputs": [
    {
     "name": "stdout",
     "output_type": "stream",
     "text": [
      "Decision Tree Classifier:\n",
      "Accuracy score: 81.94\n",
      "F1 score: 57.99\n",
      "Precision score: 67.92\n"
     ]
    }
   ],
   "source": [
    "print('Decision Tree Classifier:')\n",
    "ac_sc_dt= round(accuracy_score(y_test, y_pred_dc_tree) * 100, 2)\n",
    "f1_sc_dt= round(f1_score(y_test, y_pred_dc_tree) * 100, 2)\n",
    "pr_sc_dt= round(precision_score(y_test, y_pred_dc_tree) * 100, 2)\n",
    "print('Accuracy score:', ac_sc_dt )\n",
    "print('F1 score:', f1_sc_dt)\n",
    "print('Precision score:', pr_sc_dt)"
   ]
  },
  {
   "cell_type": "markdown",
   "id": "80eb9ccc",
   "metadata": {},
   "source": [
    "<h3 style=\"color:DarkSlateBlue\">Random Forest Classifier"
   ]
  },
  {
   "cell_type": "code",
   "execution_count": 99,
   "id": "5fb691bb",
   "metadata": {},
   "outputs": [],
   "source": [
    "from sklearn.ensemble import RandomForestClassifier\n",
    "rf = RandomForestClassifier(random_state=42)"
   ]
  },
  {
   "cell_type": "code",
   "execution_count": 100,
   "id": "d2228d56",
   "metadata": {},
   "outputs": [
    {
     "data": {
      "text/html": [
       "<style>#sk-container-id-6 {color: black;background-color: white;}#sk-container-id-6 pre{padding: 0;}#sk-container-id-6 div.sk-toggleable {background-color: white;}#sk-container-id-6 label.sk-toggleable__label {cursor: pointer;display: block;width: 100%;margin-bottom: 0;padding: 0.3em;box-sizing: border-box;text-align: center;}#sk-container-id-6 label.sk-toggleable__label-arrow:before {content: \"▸\";float: left;margin-right: 0.25em;color: #696969;}#sk-container-id-6 label.sk-toggleable__label-arrow:hover:before {color: black;}#sk-container-id-6 div.sk-estimator:hover label.sk-toggleable__label-arrow:before {color: black;}#sk-container-id-6 div.sk-toggleable__content {max-height: 0;max-width: 0;overflow: hidden;text-align: left;background-color: #f0f8ff;}#sk-container-id-6 div.sk-toggleable__content pre {margin: 0.2em;color: black;border-radius: 0.25em;background-color: #f0f8ff;}#sk-container-id-6 input.sk-toggleable__control:checked~div.sk-toggleable__content {max-height: 200px;max-width: 100%;overflow: auto;}#sk-container-id-6 input.sk-toggleable__control:checked~label.sk-toggleable__label-arrow:before {content: \"▾\";}#sk-container-id-6 div.sk-estimator input.sk-toggleable__control:checked~label.sk-toggleable__label {background-color: #d4ebff;}#sk-container-id-6 div.sk-label input.sk-toggleable__control:checked~label.sk-toggleable__label {background-color: #d4ebff;}#sk-container-id-6 input.sk-hidden--visually {border: 0;clip: rect(1px 1px 1px 1px);clip: rect(1px, 1px, 1px, 1px);height: 1px;margin: -1px;overflow: hidden;padding: 0;position: absolute;width: 1px;}#sk-container-id-6 div.sk-estimator {font-family: monospace;background-color: #f0f8ff;border: 1px dotted black;border-radius: 0.25em;box-sizing: border-box;margin-bottom: 0.5em;}#sk-container-id-6 div.sk-estimator:hover {background-color: #d4ebff;}#sk-container-id-6 div.sk-parallel-item::after {content: \"\";width: 100%;border-bottom: 1px solid gray;flex-grow: 1;}#sk-container-id-6 div.sk-label:hover label.sk-toggleable__label {background-color: #d4ebff;}#sk-container-id-6 div.sk-serial::before {content: \"\";position: absolute;border-left: 1px solid gray;box-sizing: border-box;top: 0;bottom: 0;left: 50%;z-index: 0;}#sk-container-id-6 div.sk-serial {display: flex;flex-direction: column;align-items: center;background-color: white;padding-right: 0.2em;padding-left: 0.2em;position: relative;}#sk-container-id-6 div.sk-item {position: relative;z-index: 1;}#sk-container-id-6 div.sk-parallel {display: flex;align-items: stretch;justify-content: center;background-color: white;position: relative;}#sk-container-id-6 div.sk-item::before, #sk-container-id-6 div.sk-parallel-item::before {content: \"\";position: absolute;border-left: 1px solid gray;box-sizing: border-box;top: 0;bottom: 0;left: 50%;z-index: -1;}#sk-container-id-6 div.sk-parallel-item {display: flex;flex-direction: column;z-index: 1;position: relative;background-color: white;}#sk-container-id-6 div.sk-parallel-item:first-child::after {align-self: flex-end;width: 50%;}#sk-container-id-6 div.sk-parallel-item:last-child::after {align-self: flex-start;width: 50%;}#sk-container-id-6 div.sk-parallel-item:only-child::after {width: 0;}#sk-container-id-6 div.sk-dashed-wrapped {border: 1px dashed gray;margin: 0 0.4em 0.5em 0.4em;box-sizing: border-box;padding-bottom: 0.4em;background-color: white;}#sk-container-id-6 div.sk-label label {font-family: monospace;font-weight: bold;display: inline-block;line-height: 1.2em;}#sk-container-id-6 div.sk-label-container {text-align: center;}#sk-container-id-6 div.sk-container {/* jupyter's `normalize.less` sets `[hidden] { display: none; }` but bootstrap.min.css set `[hidden] { display: none !important; }` so we also need the `!important` here to be able to override the default hidden behavior on the sphinx rendered scikit-learn.org. See: https://github.com/scikit-learn/scikit-learn/issues/21755 */display: inline-block !important;position: relative;}#sk-container-id-6 div.sk-text-repr-fallback {display: none;}</style><div id=\"sk-container-id-6\" class=\"sk-top-container\"><div class=\"sk-text-repr-fallback\"><pre>RandomForestClassifier(random_state=42)</pre><b>In a Jupyter environment, please rerun this cell to show the HTML representation or trust the notebook. <br />On GitHub, the HTML representation is unable to render, please try loading this page with nbviewer.org.</b></div><div class=\"sk-container\" hidden><div class=\"sk-item\"><div class=\"sk-estimator sk-toggleable\"><input class=\"sk-toggleable__control sk-hidden--visually\" id=\"sk-estimator-id-6\" type=\"checkbox\" checked><label for=\"sk-estimator-id-6\" class=\"sk-toggleable__label sk-toggleable__label-arrow\">RandomForestClassifier</label><div class=\"sk-toggleable__content\"><pre>RandomForestClassifier(random_state=42)</pre></div></div></div></div></div>"
      ],
      "text/plain": [
       "RandomForestClassifier(random_state=42)"
      ]
     },
     "execution_count": 100,
     "metadata": {},
     "output_type": "execute_result"
    }
   ],
   "source": [
    "rf.fit(X_train_ohe, y_train)"
   ]
  },
  {
   "cell_type": "code",
   "execution_count": 101,
   "id": "3556d6f4",
   "metadata": {},
   "outputs": [],
   "source": [
    "y_pred_rf = rf.predict(X_test_ohe)"
   ]
  },
  {
   "cell_type": "code",
   "execution_count": 102,
   "id": "bb9bb4fa",
   "metadata": {},
   "outputs": [
    {
     "name": "stdout",
     "output_type": "stream",
     "text": [
      "Random Forest Classifier:\n",
      "Accuracy score: 81.96\n",
      "F1 score: 58.25\n",
      "Precision score: 67.8\n"
     ]
    }
   ],
   "source": [
    "print('Random Forest Classifier:')\n",
    "ac_sc_rf= round(accuracy_score(y_test, y_pred_rf) * 100, 2)\n",
    "f1_sc_rf= round(f1_score(y_test, y_pred_rf) * 100, 2)\n",
    "pr_sc_rf= round(precision_score(y_test, y_pred_rf) * 100, 2)\n",
    "print('Accuracy score:', ac_sc_rf)\n",
    "print('F1 score:', f1_sc_rf)\n",
    "print('Precision score:', pr_sc_rf)"
   ]
  },
  {
   "cell_type": "markdown",
   "id": "e42e59e0",
   "metadata": {},
   "source": [
    "<h3 style=\"color:DarkSlateBlue\">XGB Classifier</h3>"
   ]
  },
  {
   "cell_type": "code",
   "execution_count": 103,
   "id": "f62f3035",
   "metadata": {},
   "outputs": [
    {
     "name": "stdout",
     "output_type": "stream",
     "text": [
      "Requirement already satisfied: xgboost in c:\\users\\hp\\anaconda3\\lib\\site-packages (1.6.2)\n",
      "Requirement already satisfied: scipy in c:\\users\\hp\\anaconda3\\lib\\site-packages (from xgboost) (1.6.2)\n",
      "Requirement already satisfied: numpy in c:\\users\\hp\\anaconda3\\lib\\site-packages (from xgboost) (1.20.1)\n",
      "Note: you may need to restart the kernel to use updated packages.\n"
     ]
    }
   ],
   "source": [
    "pip install xgboost"
   ]
  },
  {
   "cell_type": "code",
   "execution_count": 104,
   "id": "a8d6f7ca",
   "metadata": {},
   "outputs": [],
   "source": [
    "from xgboost import XGBClassifier\n",
    "xgb = XGBClassifier()"
   ]
  },
  {
   "cell_type": "code",
   "execution_count": 105,
   "id": "b1c1a7fb",
   "metadata": {},
   "outputs": [
    {
     "data": {
      "text/html": [
       "<style>#sk-container-id-7 {color: black;background-color: white;}#sk-container-id-7 pre{padding: 0;}#sk-container-id-7 div.sk-toggleable {background-color: white;}#sk-container-id-7 label.sk-toggleable__label {cursor: pointer;display: block;width: 100%;margin-bottom: 0;padding: 0.3em;box-sizing: border-box;text-align: center;}#sk-container-id-7 label.sk-toggleable__label-arrow:before {content: \"▸\";float: left;margin-right: 0.25em;color: #696969;}#sk-container-id-7 label.sk-toggleable__label-arrow:hover:before {color: black;}#sk-container-id-7 div.sk-estimator:hover label.sk-toggleable__label-arrow:before {color: black;}#sk-container-id-7 div.sk-toggleable__content {max-height: 0;max-width: 0;overflow: hidden;text-align: left;background-color: #f0f8ff;}#sk-container-id-7 div.sk-toggleable__content pre {margin: 0.2em;color: black;border-radius: 0.25em;background-color: #f0f8ff;}#sk-container-id-7 input.sk-toggleable__control:checked~div.sk-toggleable__content {max-height: 200px;max-width: 100%;overflow: auto;}#sk-container-id-7 input.sk-toggleable__control:checked~label.sk-toggleable__label-arrow:before {content: \"▾\";}#sk-container-id-7 div.sk-estimator input.sk-toggleable__control:checked~label.sk-toggleable__label {background-color: #d4ebff;}#sk-container-id-7 div.sk-label input.sk-toggleable__control:checked~label.sk-toggleable__label {background-color: #d4ebff;}#sk-container-id-7 input.sk-hidden--visually {border: 0;clip: rect(1px 1px 1px 1px);clip: rect(1px, 1px, 1px, 1px);height: 1px;margin: -1px;overflow: hidden;padding: 0;position: absolute;width: 1px;}#sk-container-id-7 div.sk-estimator {font-family: monospace;background-color: #f0f8ff;border: 1px dotted black;border-radius: 0.25em;box-sizing: border-box;margin-bottom: 0.5em;}#sk-container-id-7 div.sk-estimator:hover {background-color: #d4ebff;}#sk-container-id-7 div.sk-parallel-item::after {content: \"\";width: 100%;border-bottom: 1px solid gray;flex-grow: 1;}#sk-container-id-7 div.sk-label:hover label.sk-toggleable__label {background-color: #d4ebff;}#sk-container-id-7 div.sk-serial::before {content: \"\";position: absolute;border-left: 1px solid gray;box-sizing: border-box;top: 0;bottom: 0;left: 50%;z-index: 0;}#sk-container-id-7 div.sk-serial {display: flex;flex-direction: column;align-items: center;background-color: white;padding-right: 0.2em;padding-left: 0.2em;position: relative;}#sk-container-id-7 div.sk-item {position: relative;z-index: 1;}#sk-container-id-7 div.sk-parallel {display: flex;align-items: stretch;justify-content: center;background-color: white;position: relative;}#sk-container-id-7 div.sk-item::before, #sk-container-id-7 div.sk-parallel-item::before {content: \"\";position: absolute;border-left: 1px solid gray;box-sizing: border-box;top: 0;bottom: 0;left: 50%;z-index: -1;}#sk-container-id-7 div.sk-parallel-item {display: flex;flex-direction: column;z-index: 1;position: relative;background-color: white;}#sk-container-id-7 div.sk-parallel-item:first-child::after {align-self: flex-end;width: 50%;}#sk-container-id-7 div.sk-parallel-item:last-child::after {align-self: flex-start;width: 50%;}#sk-container-id-7 div.sk-parallel-item:only-child::after {width: 0;}#sk-container-id-7 div.sk-dashed-wrapped {border: 1px dashed gray;margin: 0 0.4em 0.5em 0.4em;box-sizing: border-box;padding-bottom: 0.4em;background-color: white;}#sk-container-id-7 div.sk-label label {font-family: monospace;font-weight: bold;display: inline-block;line-height: 1.2em;}#sk-container-id-7 div.sk-label-container {text-align: center;}#sk-container-id-7 div.sk-container {/* jupyter's `normalize.less` sets `[hidden] { display: none; }` but bootstrap.min.css set `[hidden] { display: none !important; }` so we also need the `!important` here to be able to override the default hidden behavior on the sphinx rendered scikit-learn.org. See: https://github.com/scikit-learn/scikit-learn/issues/21755 */display: inline-block !important;position: relative;}#sk-container-id-7 div.sk-text-repr-fallback {display: none;}</style><div id=\"sk-container-id-7\" class=\"sk-top-container\"><div class=\"sk-text-repr-fallback\"><pre>XGBClassifier(base_score=0.5, booster=&#x27;gbtree&#x27;, callbacks=None,\n",
       "              colsample_bylevel=1, colsample_bynode=1, colsample_bytree=1,\n",
       "              early_stopping_rounds=None, enable_categorical=False,\n",
       "              eval_metric=None, gamma=0, gpu_id=-1, grow_policy=&#x27;depthwise&#x27;,\n",
       "              importance_type=None, interaction_constraints=&#x27;&#x27;,\n",
       "              learning_rate=0.300000012, max_bin=256, max_cat_to_onehot=4,\n",
       "              max_delta_step=0, max_depth=6, max_leaves=0, min_child_weight=1,\n",
       "              missing=nan, monotone_constraints=&#x27;()&#x27;, n_estimators=100,\n",
       "              n_jobs=0, num_parallel_tree=1, predictor=&#x27;auto&#x27;, random_state=0,\n",
       "              reg_alpha=0, reg_lambda=1, ...)</pre><b>In a Jupyter environment, please rerun this cell to show the HTML representation or trust the notebook. <br />On GitHub, the HTML representation is unable to render, please try loading this page with nbviewer.org.</b></div><div class=\"sk-container\" hidden><div class=\"sk-item\"><div class=\"sk-estimator sk-toggleable\"><input class=\"sk-toggleable__control sk-hidden--visually\" id=\"sk-estimator-id-7\" type=\"checkbox\" checked><label for=\"sk-estimator-id-7\" class=\"sk-toggleable__label sk-toggleable__label-arrow\">XGBClassifier</label><div class=\"sk-toggleable__content\"><pre>XGBClassifier(base_score=0.5, booster=&#x27;gbtree&#x27;, callbacks=None,\n",
       "              colsample_bylevel=1, colsample_bynode=1, colsample_bytree=1,\n",
       "              early_stopping_rounds=None, enable_categorical=False,\n",
       "              eval_metric=None, gamma=0, gpu_id=-1, grow_policy=&#x27;depthwise&#x27;,\n",
       "              importance_type=None, interaction_constraints=&#x27;&#x27;,\n",
       "              learning_rate=0.300000012, max_bin=256, max_cat_to_onehot=4,\n",
       "              max_delta_step=0, max_depth=6, max_leaves=0, min_child_weight=1,\n",
       "              missing=nan, monotone_constraints=&#x27;()&#x27;, n_estimators=100,\n",
       "              n_jobs=0, num_parallel_tree=1, predictor=&#x27;auto&#x27;, random_state=0,\n",
       "              reg_alpha=0, reg_lambda=1, ...)</pre></div></div></div></div></div>"
      ],
      "text/plain": [
       "XGBClassifier(base_score=0.5, booster='gbtree', callbacks=None,\n",
       "              colsample_bylevel=1, colsample_bynode=1, colsample_bytree=1,\n",
       "              early_stopping_rounds=None, enable_categorical=False,\n",
       "              eval_metric=None, gamma=0, gpu_id=-1, grow_policy='depthwise',\n",
       "              importance_type=None, interaction_constraints='',\n",
       "              learning_rate=0.300000012, max_bin=256, max_cat_to_onehot=4,\n",
       "              max_delta_step=0, max_depth=6, max_leaves=0, min_child_weight=1,\n",
       "              missing=nan, monotone_constraints='()', n_estimators=100,\n",
       "              n_jobs=0, num_parallel_tree=1, predictor='auto', random_state=0,\n",
       "              reg_alpha=0, reg_lambda=1, ...)"
      ]
     },
     "execution_count": 105,
     "metadata": {},
     "output_type": "execute_result"
    }
   ],
   "source": [
    "xgb.fit(X_train_ohe, y_train)"
   ]
  },
  {
   "cell_type": "code",
   "execution_count": 106,
   "id": "658a3a1e",
   "metadata": {},
   "outputs": [],
   "source": [
    "y_pred_xgb = xgb.predict(X_test_ohe)"
   ]
  },
  {
   "cell_type": "code",
   "execution_count": 107,
   "id": "9ef03590",
   "metadata": {},
   "outputs": [
    {
     "name": "stdout",
     "output_type": "stream",
     "text": [
      "XGB Classifier:\n",
      "Accuracy score: 82.15\n",
      "F1 score: 58.55\n",
      "Precision score: 68.43\n"
     ]
    }
   ],
   "source": [
    "print('XGB Classifier:')\n",
    "ac_sc_xgb= round(accuracy_score(y_test, y_pred_xgb) * 100, 2)\n",
    "f1_sc_xgb= round(f1_score(y_test, y_pred_xgb) * 100, 2)\n",
    "pr_sc_xgb= round(precision_score(y_test, y_pred_xgb) * 100, 2)\n",
    "print('Accuracy score:',ac_sc_xgb )\n",
    "print('F1 score:',f1_sc_xgb )\n",
    "print('Precision score:',pr_sc_xgb )"
   ]
  },
  {
   "cell_type": "code",
   "execution_count": 108,
   "id": "c04af550",
   "metadata": {},
   "outputs": [
    {
     "data": {
      "image/png": "[encoded data removed]",
      "text/plain": [
       "<Figure size 720x432 with 1 Axes>"
      ]
     },
     "metadata": {
      "needs_background": "light"
     },
     "output_type": "display_data"
    }
   ],
   "source": [
    "fig = plt.figure()\n",
    "fig.set_size_inches(10,6)\n",
    "ax = fig.add_axes([0,0,1,1])\n",
    "ax.set_ylim(0, 100)\n",
    "plt.ylabel('Score')\n",
    "plt.xlabel('ML Models')\n",
    "plt.title(\"Comparison between the performance of different models\")\n",
    "label = ['DecisionTree', 'KNN', 'RandomForest','LogisticRegression', 'SupportVectorClassifier', 'NaiveBayesClassifier','XGBClassifier']\n",
    "data = [[f1_sc_dt, f1_sc_knn, f1_sc_rf, f1_sc_lr, f1_sc_svc, f1_sc_nb, f1_sc_xgb],[ac_sc_dt, ac_sc_knn, ac_sc_rf, ac_sc_lr, ac_sc_svc, ac_sc_nb, ac_sc_xgb], [pr_sc_dt, pr_sc_knn, pr_sc_rf, pr_sc_lr, pr_sc_svc, pr_sc_nb, pr_sc_xgb]]\n",
    "x = np.arange(len(label))\n",
    "ax.bar(x -0.20,data[1],color='orange',width=0.2, label= 'Accuracy Score')\n",
    "ax.bar(x ,data[0],color='red',width=0.2, alpha=0.6, label= 'F1 Score')\n",
    "ax.bar(x +0.20,data[2],color='blue',width=0.2, alpha=0.6, label= 'Precision Score')\n",
    "ax.set_xticks(x)\n",
    "ax.set_xticklabels(label)\n",
    "plt.xticks(rotation= 45)\n",
    "plt.legend()\n",
    "plt.show()"
   ]
  },
  {
   "cell_type": "code",
   "execution_count": 109,
   "id": "662a8cb3",
   "metadata": {},
   "outputs": [
    {
     "name": "stdout",
     "output_type": "stream",
     "text": [
      "Requirement already satisfied: prettytable in c:\\users\\hp\\anaconda3\\lib\\site-packages (3.4.0)\n",
      "Requirement already satisfied: wcwidth in c:\\users\\hp\\anaconda3\\lib\\site-packages (from prettytable) (0.2.5)\n",
      "Note: you may need to restart the kernel to use updated packages.\n"
     ]
    }
   ],
   "source": [
    "pip install prettytable"
   ]
  },
  {
   "cell_type": "code",
   "execution_count": 110,
   "id": "f30176b3",
   "metadata": {},
   "outputs": [
    {
     "name": "stdout",
     "output_type": "stream",
     "text": [
      "+-------------------------+----------------+----------+-----------+\n",
      "|        ML Models        | Accuracy Score | F1 Score | Precision |\n",
      "+-------------------------+----------------+----------+-----------+\n",
      "|       DecisionTree      |     81.94      |  57.99   |   67.92   |\n",
      "|           KNN           |     80.46      |  56.08   |   62.85   |\n",
      "|       RandomForest      |     81.96      |  58.25   |    67.8   |\n",
      "|    LogisticRegression   |     82.16      |  58.05   |   69.01   |\n",
      "| SupportVectorClassifier |     82.41      |  58.27   |   70.12   |\n",
      "|   NaiveBayesClassifier  |     72.44      |   60.4   |   46.75   |\n",
      "|      XGBClassifier      |     82.15      |  58.55   |   68.43   |\n",
      "+-------------------------+----------------+----------+-----------+\n"
     ]
    }
   ],
   "source": [
    "from prettytable import PrettyTable\n",
    "\n",
    "columns = [\"ML Models\",\"Accuracy Score\", \"F1 Score\", \"Precision Score\"]\n",
    "myTable = PrettyTable()\n",
    "myTable.add_column(columns[0], ['DecisionTree', 'KNN', 'RandomForest','LogisticRegression', 'SupportVectorClassifier', 'NaiveBayesClassifier','XGBClassifier'])\n",
    "myTable.add_column(columns[1], [ac_sc_dt, ac_sc_knn, ac_sc_rf, ac_sc_lr, ac_sc_svc, ac_sc_nb, ac_sc_xgb])\n",
    "myTable.add_column(columns[2], [f1_sc_dt, f1_sc_knn, f1_sc_rf, f1_sc_lr, f1_sc_svc, f1_sc_nb, f1_sc_xgb])\n",
    "myTable.add_column(columns[3], [pr_sc_dt, pr_sc_knn, pr_sc_rf, pr_sc_lr, pr_sc_svc, pr_sc_nb, pr_sc_xgb])\n",
    "\n",
    "print(myTable)\n"
   ]
  },
  {
   "cell_type": "markdown",
   "id": "ab697065",
   "metadata": {},
   "source": [
    "<h1><i>Conclusion</i></h1>\n",
    "<ul><li>The optimized model’s Accuracy score , Precision and F1-score on testing data on Support Vector Classifier are 82.41%, 70.12% and 58.27% respectively.<li>To conclude the project, we can state that it is possible to determine whether a person makes over  a year based on census data, with a reasonable accuracy of 82.41% in the testing step.<li>There are features that are more relevant than others and should be better considered in order to increase the accuracy of the models.<li>We also need to focus on optimization of models' hyper parameters in order to extract the full potential of them.</ul>"
   ]
  }
 ],
 "metadata": {
  "kernelspec": {
   "display_name": "Python 3",
   "language": "python",
   "name": "python3"
  },
  "language_info": {
   "codemirror_mode": {
    "name": "ipython",
    "version": 3
   },
   "file_extension": ".py",
   "mimetype": "text/x-python",
   "name": "python",
   "nbconvert_exporter": "python",
   "pygments_lexer": "ipython3",
   "version": "3.8.8"
  }
 },
 "nbformat": 4,
 "nbformat_minor": 5
}
